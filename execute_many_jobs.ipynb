{
 "cells": [
  {
   "cell_type": "code",
   "execution_count": 1,
   "metadata": {},
   "outputs": [],
   "source": [
    "from qiskit import *"
   ]
  },
  {
   "cell_type": "code",
   "execution_count": 2,
   "metadata": {},
   "outputs": [
    {
     "data": {
      "text/html": [
       "<pre style=\"word-wrap: normal;white-space: pre;line-height: 15px;\">         ┌───┐     ┌─┐   \n",
       "q0_0: |0>┤ H ├──■──┤M├───\n",
       "         └───┘┌─┴─┐└╥┘┌─┐\n",
       "q0_1: |0>─────┤ X ├─╫─┤M├\n",
       "              └───┘ ║ └╥┘\n",
       " c0_0: 0 ═══════════╩══╬═\n",
       "                       ║ \n",
       " c0_1: 0 ══════════════╩═\n",
       "                         </pre>"
      ],
      "text/plain": [
       "<qiskit.visualization.text.TextDrawing at 0x129451eb8>"
      ]
     },
     "execution_count": 2,
     "metadata": {},
     "output_type": "execute_result"
    }
   ],
   "source": [
    "qr = QuantumRegister(2)\n",
    "cr = ClassicalRegister(2)\n",
    "circuit = QuantumCircuit(qr, cr)\n",
    "circuit.h(qr[0])\n",
    "circuit.cx(qr[0],qr[1])\n",
    "circuit.measure(qr, cr)\n",
    "circuit.draw()"
   ]
  },
  {
   "cell_type": "code",
   "execution_count": 3,
   "metadata": {},
   "outputs": [],
   "source": [
    "IBMQ.load_accounts()"
   ]
  },
  {
   "cell_type": "code",
   "execution_count": 4,
   "metadata": {},
   "outputs": [
    {
     "data": {
      "text/plain": [
       "[<IBMQBackend('ibmqx4') from IBMQ()>,\n",
       " <IBMQBackend('ibmqx2') from IBMQ()>,\n",
       " <IBMQBackend('ibmq_16_melbourne') from IBMQ()>,\n",
       " <IBMQSimulator('ibmq_qasm_simulator') from IBMQ()>,\n",
       " <IBMQBackend('ibmq_20_tokyo') from IBMQ(ibm-q-internal, yrk, main)>,\n",
       " <IBMQBackend('ibmq_poughkeepsie') from IBMQ(ibm-q-internal, yrk, main)>,\n",
       " <IBMQSimulator('ibmq_qasm_simulator') from IBMQ(ibm-q-internal, yrk, main)>,\n",
       " <IBMQBackend('ibmq_20_tokyo') from IBMQ(ibm-q-perf, performance, main)>,\n",
       " <IBMQBackend('Bludger') from IBMQ(ibm-q-perf, performance, main)>,\n",
       " <IBMQBackend('Fluffy') from IBMQ(ibm-q-perf, performance, main)>,\n",
       " <IBMQBackend('Hedwig') from IBMQ(ibm-q-perf, performance, main)>,\n",
       " <IBMQBackend('ibmq_poughkeepsie') from IBMQ(ibm-q-perf, performance, main)>,\n",
       " <IBMQBackend('ibmq_qcaas') from IBMQ(ibm-q-perf, performance, main)>,\n",
       " <IBMQSimulator('ibmq_qasm_simulator') from IBMQ(ibm-q-perf, performance, main)>]"
      ]
     },
     "execution_count": 4,
     "metadata": {},
     "output_type": "execute_result"
    }
   ],
   "source": [
    "IBMQ.backends()"
   ]
  },
  {
   "cell_type": "code",
   "execution_count": 5,
   "metadata": {},
   "outputs": [],
   "source": [
    "from qiskit.tools.monitor import job_monitor"
   ]
  },
  {
   "cell_type": "code",
   "execution_count": 6,
   "metadata": {},
   "outputs": [
    {
     "data": {
      "application/vnd.jupyter.widget-view+json": {
       "model_id": "3003dda1a4364279b9e1d664f0630248",
       "version_major": 2,
       "version_minor": 0
      },
      "text/plain": [
       "HTML(value=\"<p style='font-size:16px;'>Job Status: job is being initialized </p>\")"
      ]
     },
     "metadata": {},
     "output_type": "display_data"
    },
    {
     "data": {
      "application/vnd.jupyter.widget-view+json": {
       "model_id": "089c99331298438fa8b2a6eb79db40d9",
       "version_major": 2,
       "version_minor": 0
      },
      "text/plain": [
       "HTML(value=\"<p style='font-size:16px;'>Job Status: job is being initialized </p>\")"
      ]
     },
     "metadata": {},
     "output_type": "display_data"
    },
    {
     "data": {
      "application/vnd.jupyter.widget-view+json": {
       "model_id": "e3aef5f52c294306a6dd3747561c7d46",
       "version_major": 2,
       "version_minor": 0
      },
      "text/plain": [
       "HTML(value=\"<p style='font-size:16px;'>Job Status: job is being initialized </p>\")"
      ]
     },
     "metadata": {},
     "output_type": "display_data"
    },
    {
     "data": {
      "application/vnd.jupyter.widget-view+json": {
       "model_id": "f60562af844d44d795ff63e970fc6852",
       "version_major": 2,
       "version_minor": 0
      },
      "text/plain": [
       "HTML(value=\"<p style='font-size:16px;'>Job Status: job is being initialized </p>\")"
      ]
     },
     "metadata": {},
     "output_type": "display_data"
    },
    {
     "data": {
      "application/vnd.jupyter.widget-view+json": {
       "model_id": "bab1b9df95c84dfa8a97999ec77b1d92",
       "version_major": 2,
       "version_minor": 0
      },
      "text/plain": [
       "HTML(value=\"<p style='font-size:16px;'>Job Status: job is being initialized </p>\")"
      ]
     },
     "metadata": {},
     "output_type": "display_data"
    },
    {
     "data": {
      "application/vnd.jupyter.widget-view+json": {
       "model_id": "40a9cc98c47e4a7f874856955d5d53d9",
       "version_major": 2,
       "version_minor": 0
      },
      "text/plain": [
       "HTML(value=\"<p style='font-size:16px;'>Job Status: job is being initialized </p>\")"
      ]
     },
     "metadata": {},
     "output_type": "display_data"
    },
    {
     "data": {
      "application/vnd.jupyter.widget-view+json": {
       "model_id": "bf34e02730454adbb1c6019c3c0d2668",
       "version_major": 2,
       "version_minor": 0
      },
      "text/plain": [
       "HTML(value=\"<p style='font-size:16px;'>Job Status: job is being initialized </p>\")"
      ]
     },
     "metadata": {},
     "output_type": "display_data"
    },
    {
     "data": {
      "application/vnd.jupyter.widget-view+json": {
       "model_id": "62adfa0d93e4435c996ce7f2f48bcf63",
       "version_major": 2,
       "version_minor": 0
      },
      "text/plain": [
       "HTML(value=\"<p style='font-size:16px;'>Job Status: job is being initialized </p>\")"
      ]
     },
     "metadata": {},
     "output_type": "display_data"
    },
    {
     "data": {
      "application/vnd.jupyter.widget-view+json": {
       "model_id": "4a6848e6596447ec8430c473c6208dd2",
       "version_major": 2,
       "version_minor": 0
      },
      "text/plain": [
       "HTML(value=\"<p style='font-size:16px;'>Job Status: job is being initialized </p>\")"
      ]
     },
     "metadata": {},
     "output_type": "display_data"
    },
    {
     "data": {
      "application/vnd.jupyter.widget-view+json": {
       "model_id": "fc92e44d288b4aa3a080cea59d5b53d2",
       "version_major": 2,
       "version_minor": 0
      },
      "text/plain": [
       "HTML(value=\"<p style='font-size:16px;'>Job Status: job is being initialized </p>\")"
      ]
     },
     "metadata": {},
     "output_type": "display_data"
    }
   ],
   "source": [
    "backend = IBMQ.get_backend('ibmq_qasm_simulator', hub=None)\n",
    "\n",
    "joblist1 = []\n",
    "for i in range(10):\n",
    "    job = execute(circuit, backend)\n",
    "    job_monitor(job, monitor_async=True)\n",
    "    joblist1.append(job)"
   ]
  },
  {
   "cell_type": "code",
   "execution_count": 7,
   "metadata": {},
   "outputs": [
    {
     "name": "stderr",
     "output_type": "stream",
     "text": [
      "Got a 400 code response to /api/Network/ibm-q-internal/Groups/yrk/Projects/main/devices/ibmq_20_tokyo/defaults: {\"error\":{\"status\":400,\"message\":\"Generic error\",\"code\":\"GENERIC_ERROR\"}}\n",
      "Got a 400 code response to /api/Network/ibm-q-internal/Groups/yrk/Projects/main/devices/ibmq_20_tokyo/defaults: {\"error\":{\"status\":400,\"message\":\"Generic error\",\"code\":\"GENERIC_ERROR\"}}\n",
      "Got a 400 code response to /api/Network/ibm-q-internal/Groups/yrk/Projects/main/devices/ibmq_20_tokyo/defaults: {\"error\":{\"status\":400,\"message\":\"Generic error\",\"code\":\"GENERIC_ERROR\"}}\n",
      "Got a 400 code response to /api/Network/ibm-q-internal/Groups/yrk/Projects/main/devices/ibmq_20_tokyo/defaults: {\"error\":{\"status\":400,\"message\":\"Generic error\",\"code\":\"GENERIC_ERROR\"}}\n",
      "Got a 400 code response to /api/Network/ibm-q-internal/Groups/yrk/Projects/main/devices/ibmq_20_tokyo/defaults: {\"error\":{\"status\":400,\"message\":\"Generic error\",\"code\":\"GENERIC_ERROR\"}}\n"
     ]
    },
    {
     "data": {
      "application/vnd.jupyter.widget-view+json": {
       "model_id": "6f5f57a8a9964247af8daa9109ea2161",
       "version_major": 2,
       "version_minor": 0
      },
      "text/plain": [
       "HTML(value=\"<p style='font-size:16px;'>Job Status: job is being initialized </p>\")"
      ]
     },
     "metadata": {},
     "output_type": "display_data"
    },
    {
     "name": "stderr",
     "output_type": "stream",
     "text": [
      "Got a 400 code response to /api/Network/ibm-q-internal/Groups/yrk/Projects/main/devices/ibmq_20_tokyo/defaults: {\"error\":{\"status\":400,\"message\":\"Generic error\",\"code\":\"GENERIC_ERROR\"}}\n",
      "Got a 400 code response to /api/Network/ibm-q-internal/Groups/yrk/Projects/main/devices/ibmq_20_tokyo/defaults: {\"error\":{\"status\":400,\"message\":\"Generic error\",\"code\":\"GENERIC_ERROR\"}}\n",
      "Got a 400 code response to /api/Network/ibm-q-internal/Groups/yrk/Projects/main/devices/ibmq_20_tokyo/defaults: {\"error\":{\"status\":400,\"message\":\"Generic error\",\"code\":\"GENERIC_ERROR\"}}\n",
      "Got a 400 code response to /api/Network/ibm-q-internal/Groups/yrk/Projects/main/devices/ibmq_20_tokyo/defaults: {\"error\":{\"status\":400,\"message\":\"Generic error\",\"code\":\"GENERIC_ERROR\"}}\n",
      "Got a 400 code response to /api/Network/ibm-q-internal/Groups/yrk/Projects/main/devices/ibmq_20_tokyo/defaults: {\"error\":{\"status\":400,\"message\":\"Generic error\",\"code\":\"GENERIC_ERROR\"}}\n"
     ]
    },
    {
     "data": {
      "application/vnd.jupyter.widget-view+json": {
       "model_id": "181d5b1f6ac24f5689634a3c653f08ab",
       "version_major": 2,
       "version_minor": 0
      },
      "text/plain": [
       "HTML(value=\"<p style='font-size:16px;'>Job Status: job is being initialized </p>\")"
      ]
     },
     "metadata": {},
     "output_type": "display_data"
    },
    {
     "name": "stderr",
     "output_type": "stream",
     "text": [
      "Got a 400 code response to /api/Network/ibm-q-internal/Groups/yrk/Projects/main/devices/ibmq_20_tokyo/defaults: {\"error\":{\"status\":400,\"message\":\"Generic error\",\"code\":\"GENERIC_ERROR\"}}\n",
      "Got a 400 code response to /api/Network/ibm-q-internal/Groups/yrk/Projects/main/devices/ibmq_20_tokyo/defaults: {\"error\":{\"status\":400,\"message\":\"Generic error\",\"code\":\"GENERIC_ERROR\"}}\n",
      "Got a 400 code response to /api/Network/ibm-q-internal/Groups/yrk/Projects/main/devices/ibmq_20_tokyo/defaults: {\"error\":{\"status\":400,\"message\":\"Generic error\",\"code\":\"GENERIC_ERROR\"}}\n"
     ]
    },
    {
     "data": {
      "application/vnd.jupyter.widget-view+json": {
       "model_id": "c263b036300b4e1a9fa8c8e518d5acd5",
       "version_major": 2,
       "version_minor": 0
      },
      "text/plain": [
       "HTML(value=\"<p style='font-size:16px;'>Job Status: job is being initialized </p>\")"
      ]
     },
     "metadata": {},
     "output_type": "display_data"
    },
    {
     "name": "stderr",
     "output_type": "stream",
     "text": [
      "Got a 400 code response to /api/Network/ibm-q-internal/Groups/yrk/Projects/main/devices/ibmq_20_tokyo/defaults: {\"error\":{\"status\":400,\"message\":\"Generic error\",\"code\":\"GENERIC_ERROR\"}}\n"
     ]
    },
    {
     "data": {
      "application/vnd.jupyter.widget-view+json": {
       "model_id": "5531b06dbdb1494c91a0ef947578dfbd",
       "version_major": 2,
       "version_minor": 0
      },
      "text/plain": [
       "HTML(value=\"<p style='font-size:16px;'>Job Status: job is being initialized </p>\")"
      ]
     },
     "metadata": {},
     "output_type": "display_data"
    },
    {
     "name": "stderr",
     "output_type": "stream",
     "text": [
      "Got a 400 code response to /api/Network/ibm-q-internal/Groups/yrk/Projects/main/devices/ibmq_20_tokyo/defaults: {\"error\":{\"status\":400,\"message\":\"Generic error\",\"code\":\"GENERIC_ERROR\"}}\n",
      "Got a 400 code response to /api/Network/ibm-q-internal/Groups/yrk/Projects/main/devices/ibmq_20_tokyo/defaults: {\"error\":{\"status\":400,\"message\":\"Generic error\",\"code\":\"GENERIC_ERROR\"}}\n"
     ]
    },
    {
     "data": {
      "application/vnd.jupyter.widget-view+json": {
       "model_id": "ef3e8eeb234c4639be03b41831746cae",
       "version_major": 2,
       "version_minor": 0
      },
      "text/plain": [
       "HTML(value=\"<p style='font-size:16px;'>Job Status: job is being initialized </p>\")"
      ]
     },
     "metadata": {},
     "output_type": "display_data"
    },
    {
     "name": "stderr",
     "output_type": "stream",
     "text": [
      "Got a 400 code response to /api/Network/ibm-q-internal/Groups/yrk/Projects/main/devices/ibmq_20_tokyo/defaults: {\"error\":{\"status\":400,\"message\":\"Generic error\",\"code\":\"GENERIC_ERROR\"}}\n"
     ]
    },
    {
     "data": {
      "application/vnd.jupyter.widget-view+json": {
       "model_id": "f0d9a68b681c420785f58e96fe8b58f8",
       "version_major": 2,
       "version_minor": 0
      },
      "text/plain": [
       "HTML(value=\"<p style='font-size:16px;'>Job Status: job is being initialized </p>\")"
      ]
     },
     "metadata": {},
     "output_type": "display_data"
    },
    {
     "name": "stderr",
     "output_type": "stream",
     "text": [
      "Got a 400 code response to /api/Network/ibm-q-internal/Groups/yrk/Projects/main/devices/ibmq_20_tokyo/defaults: {\"error\":{\"status\":400,\"message\":\"Generic error\",\"code\":\"GENERIC_ERROR\"}}\n"
     ]
    },
    {
     "data": {
      "application/vnd.jupyter.widget-view+json": {
       "model_id": "03295acc10e34c0d9886b24d1499ed66",
       "version_major": 2,
       "version_minor": 0
      },
      "text/plain": [
       "HTML(value=\"<p style='font-size:16px;'>Job Status: job is being initialized </p>\")"
      ]
     },
     "metadata": {},
     "output_type": "display_data"
    },
    {
     "name": "stderr",
     "output_type": "stream",
     "text": [
      "Got a 400 code response to /api/Network/ibm-q-internal/Groups/yrk/Projects/main/devices/ibmq_20_tokyo/defaults: {\"error\":{\"status\":400,\"message\":\"Generic error\",\"code\":\"GENERIC_ERROR\"}}\n",
      "Got a 400 code response to /api/Network/ibm-q-internal/Groups/yrk/Projects/main/devices/ibmq_20_tokyo/defaults: {\"error\":{\"status\":400,\"message\":\"Generic error\",\"code\":\"GENERIC_ERROR\"}}\n",
      "Got a 400 code response to /api/Network/ibm-q-internal/Groups/yrk/Projects/main/devices/ibmq_20_tokyo/defaults: {\"error\":{\"status\":400,\"message\":\"Generic error\",\"code\":\"GENERIC_ERROR\"}}\n",
      "Got a 400 code response to /api/Network/ibm-q-internal/Groups/yrk/Projects/main/devices/ibmq_20_tokyo/defaults: {\"error\":{\"status\":400,\"message\":\"Generic error\",\"code\":\"GENERIC_ERROR\"}}\n"
     ]
    },
    {
     "data": {
      "application/vnd.jupyter.widget-view+json": {
       "model_id": "40f9f853493541188f58aaca7ce6d8bc",
       "version_major": 2,
       "version_minor": 0
      },
      "text/plain": [
       "HTML(value=\"<p style='font-size:16px;'>Job Status: job is being initialized </p>\")"
      ]
     },
     "metadata": {},
     "output_type": "display_data"
    },
    {
     "name": "stderr",
     "output_type": "stream",
     "text": [
      "Got a 400 code response to /api/Network/ibm-q-internal/Groups/yrk/Projects/main/devices/ibmq_20_tokyo/defaults: {\"error\":{\"status\":400,\"message\":\"Generic error\",\"code\":\"GENERIC_ERROR\"}}\n"
     ]
    },
    {
     "data": {
      "application/vnd.jupyter.widget-view+json": {
       "model_id": "94122bf327cc43718679926ce5529d7a",
       "version_major": 2,
       "version_minor": 0
      },
      "text/plain": [
       "HTML(value=\"<p style='font-size:16px;'>Job Status: job is being initialized </p>\")"
      ]
     },
     "metadata": {},
     "output_type": "display_data"
    },
    {
     "name": "stderr",
     "output_type": "stream",
     "text": [
      "Got a 400 code response to /api/Network/ibm-q-internal/Groups/yrk/Projects/main/devices/ibmq_20_tokyo/defaults: {\"error\":{\"status\":400,\"message\":\"Generic error\",\"code\":\"GENERIC_ERROR\"}}\n",
      "Got a 400 code response to /api/Network/ibm-q-internal/Groups/yrk/Projects/main/devices/ibmq_20_tokyo/defaults: {\"error\":{\"status\":400,\"message\":\"Generic error\",\"code\":\"GENERIC_ERROR\"}}\n"
     ]
    },
    {
     "data": {
      "application/vnd.jupyter.widget-view+json": {
       "model_id": "fa7436d9b95647c785a824af786d9ceb",
       "version_major": 2,
       "version_minor": 0
      },
      "text/plain": [
       "HTML(value=\"<p style='font-size:16px;'>Job Status: job is being initialized </p>\")"
      ]
     },
     "metadata": {},
     "output_type": "display_data"
    }
   ],
   "source": [
    "backend = IBMQ.get_backend('ibmq_20_tokyo', hub='ibm-q-internal')\n",
    "joblist2 = []\n",
    "for i in range(10):\n",
    "    job = execute(circuit, backend)\n",
    "    job_monitor(job, monitor_async=True)\n",
    "    joblist2.append(job)"
   ]
  },
  {
   "cell_type": "code",
   "execution_count": 8,
   "metadata": {},
   "outputs": [
    {
     "name": "stderr",
     "output_type": "stream",
     "text": [
      "Got a 400 code response to /api/Network/ibm-q-perf/Groups/performance/Projects/main/devices/ibmq_poughkeepsie/defaults: {\"error\":{\"status\":400,\"message\":\"Generic error\",\"code\":\"GENERIC_ERROR\"}}\n",
      "Got a 400 code response to /api/Network/ibm-q-perf/Groups/performance/Projects/main/devices/ibmq_poughkeepsie/defaults: {\"error\":{\"status\":400,\"message\":\"Generic error\",\"code\":\"GENERIC_ERROR\"}}\n",
      "Got a 400 code response to /api/Network/ibm-q-perf/Groups/performance/Projects/main/devices/ibmq_poughkeepsie/defaults: {\"error\":{\"status\":400,\"message\":\"Generic error\",\"code\":\"GENERIC_ERROR\"}}\n",
      "Got a 400 code response to /api/Network/ibm-q-perf/Groups/performance/Projects/main/devices/ibmq_poughkeepsie/defaults: {\"error\":{\"status\":400,\"message\":\"Generic error\",\"code\":\"GENERIC_ERROR\"}}\n",
      "Got a 400 code response to /api/Network/ibm-q-perf/Groups/performance/Projects/main/devices/ibmq_poughkeepsie/defaults: {\"error\":{\"status\":400,\"message\":\"Generic error\",\"code\":\"GENERIC_ERROR\"}}\n"
     ]
    },
    {
     "data": {
      "application/vnd.jupyter.widget-view+json": {
       "model_id": "a0330e3a88a1404c9642bd6a46bb50ec",
       "version_major": 2,
       "version_minor": 0
      },
      "text/plain": [
       "HTML(value=\"<p style='font-size:16px;'>Job Status: job is being initialized </p>\")"
      ]
     },
     "metadata": {},
     "output_type": "display_data"
    },
    {
     "name": "stderr",
     "output_type": "stream",
     "text": [
      "Got a 400 code response to /api/Network/ibm-q-perf/Groups/performance/Projects/main/devices/ibmq_poughkeepsie/defaults: {\"error\":{\"status\":400,\"message\":\"Generic error\",\"code\":\"GENERIC_ERROR\"}}\n",
      "Got a 400 code response to /api/Network/ibm-q-perf/Groups/performance/Projects/main/devices/ibmq_poughkeepsie/defaults: {\"error\":{\"status\":400,\"message\":\"Generic error\",\"code\":\"GENERIC_ERROR\"}}\n",
      "Got a 400 code response to /api/Network/ibm-q-perf/Groups/performance/Projects/main/devices/ibmq_poughkeepsie/defaults: {\"error\":{\"status\":400,\"message\":\"Generic error\",\"code\":\"GENERIC_ERROR\"}}\n",
      "Got a 400 code response to /api/Network/ibm-q-perf/Groups/performance/Projects/main/devices/ibmq_poughkeepsie/defaults: {\"error\":{\"status\":400,\"message\":\"Generic error\",\"code\":\"GENERIC_ERROR\"}}\n"
     ]
    },
    {
     "data": {
      "application/vnd.jupyter.widget-view+json": {
       "model_id": "184db43d6227493dba98785e82a3ba50",
       "version_major": 2,
       "version_minor": 0
      },
      "text/plain": [
       "HTML(value=\"<p style='font-size:16px;'>Job Status: job is being initialized </p>\")"
      ]
     },
     "metadata": {},
     "output_type": "display_data"
    },
    {
     "name": "stderr",
     "output_type": "stream",
     "text": [
      "Got a 400 code response to /api/Network/ibm-q-perf/Groups/performance/Projects/main/devices/ibmq_poughkeepsie/defaults: {\"error\":{\"status\":400,\"message\":\"Generic error\",\"code\":\"GENERIC_ERROR\"}}\n",
      "Got a 400 code response to /api/Network/ibm-q-perf/Groups/performance/Projects/main/devices/ibmq_poughkeepsie/defaults: {\"error\":{\"status\":400,\"message\":\"Generic error\",\"code\":\"GENERIC_ERROR\"}}\n",
      "Got a 400 code response to /api/Network/ibm-q-perf/Groups/performance/Projects/main/devices/ibmq_poughkeepsie/defaults: {\"error\":{\"status\":400,\"message\":\"Generic error\",\"code\":\"GENERIC_ERROR\"}}\n",
      "Got a 400 code response to /api/Network/ibm-q-perf/Groups/performance/Projects/main/devices/ibmq_poughkeepsie/defaults: {\"error\":{\"status\":400,\"message\":\"Generic error\",\"code\":\"GENERIC_ERROR\"}}\n",
      "Got a 400 code response to /api/Network/ibm-q-perf/Groups/performance/Projects/main/devices/ibmq_poughkeepsie/defaults: {\"error\":{\"status\":400,\"message\":\"Generic error\",\"code\":\"GENERIC_ERROR\"}}\n"
     ]
    },
    {
     "data": {
      "application/vnd.jupyter.widget-view+json": {
       "model_id": "2e85238a23ef47b6aaa616f7c5032be4",
       "version_major": 2,
       "version_minor": 0
      },
      "text/plain": [
       "HTML(value=\"<p style='font-size:16px;'>Job Status: job is being initialized </p>\")"
      ]
     },
     "metadata": {},
     "output_type": "display_data"
    },
    {
     "name": "stderr",
     "output_type": "stream",
     "text": [
      "Got a 400 code response to /api/Network/ibm-q-perf/Groups/performance/Projects/main/devices/ibmq_poughkeepsie/defaults: {\"error\":{\"status\":400,\"message\":\"Generic error\",\"code\":\"GENERIC_ERROR\"}}\n",
      "Got a 400 code response to /api/Network/ibm-q-perf/Groups/performance/Projects/main/devices/ibmq_poughkeepsie/defaults: {\"error\":{\"status\":400,\"message\":\"Generic error\",\"code\":\"GENERIC_ERROR\"}}\n",
      "Got a 400 code response to /api/Network/ibm-q-perf/Groups/performance/Projects/main/devices/ibmq_poughkeepsie/defaults: {\"error\":{\"status\":400,\"message\":\"Generic error\",\"code\":\"GENERIC_ERROR\"}}\n"
     ]
    },
    {
     "data": {
      "application/vnd.jupyter.widget-view+json": {
       "model_id": "20ed355c50344dcd969c9dd5f8fb82e7",
       "version_major": 2,
       "version_minor": 0
      },
      "text/plain": [
       "HTML(value=\"<p style='font-size:16px;'>Job Status: job is being initialized </p>\")"
      ]
     },
     "metadata": {},
     "output_type": "display_data"
    },
    {
     "name": "stderr",
     "output_type": "stream",
     "text": [
      "Got a 400 code response to /api/Network/ibm-q-perf/Groups/performance/Projects/main/devices/ibmq_poughkeepsie/defaults: {\"error\":{\"status\":400,\"message\":\"Generic error\",\"code\":\"GENERIC_ERROR\"}}\n",
      "Got a 400 code response to /api/Network/ibm-q-perf/Groups/performance/Projects/main/devices/ibmq_poughkeepsie/defaults: {\"error\":{\"status\":400,\"message\":\"Generic error\",\"code\":\"GENERIC_ERROR\"}}\n",
      "Got a 400 code response to /api/Network/ibm-q-perf/Groups/performance/Projects/main/devices/ibmq_poughkeepsie/defaults: {\"error\":{\"status\":400,\"message\":\"Generic error\",\"code\":\"GENERIC_ERROR\"}}\n",
      "Got a 400 code response to /api/Network/ibm-q-perf/Groups/performance/Projects/main/devices/ibmq_poughkeepsie/defaults: {\"error\":{\"status\":400,\"message\":\"Generic error\",\"code\":\"GENERIC_ERROR\"}}\n",
      "Got a 400 code response to /api/Network/ibm-q-perf/Groups/performance/Projects/main/devices/ibmq_poughkeepsie/defaults: {\"error\":{\"status\":400,\"message\":\"Generic error\",\"code\":\"GENERIC_ERROR\"}}\n"
     ]
    },
    {
     "data": {
      "application/vnd.jupyter.widget-view+json": {
       "model_id": "f475f8ae7ca040bcbca06e7501677002",
       "version_major": 2,
       "version_minor": 0
      },
      "text/plain": [
       "HTML(value=\"<p style='font-size:16px;'>Job Status: job is being initialized </p>\")"
      ]
     },
     "metadata": {},
     "output_type": "display_data"
    },
    {
     "name": "stderr",
     "output_type": "stream",
     "text": [
      "Got a 400 code response to /api/Network/ibm-q-perf/Groups/performance/Projects/main/devices/ibmq_poughkeepsie/defaults: {\"error\":{\"status\":400,\"message\":\"Generic error\",\"code\":\"GENERIC_ERROR\"}}\n"
     ]
    },
    {
     "data": {
      "application/vnd.jupyter.widget-view+json": {
       "model_id": "4c14b9403b794a9b882c7e1b6931d522",
       "version_major": 2,
       "version_minor": 0
      },
      "text/plain": [
       "HTML(value=\"<p style='font-size:16px;'>Job Status: job is being initialized </p>\")"
      ]
     },
     "metadata": {},
     "output_type": "display_data"
    },
    {
     "name": "stderr",
     "output_type": "stream",
     "text": [
      "Got a 400 code response to /api/Network/ibm-q-perf/Groups/performance/Projects/main/devices/ibmq_poughkeepsie/defaults: {\"error\":{\"status\":400,\"message\":\"Generic error\",\"code\":\"GENERIC_ERROR\"}}\n",
      "Got a 400 code response to /api/Network/ibm-q-perf/Groups/performance/Projects/main/devices/ibmq_poughkeepsie/defaults: {\"error\":{\"status\":400,\"message\":\"Generic error\",\"code\":\"GENERIC_ERROR\"}}\n",
      "Got a 400 code response to /api/Network/ibm-q-perf/Groups/performance/Projects/main/devices/ibmq_poughkeepsie/defaults: {\"error\":{\"status\":400,\"message\":\"Generic error\",\"code\":\"GENERIC_ERROR\"}}\n",
      "Got a 400 code response to /api/Network/ibm-q-perf/Groups/performance/Projects/main/devices/ibmq_poughkeepsie/defaults: {\"error\":{\"status\":400,\"message\":\"Generic error\",\"code\":\"GENERIC_ERROR\"}}\n",
      "Got a 400 code response to /api/Network/ibm-q-perf/Groups/performance/Projects/main/devices/ibmq_poughkeepsie/defaults: {\"error\":{\"status\":400,\"message\":\"Generic error\",\"code\":\"GENERIC_ERROR\"}}\n"
     ]
    },
    {
     "data": {
      "application/vnd.jupyter.widget-view+json": {
       "model_id": "b81abceb512446e2a89897bfbbb00bed",
       "version_major": 2,
       "version_minor": 0
      },
      "text/plain": [
       "HTML(value=\"<p style='font-size:16px;'>Job Status: job is being initialized </p>\")"
      ]
     },
     "metadata": {},
     "output_type": "display_data"
    },
    {
     "name": "stderr",
     "output_type": "stream",
     "text": [
      "Got a 400 code response to /api/Network/ibm-q-perf/Groups/performance/Projects/main/devices/ibmq_poughkeepsie/defaults: {\"error\":{\"status\":400,\"message\":\"Generic error\",\"code\":\"GENERIC_ERROR\"}}\n"
     ]
    },
    {
     "data": {
      "application/vnd.jupyter.widget-view+json": {
       "model_id": "9479766ce1784647b25eeb11be3f9d13",
       "version_major": 2,
       "version_minor": 0
      },
      "text/plain": [
       "HTML(value=\"<p style='font-size:16px;'>Job Status: job is being initialized </p>\")"
      ]
     },
     "metadata": {},
     "output_type": "display_data"
    },
    {
     "name": "stderr",
     "output_type": "stream",
     "text": [
      "Got a 400 code response to /api/Network/ibm-q-perf/Groups/performance/Projects/main/devices/ibmq_poughkeepsie/defaults: {\"error\":{\"status\":400,\"message\":\"Generic error\",\"code\":\"GENERIC_ERROR\"}}\n",
      "Got a 400 code response to /api/Network/ibm-q-perf/Groups/performance/Projects/main/devices/ibmq_poughkeepsie/defaults: {\"error\":{\"status\":400,\"message\":\"Generic error\",\"code\":\"GENERIC_ERROR\"}}\n",
      "Got a 400 code response to /api/Network/ibm-q-perf/Groups/performance/Projects/main/devices/ibmq_poughkeepsie/defaults: {\"error\":{\"status\":400,\"message\":\"Generic error\",\"code\":\"GENERIC_ERROR\"}}\n",
      "Got a 400 code response to /api/Network/ibm-q-perf/Groups/performance/Projects/main/devices/ibmq_poughkeepsie/defaults: {\"error\":{\"status\":400,\"message\":\"Generic error\",\"code\":\"GENERIC_ERROR\"}}\n"
     ]
    },
    {
     "data": {
      "application/vnd.jupyter.widget-view+json": {
       "model_id": "f2725ae03e884887b7bfdd21ee9b0e17",
       "version_major": 2,
       "version_minor": 0
      },
      "text/plain": [
       "HTML(value=\"<p style='font-size:16px;'>Job Status: job is being initialized </p>\")"
      ]
     },
     "metadata": {},
     "output_type": "display_data"
    },
    {
     "name": "stderr",
     "output_type": "stream",
     "text": [
      "Got a 400 code response to /api/Network/ibm-q-perf/Groups/performance/Projects/main/devices/ibmq_poughkeepsie/defaults: {\"error\":{\"status\":400,\"message\":\"Generic error\",\"code\":\"GENERIC_ERROR\"}}\n"
     ]
    },
    {
     "data": {
      "application/vnd.jupyter.widget-view+json": {
       "model_id": "3eab43f2e63140f08ee205b0a0279f46",
       "version_major": 2,
       "version_minor": 0
      },
      "text/plain": [
       "HTML(value=\"<p style='font-size:16px;'>Job Status: job is being initialized </p>\")"
      ]
     },
     "metadata": {},
     "output_type": "display_data"
    }
   ],
   "source": [
    "backend = IBMQ.get_backend('ibmq_poughkeepsie', hub='ibm-q-perf')\n",
    "joblist5 = []\n",
    "for i in range(10):\n",
    "    job = execute(circuit, backend)\n",
    "    job_monitor(job, monitor_async=True)\n",
    "    joblist5.append(job)"
   ]
  },
  {
   "cell_type": "code",
   "execution_count": 9,
   "metadata": {},
   "outputs": [
    {
     "data": {
      "application/vnd.jupyter.widget-view+json": {
       "model_id": "d57d9c42b4f84aaa9422dc512c6121d9",
       "version_major": 2,
       "version_minor": 0
      },
      "text/plain": [
       "HTML(value=\"<p style='font-size:16px;'>Job Status: job is being initialized </p>\")"
      ]
     },
     "metadata": {},
     "output_type": "display_data"
    },
    {
     "data": {
      "application/vnd.jupyter.widget-view+json": {
       "model_id": "8275ed638e5a43f19676448941c1f88a",
       "version_major": 2,
       "version_minor": 0
      },
      "text/plain": [
       "HTML(value=\"<p style='font-size:16px;'>Job Status: job is being initialized </p>\")"
      ]
     },
     "metadata": {},
     "output_type": "display_data"
    },
    {
     "data": {
      "application/vnd.jupyter.widget-view+json": {
       "model_id": "074bb538c9ea45df889a4f5a51736fb1",
       "version_major": 2,
       "version_minor": 0
      },
      "text/plain": [
       "HTML(value=\"<p style='font-size:16px;'>Job Status: job is being initialized </p>\")"
      ]
     },
     "metadata": {},
     "output_type": "display_data"
    },
    {
     "data": {
      "application/vnd.jupyter.widget-view+json": {
       "model_id": "daa307541abe466ab82335af9041e293",
       "version_major": 2,
       "version_minor": 0
      },
      "text/plain": [
       "HTML(value=\"<p style='font-size:16px;'>Job Status: job is being initialized </p>\")"
      ]
     },
     "metadata": {},
     "output_type": "display_data"
    },
    {
     "data": {
      "application/vnd.jupyter.widget-view+json": {
       "model_id": "ad9dda524928438d8bd2012264faadbc",
       "version_major": 2,
       "version_minor": 0
      },
      "text/plain": [
       "HTML(value=\"<p style='font-size:16px;'>Job Status: job is being initialized </p>\")"
      ]
     },
     "metadata": {},
     "output_type": "display_data"
    },
    {
     "data": {
      "application/vnd.jupyter.widget-view+json": {
       "model_id": "e863c1d977494d7fa9fcc4c0c97c201e",
       "version_major": 2,
       "version_minor": 0
      },
      "text/plain": [
       "HTML(value=\"<p style='font-size:16px;'>Job Status: job is being initialized </p>\")"
      ]
     },
     "metadata": {},
     "output_type": "display_data"
    },
    {
     "data": {
      "application/vnd.jupyter.widget-view+json": {
       "model_id": "5509028e676a4683974723a03bf04da4",
       "version_major": 2,
       "version_minor": 0
      },
      "text/plain": [
       "HTML(value=\"<p style='font-size:16px;'>Job Status: job is being initialized </p>\")"
      ]
     },
     "metadata": {},
     "output_type": "display_data"
    },
    {
     "data": {
      "application/vnd.jupyter.widget-view+json": {
       "model_id": "2bfb792d6b75437cb2d20f5275ffedd4",
       "version_major": 2,
       "version_minor": 0
      },
      "text/plain": [
       "HTML(value=\"<p style='font-size:16px;'>Job Status: job is being initialized </p>\")"
      ]
     },
     "metadata": {},
     "output_type": "display_data"
    },
    {
     "data": {
      "application/vnd.jupyter.widget-view+json": {
       "model_id": "94748242398f4543b3def14c2b59eeda",
       "version_major": 2,
       "version_minor": 0
      },
      "text/plain": [
       "HTML(value=\"<p style='font-size:16px;'>Job Status: job is being initialized </p>\")"
      ]
     },
     "metadata": {},
     "output_type": "display_data"
    },
    {
     "data": {
      "application/vnd.jupyter.widget-view+json": {
       "model_id": "11f8ed38f6bc43baa3898f9df8194156",
       "version_major": 2,
       "version_minor": 0
      },
      "text/plain": [
       "HTML(value=\"<p style='font-size:16px;'>Job Status: job is being initialized </p>\")"
      ]
     },
     "metadata": {},
     "output_type": "display_data"
    }
   ],
   "source": [
    "backend = IBMQ.get_backend('ibmq_16_melbourne')\n",
    "joblist4 = []\n",
    "for i in range(10):\n",
    "    job = execute(circuit, backend)\n",
    "    job_monitor(job, monitor_async=True)\n",
    "    joblist4.append(job)"
   ]
  },
  {
   "cell_type": "code",
   "execution_count": 10,
   "metadata": {},
   "outputs": [
    {
     "data": {
      "application/vnd.jupyter.widget-view+json": {
       "model_id": "e536acce1e674ab1bafad7db1e616579",
       "version_major": 2,
       "version_minor": 0
      },
      "text/plain": [
       "HTML(value=\"<p style='font-size:16px;'>Job Status: job is being initialized </p>\")"
      ]
     },
     "metadata": {},
     "output_type": "display_data"
    },
    {
     "data": {
      "application/vnd.jupyter.widget-view+json": {
       "model_id": "c15918bac0ba4fc584572595a11c0094",
       "version_major": 2,
       "version_minor": 0
      },
      "text/plain": [
       "HTML(value=\"<p style='font-size:16px;'>Job Status: job is being initialized </p>\")"
      ]
     },
     "metadata": {},
     "output_type": "display_data"
    },
    {
     "data": {
      "application/vnd.jupyter.widget-view+json": {
       "model_id": "09516fbaa2bf4b06a2c063a2ccd04eb0",
       "version_major": 2,
       "version_minor": 0
      },
      "text/plain": [
       "HTML(value=\"<p style='font-size:16px;'>Job Status: job is being initialized </p>\")"
      ]
     },
     "metadata": {},
     "output_type": "display_data"
    },
    {
     "data": {
      "application/vnd.jupyter.widget-view+json": {
       "model_id": "5f9df7417eb34a23ba60566889f7478e",
       "version_major": 2,
       "version_minor": 0
      },
      "text/plain": [
       "HTML(value=\"<p style='font-size:16px;'>Job Status: job is being initialized </p>\")"
      ]
     },
     "metadata": {},
     "output_type": "display_data"
    },
    {
     "data": {
      "application/vnd.jupyter.widget-view+json": {
       "model_id": "eeba61d48a604d4d8fa04ef16f5d13a8",
       "version_major": 2,
       "version_minor": 0
      },
      "text/plain": [
       "HTML(value=\"<p style='font-size:16px;'>Job Status: job is being initialized </p>\")"
      ]
     },
     "metadata": {},
     "output_type": "display_data"
    },
    {
     "data": {
      "application/vnd.jupyter.widget-view+json": {
       "model_id": "a87961c0d08a49a695091103cef3a08b",
       "version_major": 2,
       "version_minor": 0
      },
      "text/plain": [
       "HTML(value=\"<p style='font-size:16px;'>Job Status: job is being initialized </p>\")"
      ]
     },
     "metadata": {},
     "output_type": "display_data"
    },
    {
     "data": {
      "application/vnd.jupyter.widget-view+json": {
       "model_id": "272a748c6c024b6a995d50bc40d6b4e7",
       "version_major": 2,
       "version_minor": 0
      },
      "text/plain": [
       "HTML(value=\"<p style='font-size:16px;'>Job Status: job is being initialized </p>\")"
      ]
     },
     "metadata": {},
     "output_type": "display_data"
    },
    {
     "data": {
      "application/vnd.jupyter.widget-view+json": {
       "model_id": "b074605e71304fa3bb545bc25e1c134a",
       "version_major": 2,
       "version_minor": 0
      },
      "text/plain": [
       "HTML(value=\"<p style='font-size:16px;'>Job Status: job is being initialized </p>\")"
      ]
     },
     "metadata": {},
     "output_type": "display_data"
    },
    {
     "data": {
      "application/vnd.jupyter.widget-view+json": {
       "model_id": "bd3bfdd66c704f8fba8fbad391839cc4",
       "version_major": 2,
       "version_minor": 0
      },
      "text/plain": [
       "HTML(value=\"<p style='font-size:16px;'>Job Status: job is being initialized </p>\")"
      ]
     },
     "metadata": {},
     "output_type": "display_data"
    },
    {
     "data": {
      "application/vnd.jupyter.widget-view+json": {
       "model_id": "358f7a17002546848539018570fe4d70",
       "version_major": 2,
       "version_minor": 0
      },
      "text/plain": [
       "HTML(value=\"<p style='font-size:16px;'>Job Status: job is being initialized </p>\")"
      ]
     },
     "metadata": {},
     "output_type": "display_data"
    }
   ],
   "source": [
    "backend = IBMQ.get_backend('ibmqx4')\n",
    "joblist3 = []\n",
    "for i in range(10):\n",
    "    job = execute(circuit, backend)\n",
    "    job_monitor(job, monitor_async=True)\n",
    "    joblist3.append(job)"
   ]
  },
  {
   "cell_type": "code",
   "execution_count": 11,
   "metadata": {},
   "outputs": [
    {
     "data": {
      "text/plain": [
       "[{'11': 500, '00': 524},\n",
       " {'11': 509, '00': 515},\n",
       " {'11': 504, '00': 520},\n",
       " {'11': 526, '00': 498},\n",
       " {'11': 517, '00': 507},\n",
       " {'11': 504, '00': 520},\n",
       " {'11': 488, '00': 536},\n",
       " {'11': 513, '00': 511},\n",
       " {'11': 534, '00': 490},\n",
       " {'11': 513, '00': 511}]"
      ]
     },
     "execution_count": 11,
     "metadata": {},
     "output_type": "execute_result"
    }
   ],
   "source": [
    "countlist = []\n",
    "for job in joblist1:\n",
    "    countlist.append(job.result().get_counts())\n",
    "countlist"
   ]
  },
  {
   "cell_type": "code",
   "execution_count": 16,
   "metadata": {},
   "outputs": [
    {
     "data": {
      "text/plain": [
       "[{'01': 30, '11': 443, '10': 32, '00': 519},\n",
       " {'01': 28, '11': 452, '10': 38, '00': 506},\n",
       " {'01': 37, '11': 451, '10': 31, '00': 505},\n",
       " {'01': 24, '11': 455, '10': 34, '00': 511},\n",
       " {'01': 29, '11': 452, '10': 35, '00': 508},\n",
       " {'01': 34, '11': 446, '10': 38, '00': 506},\n",
       " {'01': 24, '11': 446, '10': 34, '00': 520},\n",
       " {'01': 24, '11': 452, '10': 30, '00': 518},\n",
       " {'01': 31, '11': 421, '10': 37, '00': 535},\n",
       " {'01': 30, '11': 473, '10': 39, '00': 482}]"
      ]
     },
     "execution_count": 16,
     "metadata": {},
     "output_type": "execute_result"
    }
   ],
   "source": [
    "countlist = []\n",
    "for job in joblist2:\n",
    "    countlist.append(job.result().get_counts())\n",
    "countlist"
   ]
  },
  {
   "cell_type": "code",
   "execution_count": 13,
   "metadata": {},
   "outputs": [
    {
     "data": {
      "text/plain": [
       "[{'10': 60, '11': 293, '01': 135, '00': 536},\n",
       " {'10': 66, '11': 275, '01': 164, '00': 519},\n",
       " {'10': 62, '11': 274, '01': 200, '00': 488},\n",
       " {'10': 65, '11': 263, '01': 164, '00': 532},\n",
       " {'10': 59, '11': 264, '01': 168, '00': 533},\n",
       " {'10': 67, '11': 247, '01': 190, '00': 520},\n",
       " {'10': 65, '11': 246, '01': 164, '00': 549},\n",
       " {'10': 51, '11': 243, '01': 166, '00': 564},\n",
       " {'10': 75, '11': 250, '01': 198, '00': 501},\n",
       " {'10': 67, '11': 240, '01': 182, '00': 535}]"
      ]
     },
     "execution_count": 13,
     "metadata": {},
     "output_type": "execute_result"
    }
   ],
   "source": [
    "countlist = []\n",
    "for job in joblist3:\n",
    "    countlist.append(job.result().get_counts())\n",
    "countlist"
   ]
  },
  {
   "cell_type": "code",
   "execution_count": 14,
   "metadata": {},
   "outputs": [
    {
     "data": {
      "text/plain": [
       "[{'10': 202, '11': 305, '01': 134, '00': 383},\n",
       " {'10': 167, '11': 304, '01': 172, '00': 381},\n",
       " {'10': 200, '11': 282, '01': 161, '00': 381},\n",
       " {'10': 191, '11': 296, '01': 169, '00': 368},\n",
       " {'10': 172, '11': 305, '01': 149, '00': 398},\n",
       " {'10': 188, '11': 300, '01': 168, '00': 368},\n",
       " {'10': 209, '11': 268, '01': 201, '00': 346},\n",
       " {'10': 201, '11': 280, '01': 162, '00': 381},\n",
       " {'10': 207, '11': 300, '01': 148, '00': 369},\n",
       " {'10': 210, '11': 279, '01': 168, '00': 367}]"
      ]
     },
     "execution_count": 14,
     "metadata": {},
     "output_type": "execute_result"
    }
   ],
   "source": [
    "countlist = []\n",
    "for job in joblist4:\n",
    "    countlist.append(job.result().get_counts())\n",
    "countlist"
   ]
  },
  {
   "cell_type": "code",
   "execution_count": 15,
   "metadata": {},
   "outputs": [
    {
     "data": {
      "text/plain": [
       "[{'01': 31, '11': 423, '10': 38, '00': 532},\n",
       " {'01': 36, '11': 450, '10': 30, '00': 508},\n",
       " {'01': 39, '11': 436, '10': 35, '00': 514},\n",
       " {'01': 27, '11': 437, '10': 47, '00': 513},\n",
       " {'01': 31, '11': 433, '10': 36, '00': 524},\n",
       " {'01': 33, '11': 421, '10': 30, '00': 540},\n",
       " {'01': 24, '11': 453, '10': 40, '00': 507},\n",
       " {'01': 34, '11': 454, '10': 23, '00': 513},\n",
       " {'01': 26, '11': 464, '10': 23, '00': 511},\n",
       " {'01': 29, '11': 428, '10': 35, '00': 532}]"
      ]
     },
     "execution_count": 15,
     "metadata": {},
     "output_type": "execute_result"
    }
   ],
   "source": [
    "countlist = []\n",
    "for job in joblist5:\n",
    "    countlist.append(job.result().get_counts())\n",
    "countlist"
   ]
  },
  {
   "cell_type": "code",
   "execution_count": null,
   "metadata": {},
   "outputs": [],
   "source": []
  }
 ],
 "metadata": {
  "kernelspec": {
   "display_name": "Python 3",
   "language": "python",
   "name": "python3"
  },
  "language_info": {
   "codemirror_mode": {
    "name": "ipython",
    "version": 3
   },
   "file_extension": ".py",
   "mimetype": "text/x-python",
   "name": "python",
   "nbconvert_exporter": "python",
   "pygments_lexer": "ipython3",
   "version": "3.7.1"
  }
 },
 "nbformat": 4,
 "nbformat_minor": 2
}
