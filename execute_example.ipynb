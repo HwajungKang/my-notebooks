{
 "cells": [
  {
   "cell_type": "code",
   "execution_count": 1,
   "metadata": {},
   "outputs": [],
   "source": [
    "from qiskit import *"
   ]
  },
  {
   "cell_type": "code",
   "execution_count": 2,
   "metadata": {},
   "outputs": [
    {
     "data": {
      "text/html": [
       "<pre style=\"word-wrap: normal;white-space: pre;line-height: 15px;\">         ┌───┐     ┌─┐   \n",
       "q0_0: |0>┤ H ├──■──┤M├───\n",
       "         └───┘┌─┴─┐└╥┘┌─┐\n",
       "q0_1: |0>─────┤ X ├─╫─┤M├\n",
       "              └───┘ ║ └╥┘\n",
       " c0_0: 0 ═══════════╩══╬═\n",
       "                       ║ \n",
       " c0_1: 0 ══════════════╩═\n",
       "                         </pre>"
      ],
      "text/plain": [
       "<qiskit.visualization.text.TextDrawing at 0x11d009d30>"
      ]
     },
     "execution_count": 2,
     "metadata": {},
     "output_type": "execute_result"
    }
   ],
   "source": [
    "qr = QuantumRegister(2)\n",
    "cr = ClassicalRegister(2)\n",
    "circuit = QuantumCircuit(qr, cr)\n",
    "circuit.h(qr[0])\n",
    "circuit.cx(qr[0],qr[1])\n",
    "circuit.measure(qr, cr)\n",
    "circuit.draw()"
   ]
  },
  {
   "cell_type": "code",
   "execution_count": 3,
   "metadata": {},
   "outputs": [
    {
     "data": {
      "text/plain": [
       "[<QasmSimulatorPy('qasm_simulator') from BasicAer()>,\n",
       " <StatevectorSimulatorPy('statevector_simulator') from BasicAer()>,\n",
       " <UnitarySimulatorPy('unitary_simulator') from BasicAer()>]"
      ]
     },
     "execution_count": 3,
     "metadata": {},
     "output_type": "execute_result"
    }
   ],
   "source": [
    "BasicAer.backends()"
   ]
  },
  {
   "cell_type": "code",
   "execution_count": 4,
   "metadata": {},
   "outputs": [
    {
     "data": {
      "text/plain": [
       "[<QasmSimulator('qasm_simulator') from AerProvider()>,\n",
       " <StatevectorSimulator('statevector_simulator') from AerProvider()>,\n",
       " <UnitarySimulator('unitary_simulator') from AerProvider()>]"
      ]
     },
     "execution_count": 4,
     "metadata": {},
     "output_type": "execute_result"
    }
   ],
   "source": [
    "Aer.backends()"
   ]
  },
  {
   "cell_type": "code",
   "execution_count": 5,
   "metadata": {},
   "outputs": [],
   "source": [
    "IBMQ.load_accounts()"
   ]
  },
  {
   "cell_type": "code",
   "execution_count": 6,
   "metadata": {},
   "outputs": [
    {
     "data": {
      "text/plain": [
       "[<IBMQBackend('ibmqx4') from IBMQ()>,\n",
       " <IBMQBackend('ibmqx2') from IBMQ()>,\n",
       " <IBMQBackend('ibmq_16_melbourne') from IBMQ()>,\n",
       " <IBMQSimulator('ibmq_qasm_simulator') from IBMQ()>,\n",
       " <IBMQBackend('ibmq_20_tokyo') from IBMQ(ibm-q-internal, yrk, main)>,\n",
       " <IBMQBackend('ibmq_poughkeepsie') from IBMQ(ibm-q-internal, yrk, main)>,\n",
       " <IBMQSimulator('ibmq_qasm_simulator') from IBMQ(ibm-q-internal, yrk, main)>,\n",
       " <IBMQBackend('ibmq_20_tokyo') from IBMQ(ibm-q-perf, performance, main)>,\n",
       " <IBMQBackend('Bludger') from IBMQ(ibm-q-perf, performance, main)>,\n",
       " <IBMQBackend('Fluffy') from IBMQ(ibm-q-perf, performance, main)>,\n",
       " <IBMQBackend('Hedwig') from IBMQ(ibm-q-perf, performance, main)>,\n",
       " <IBMQBackend('ibmq_poughkeepsie') from IBMQ(ibm-q-perf, performance, main)>,\n",
       " <IBMQBackend('ibmq_qcaas') from IBMQ(ibm-q-perf, performance, main)>,\n",
       " <IBMQSimulator('ibmq_qasm_simulator') from IBMQ(ibm-q-perf, performance, main)>]"
      ]
     },
     "execution_count": 6,
     "metadata": {},
     "output_type": "execute_result"
    }
   ],
   "source": [
    "IBMQ.backends()"
   ]
  },
  {
   "cell_type": "code",
   "execution_count": 7,
   "metadata": {},
   "outputs": [],
   "source": [
    "from qiskit.tools.monitor import job_monitor"
   ]
  },
  {
   "cell_type": "code",
   "execution_count": 8,
   "metadata": {},
   "outputs": [
    {
     "name": "stdout",
     "output_type": "stream",
     "text": [
      "{'00': 511, '11': 513}\n"
     ]
    }
   ],
   "source": [
    "backend = BasicAer.get_backend('qasm_simulator')\n",
    "job = execute(circuit, backend)\n",
    "result = job.result()\n",
    "counts1 = result.get_counts()\n",
    "print(counts1)"
   ]
  },
  {
   "cell_type": "code",
   "execution_count": 9,
   "metadata": {},
   "outputs": [
    {
     "name": "stdout",
     "output_type": "stream",
     "text": [
      "Job Status: job has successfully run\n",
      "{'00': 505, '11': 519}\n"
     ]
    }
   ],
   "source": [
    "backend = IBMQ.get_backend('ibmq_qasm_simulator', hub=None)\n",
    "job = execute(circuit, backend)\n",
    "job_monitor(job)\n",
    "result = job.result()\n",
    "counts2 = result.get_counts()\n",
    "print(counts2)"
   ]
  },
  {
   "cell_type": "code",
   "execution_count": 10,
   "metadata": {},
   "outputs": [
    {
     "name": "stderr",
     "output_type": "stream",
     "text": [
      "Got a 400 code response to /api/Network/ibm-q-internal/Groups/yrk/Projects/main/devices/ibmq_qasm_simulator/defaults: {\"error\":{\"status\":400,\"message\":\"Generic error\",\"code\":\"GENERIC_ERROR\"}}\n",
      "Got a 400 code response to /api/Network/ibm-q-internal/Groups/yrk/Projects/main/devices/ibmq_qasm_simulator/defaults: {\"error\":{\"status\":400,\"message\":\"Generic error\",\"code\":\"GENERIC_ERROR\"}}\n",
      "Got a 400 code response to /api/Network/ibm-q-internal/Groups/yrk/Projects/main/devices/ibmq_qasm_simulator/defaults: {\"error\":{\"status\":400,\"message\":\"Generic error\",\"code\":\"GENERIC_ERROR\"}}\n",
      "Got a 400 code response to /api/Network/ibm-q-internal/Groups/yrk/Projects/main/devices/ibmq_qasm_simulator/defaults: {\"error\":{\"status\":400,\"message\":\"Generic error\",\"code\":\"GENERIC_ERROR\"}}\n",
      "Got a 400 code response to /api/Network/ibm-q-internal/Groups/yrk/Projects/main/devices/ibmq_qasm_simulator/defaults: {\"error\":{\"status\":400,\"message\":\"Generic error\",\"code\":\"GENERIC_ERROR\"}}\n"
     ]
    },
    {
     "name": "stdout",
     "output_type": "stream",
     "text": [
      "{'00': 503, '11': 521}\n"
     ]
    }
   ],
   "source": [
    "backend = IBMQ.get_backend('ibmq_qasm_simulator', hub='ibm-q-internal')\n",
    "job = execute(circuit, backend)\n",
    "# job_monitor(job)\n",
    "result = job.result()\n",
    "counts3 = result.get_counts()\n",
    "print(counts3)"
   ]
  },
  {
   "cell_type": "code",
   "execution_count": 12,
   "metadata": {},
   "outputs": [
    {
     "name": "stdout",
     "output_type": "stream",
     "text": [
      "Job Status: job has successfully run\n",
      "{'00': 465, '01': 166, '11': 305, '10': 88}\n"
     ]
    }
   ],
   "source": [
    "backend = IBMQ.get_backend('ibmqx4')\n",
    "job = execute(circuit, backend)\n",
    "job_monitor(job)\n",
    "result = job.result()\n",
    "counts4 = result.get_counts()\n",
    "print(counts4)"
   ]
  },
  {
   "cell_type": "code",
   "execution_count": 13,
   "metadata": {},
   "outputs": [
    {
     "name": "stderr",
     "output_type": "stream",
     "text": [
      "Got a 400 code response to /api/Network/ibm-q-internal/Groups/yrk/Projects/main/devices/ibmq_20_tokyo/defaults: {\"error\":{\"status\":400,\"message\":\"Generic error\",\"code\":\"GENERIC_ERROR\"}}\n",
      "Got a 400 code response to /api/Network/ibm-q-internal/Groups/yrk/Projects/main/devices/ibmq_20_tokyo/defaults: {\"error\":{\"status\":400,\"message\":\"Generic error\",\"code\":\"GENERIC_ERROR\"}}\n",
      "Got a 400 code response to /api/Network/ibm-q-internal/Groups/yrk/Projects/main/devices/ibmq_20_tokyo/defaults: {\"error\":{\"status\":400,\"message\":\"Generic error\",\"code\":\"GENERIC_ERROR\"}}\n",
      "Got a 400 code response to /api/Network/ibm-q-internal/Groups/yrk/Projects/main/devices/ibmq_20_tokyo/defaults: {\"error\":{\"status\":400,\"message\":\"Generic error\",\"code\":\"GENERIC_ERROR\"}}\n",
      "Got a 400 code response to /api/Network/ibm-q-internal/Groups/yrk/Projects/main/devices/ibmq_20_tokyo/defaults: {\"error\":{\"status\":400,\"message\":\"Generic error\",\"code\":\"GENERIC_ERROR\"}}\n"
     ]
    },
    {
     "name": "stdout",
     "output_type": "stream",
     "text": [
      "Job Status: job has successfully run\n",
      "{'00': 503, '01': 31, '11': 460, '10': 30}\n"
     ]
    }
   ],
   "source": [
    "backend = IBMQ.get_backend('ibmq_20_tokyo', hub='ibm-q-internal')\n",
    "job = execute(circuit, backend)\n",
    "job_monitor(job)\n",
    "result = job.result()\n",
    "counts5 = result.get_counts()\n",
    "print(counts5)"
   ]
  },
  {
   "cell_type": "code",
   "execution_count": 14,
   "metadata": {},
   "outputs": [],
   "source": [
    "from qiskit.visualization import plot_histogram"
   ]
  },
  {
   "cell_type": "code",
   "execution_count": 15,
   "metadata": {},
   "outputs": [
    {
     "data": {
      "image/png": "[encoded data removed]",
      "text/plain": [
       "<Figure size 504x360 with 1 Axes>"
      ]
     },
     "execution_count": 15,
     "metadata": {},
     "output_type": "execute_result"
    }
   ],
   "source": [
    "plot_histogram([counts1,counts4, counts5])"
   ]
  },
  {
   "cell_type": "code",
   "execution_count": null,
   "metadata": {},
   "outputs": [],
   "source": []
  },
  {
   "cell_type": "code",
   "execution_count": null,
   "metadata": {},
   "outputs": [],
   "source": []
  },
  {
   "cell_type": "code",
   "execution_count": null,
   "metadata": {},
   "outputs": [],
   "source": []
  }
 ],
 "metadata": {
  "kernelspec": {
   "display_name": "Python 3",
   "language": "python",
   "name": "python3"
  },
  "language_info": {
   "codemirror_mode": {
    "name": "ipython",
    "version": 3
   },
   "file_extension": ".py",
   "mimetype": "text/x-python",
   "name": "python",
   "nbconvert_exporter": "python",
   "pygments_lexer": "ipython3",
   "version": "3.7.1"
  }
 },
 "nbformat": 4,
 "nbformat_minor": 2
}
