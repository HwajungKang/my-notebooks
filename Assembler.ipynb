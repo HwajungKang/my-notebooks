{
 "cells": [
  {
   "cell_type": "code",
   "execution_count": 14,
   "metadata": {},
   "outputs": [],
   "source": [
    "from qiskit import *\n",
    "from qiskit.assembler.run_config import RunConfig\n",
    "from qiskit.compiler import transpile"
   ]
  },
  {
   "cell_type": "code",
   "execution_count": 15,
   "metadata": {},
   "outputs": [
    {
     "data": {
      "text/html": [
       "<pre style=\"word-wrap: normal;white-space: pre;background: #fff0;line-height: 1.1;font-family: &quot;Courier New&quot;,Courier,monospace\">         ┌─┐   \n",
       "q2_0: ─■─┤M├───\n",
       "       │ └╥┘┌─┐\n",
       "q2_1: ─■──╫─┤M├\n",
       "          ║ └╥┘\n",
       "c2_0: ════╩══╬═\n",
       "             ║ \n",
       "c2_1: ═══════╩═\n",
       "               </pre>"
      ],
      "text/plain": [
       "         ┌─┐   \n",
       "q2_0: ─■─┤M├───\n",
       "       │ └╥┘┌─┐\n",
       "q2_1: ─■──╫─┤M├\n",
       "          ║ └╥┘\n",
       "c2_0: ════╩══╬═\n",
       "             ║ \n",
       "c2_1: ═══════╩═\n",
       "               "
      ]
     },
     "execution_count": 15,
     "metadata": {},
     "output_type": "execute_result"
    }
   ],
   "source": [
    "qr = QuantumRegister(2)\n",
    "cr = ClassicalRegister(2)\n",
    "circuit = QuantumCircuit(qr, cr)\n",
    "circuit.cz(qr[0],qr[1])\n",
    "circuit.measure(qr, cr)\n",
    "circuit.draw()"
   ]
  },
  {
   "cell_type": "code",
   "execution_count": 3,
   "metadata": {},
   "outputs": [],
   "source": [
    "backend = Aer.get_backend('qasm_simulator')"
   ]
  },
  {
   "cell_type": "code",
   "execution_count": 4,
   "metadata": {},
   "outputs": [
    {
     "data": {
      "text/html": [
       "<pre style=\"word-wrap: normal;white-space: pre;background: #fff0;line-height: 1.1;font-family: &quot;Courier New&quot;,Courier,monospace\">         ┌─┐   \n",
       "q0_0: ─■─┤M├───\n",
       "       │ └╥┘┌─┐\n",
       "q0_1: ─■──╫─┤M├\n",
       "          ║ └╥┘\n",
       "c0_0: ════╩══╬═\n",
       "             ║ \n",
       "c0_1: ═══════╩═\n",
       "               </pre>"
      ],
      "text/plain": [
       "         ┌─┐   \n",
       "q0_0: ─■─┤M├───\n",
       "       │ └╥┘┌─┐\n",
       "q0_1: ─■──╫─┤M├\n",
       "          ║ └╥┘\n",
       "c0_0: ════╩══╬═\n",
       "             ║ \n",
       "c0_1: ═══════╩═\n",
       "               "
      ]
     },
     "execution_count": 4,
     "metadata": {},
     "output_type": "execute_result"
    }
   ],
   "source": [
    "circuit_out = transpile(circuit, backend)\n",
    "circuit_out.draw()"
   ]
  },
  {
   "cell_type": "code",
   "execution_count": 5,
   "metadata": {},
   "outputs": [],
   "source": [
    "from qiskit.assembler import assemble_circuits\n",
    "from qiskit.qobj import QobjHeader\n",
    "run_config= RunConfig(**{ 'shots': 1024})\n",
    "qobj = assemble_circuits([circuit_out], qobj_id='jay', qobj_header=QobjHeader(description=\"testing header\"), run_config=run_config)"
   ]
  },
  {
   "cell_type": "code",
   "execution_count": 6,
   "metadata": {},
   "outputs": [
    {
     "data": {
      "text/plain": [
       "QasmQobj(qobj_id='jay', config=QasmQobjConfig(memory_slots=2, n_qubits=2, shots=1024), experiments=[QasmQobjExperiment(config=QasmQobjExperimentConfig(memory_slots=2, n_qubits=2), header=QobjExperimentHeader(clbit_labels=[['c0', 0], ['c0', 1]], creg_sizes=[['c0', 2]], memory_slots=2, n_qubits=2, name='circuit0', qreg_sizes=[['q0', 2]], qubit_labels=[['q0', 0], ['q0', 1]]), instructions=[QasmQobjInstruction(name='cz', qubits=[0, 1]), QasmQobjInstruction(name='measure', qubits=[0], memory=[0]), QasmQobjInstruction(name='measure', qubits=[1], memory=[1])])], header=QobjHeader(description='testing header'))"
      ]
     },
     "execution_count": 6,
     "metadata": {},
     "output_type": "execute_result"
    }
   ],
   "source": [
    "qobj"
   ]
  },
  {
   "cell_type": "code",
   "execution_count": 7,
   "metadata": {},
   "outputs": [],
   "source": [
    "def QobjPrint(qobj):\n",
    "    print(\"header: \"+ str(qobj.header))\n",
    "    print(\"global user_config: \" +  str(qobj.config))\n",
    "    print(\"qobj_id: \" + qobj.qobj_id)\n",
    "    print(\"schema_version: \" + qobj.schema_version)\n",
    "    print(\"qobj_type: \" + qobj.type)\n",
    "    print(\"# experiments in qobj: \" + str(len(qobj.experiments)))\n",
    "    for experiment in qobj.experiments:\n",
    "        print(\"    experiment header: \"+ str(experiment.header))\n",
    "        print(\"    experiment user_config: \" + str(experiment.config))\n",
    "        for instructions in experiment.instructions:\n",
    "            print(\"        \" + str(instructions))"
   ]
  },
  {
   "cell_type": "code",
   "execution_count": 8,
   "metadata": {},
   "outputs": [
    {
     "name": "stdout",
     "output_type": "stream",
     "text": [
      "header: QobjHeader(description='testing header')\n",
      "global user_config: QasmQobjConfig(memory_slots=2, n_qubits=2, shots=1024)\n",
      "qobj_id: jay\n",
      "schema_version: 1.1.0\n",
      "qobj_type: QASM\n",
      "# experiments in qobj: 1\n",
      "    experiment header: QobjExperimentHeader(clbit_labels=[['c0', 0], ['c0', 1]], creg_sizes=[['c0', 2]], memory_slots=2, n_qubits=2, name='circuit0', qreg_sizes=[['q0', 2]], qubit_labels=[['q0', 0], ['q0', 1]])\n",
      "    experiment user_config: QasmQobjExperimentConfig(memory_slots=2, n_qubits=2)\n",
      "        Instruction: cz\n",
      "\t\tqubits: [0, 1]\n",
      "\n",
      "        Instruction: measure\n",
      "\t\tqubits: [0]\n",
      "\t\tmemory: [0]\n",
      "\n",
      "        Instruction: measure\n",
      "\t\tqubits: [1]\n",
      "\t\tmemory: [1]\n",
      "\n"
     ]
    }
   ],
   "source": [
    "QobjPrint(qobj)"
   ]
  },
  {
   "cell_type": "code",
   "execution_count": 9,
   "metadata": {},
   "outputs": [
    {
     "name": "stdout",
     "output_type": "stream",
     "text": [
      "Result(backend_name='qasm_simulator', backend_version='0.5.0', date=datetime.datetime(2020, 4, 13, 20, 26, 42, 297006), header=Obj(description='testing header'), job_id='a75153ca-b9fa-4b14-8703-832c8052e3df', metadata={'max_memory_mb': 8192, 'omp_enabled': True, 'parallel_experiments': 1, 'time_taken': 0.005198339000000001}, qobj_id='jay', results=[ExperimentResult(data=ExperimentResultData(counts=Obj(0x0=1024)), header=Obj(clbit_labels=[['c0', 0], ['c0', 1]], creg_sizes=[['c0', 2]], memory_slots=2, n_qubits=2, name='circuit0', qreg_sizes=[['q0', 2]], qubit_labels=[['q0', 0], ['q0', 1]]), meas_level=<MeasLevel.CLASSIFIED: 2>, metadata={'measure_sampling': True, 'method': 'stabilizer', 'parallel_shots': 1, 'parallel_state_update': 8}, seed_simulator=630713068, shots=1024, status='DONE', success=True, time_taken=0.003227943)], status='COMPLETED', success=True, time_taken=0.006557941436767578)\n"
     ]
    }
   ],
   "source": [
    "job = backend.run(qobj)\n",
    "result = job.result()\n",
    "print(result)"
   ]
  },
  {
   "cell_type": "code",
   "execution_count": 10,
   "metadata": {},
   "outputs": [
    {
     "data": {
      "text/plain": [
       "{'00': 1024}"
      ]
     },
     "execution_count": 10,
     "metadata": {},
     "output_type": "execute_result"
    }
   ],
   "source": [
    "result.get_counts()"
   ]
  },
  {
   "cell_type": "code",
   "execution_count": null,
   "metadata": {},
   "outputs": [],
   "source": []
  }
 ],
 "metadata": {
  "kernelspec": {
   "display_name": "Python 3",
   "language": "python",
   "name": "python3"
  },
  "language_info": {
   "codemirror_mode": {
    "name": "ipython",
    "version": 3
   },
   "file_extension": ".py",
   "mimetype": "text/x-python",
   "name": "python",
   "nbconvert_exporter": "python",
   "pygments_lexer": "ipython3",
   "version": "3.8.2"
  }
 },
 "nbformat": 4,
 "nbformat_minor": 2
}
