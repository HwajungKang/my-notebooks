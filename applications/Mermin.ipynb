{
 "cells": [
  {
   "cell_type": "markdown",
   "id": "09b1581a-ff93-4818-8409-0a7f46efaa32",
   "metadata": {
    "tags": []
   },
   "source": [
    "# The Hello World program of Quantum Computing\n",
    "This is the classic Mermin experiment which allows a simple test of Quantum Mechanics. For superconducting qubits this was first done in 2010 in this [paper](https://doi.org/10.1038/nature09416) or the arXiv [version](https://arxiv.org/abs/1004.4324). \n",
    "\n",
    "Lets assume that we have three qubits and each qubit can either have the $X$ or $Y$ operator measured and must give a value of of $\\pm 1$. We now imagine that we need to play a game and set the value of X or Y such that the following four conditions are met. \n",
    "\n",
    "$$\n",
    "XXY=1\n",
    "$$\n",
    "$$\n",
    "XYX=1\n",
    "$$\n",
    "$$\n",
    "YXX=1\n",
    "$$\n",
    "$$\n",
    "YYY=-1\n",
    "$$\n",
    "\n",
    "where $XXY$ is short hand for $Y$ on qubit $1$, $X$ on qubit $2$ and $X$ on qubit $3$. Try to see if you can assign all 6 operators either a $\\pm1$. It turns out you can't and a easy way to see this is each operator appears twice on the LHS of the equations so the product of all equations gives 1 for the left hand side and -1 for the right hand side. \n",
    "\n",
    "However, there is a quantum state which if created and measured would meet these four conditions. Without loss of generality we can define what is known as the Mermin Operator \n",
    "\n",
    "$$ \n",
    "M = XXY+XYX+YXX-YYY\n",
    "$$ \n",
    "\n",
    "and it is possible to measured an expectation value of 4 using a quantum state, thereby realizing the game above.\n",
    "\n",
    "Lets start by setting up the programming environment and then we go through the 4 steps:\n",
    "- **Step 1** Map the problem to a Quantum Native format (Set of Operators, and a set of Quantum Circuits)\n",
    "- **Step 2** Optimize the circuits and operators to run on quantum hardware\n",
    "- **Step 3** Execute using a quantum primitive function (estimator or sampler)\n",
    "- **Step 4** Post-processing of the results to return either a plot or the answer\n"
   ]
  },
  {
   "cell_type": "markdown",
   "id": "71bd4ba0-2b45-4597-bf74-991e3ba0f0f8",
   "metadata": {},
   "source": [
    "## **Step 0**: Setup"
   ]
  },
  {
   "cell_type": "code",
   "execution_count": 7,
   "id": "ed709e1b-bf03-4795-94d5-4ad44e5c04c4",
   "metadata": {
    "tags": []
   },
   "outputs": [],
   "source": [
    "import numpy as np\n",
    "\n",
    "# Qiskit Quantum Circuit\n",
    "from qiskit import QuantumCircuit\n",
    "\n",
    "# Qiskit Operator form\n",
    "from qiskit.quantum_info import SparsePauliOp\n",
    "\n",
    "# Import Qiskit packages\n",
    "from qiskit_ibm_runtime import QiskitRuntimeService, Estimator, Options\n",
    "\n",
    "# Loading your IBM Quantum account(s)\n",
    "service = QiskitRuntimeService(channel=\"ibm_quantum\", instance=\"executive/internal/main\")\n",
    "\n",
    "# Define backend\n",
    "use_real = False\n",
    "\n",
    "if use_real:\n",
    "    backend = service.backend('ibmq_kolkata')\n",
    "else:\n",
    "    backend = service.backend('ibmq_qasm_simulator')"
   ]
  },
  {
   "cell_type": "markdown",
   "id": "e775e37a-8ffb-4c4b-99e3-a0067e19d3ad",
   "metadata": {},
   "source": [
    "## **Step 1** Map the problem to a Quantum Native format (Set of Operators, and a set of Quantum Circuits)\n",
    "Here we define the Mermin operator to be measured and the trial quantum circuits to be prepared to find the quantum circuit that maximizes the Mermin operator. The output of this step should be an operator to be measured and a quantum circuit"
   ]
  },
  {
   "cell_type": "code",
   "execution_count": 8,
   "id": "2cf6ec0d-8b2b-4fa1-9042-e54393e3007a",
   "metadata": {},
   "outputs": [
    {
     "name": "stdout",
     "output_type": "stream",
     "text": [
      "SparsePauliOp(['XXY', 'XYX', 'YXX', 'YYY'],\n",
      "              coeffs=[ 1.+0.j,  1.+0.j,  1.+0.j, -1.+0.j])\n"
     ]
    }
   ],
   "source": [
    "number_of_phases = 20\n",
    "phases = np.linspace(0, 2*np.pi, number_of_phases)\n",
    "mermin = SparsePauliOp.from_list([(\"XXY\", 1), (\"XYX\", 1), (\"YXX\", 1), (\"YYY\", -1)])\n",
    "print(mermin)"
   ]
  },
  {
   "cell_type": "code",
   "execution_count": 9,
   "id": "32d8ac60-1bcb-4ee5-85e0-699fb28abc60",
   "metadata": {},
   "outputs": [
    {
     "name": "stdout",
     "output_type": "stream",
     "text": [
      "     ┌───┐┌──────────┐          \n",
      "q_0: ┤ H ├┤ P(theta) ├──■────■──\n",
      "     └───┘└──────────┘┌─┴─┐  │  \n",
      "q_1: ─────────────────┤ X ├──┼──\n",
      "                      └───┘┌─┴─┐\n",
      "q_2: ──────────────────────┤ X ├\n",
      "                           └───┘\n"
     ]
    }
   ],
   "source": [
    "from qiskit.circuit import Parameter\n",
    "\n",
    "theta = Parameter('theta')\n",
    "qc_example = QuantumCircuit(3)\n",
    "qc_example.h(0) # generate superposition\n",
    "qc_example.p(theta, 0) # add quantum phase\n",
    "qc_example.cx(0, 1) # condition 1st qubit on 0th qubit\n",
    "qc_example.cx(0, 2) # condition 2nd qubit on 0th qubit\n",
    "print(qc_example)"
   ]
  },
  {
   "cell_type": "markdown",
   "id": "5bf3d09e-9394-4f03-9ba6-355f2b1f3185",
   "metadata": {},
   "source": [
    "## **Step 2**: Optimize the circuits and the operators to be measured"
   ]
  },
  {
   "cell_type": "markdown",
   "id": "9d011ec4-0a4a-4764-af46-c566f3f65fce",
   "metadata": {},
   "source": [
    "The Native set for the IBM Hardware is control-z, sqrt-x and a rotation around the z-axis [cz, sx, rz] and we have assumed the qubits are in a line. Here we have used the default pass-managers but set the optimization_level to 3 which should find the optimial version of this circuit for the IBM hardware. "
   ]
  },
  {
   "cell_type": "code",
   "execution_count": 10,
   "id": "3284728e-5dad-48ed-b511-ee174936abfe",
   "metadata": {},
   "outputs": [
    {
     "name": "stdout",
     "output_type": "stream",
     "text": [
      "         ┌─────────┐┌────┐ ┌───────┐                 ┌────┐┌─────────┐»\n",
      "q_1 -> 0 ┤ Rz(π/2) ├┤ √X ├─┤ Rz(π) ├───────────────■─┤ √X ├┤ Rz(π/2) ├»\n",
      "         ├─────────┤├────┤┌┴───────┴┐┌───────────┐ │ └────┘└─────────┘»\n",
      "q_0 -> 1 ┤ Rz(π/2) ├┤ √X ├┤ Rz(π/2) ├┤ Rz(theta) ├─■───■──────────────»\n",
      "         ├─────────┤├────┤└┬───────┬┘└───────────┘     │      ┌────┐  »\n",
      "q_2 -> 2 ┤ Rz(π/2) ├┤ √X ├─┤ Rz(π) ├───────────────────■──────┤ √X ├──»\n",
      "         └─────────┘└────┘ └───────┘                          └────┘  »\n",
      "«                    \n",
      "«q_1 -> 0 ───────────\n",
      "«                    \n",
      "«q_0 -> 1 ───────────\n",
      "«         ┌─────────┐\n",
      "«q_2 -> 2 ┤ Rz(π/2) ├\n",
      "«         └─────────┘\n"
     ]
    }
   ],
   "source": [
    "from qiskit.compiler import transpile\n",
    "qc_ibm = transpile(qc_example, basis_gates = ['cz', 'sx', 'rz'],  coupling_map =[[0, 1], [1, 2]], optimization_level=3)\n",
    "print(qc_ibm)"
   ]
  },
  {
   "cell_type": "code",
   "execution_count": 11,
   "id": "88c9912f",
   "metadata": {},
   "outputs": [
    {
     "data": {
      "text/plain": [
       "Layout({\n",
       "1: Qubit(QuantumRegister(3, 'q'), 0),\n",
       "0: Qubit(QuantumRegister(3, 'q'), 1),\n",
       "2: Qubit(QuantumRegister(3, 'q'), 2)\n",
       "})"
      ]
     },
     "execution_count": 11,
     "metadata": {},
     "output_type": "execute_result"
    }
   ],
   "source": [
    "qc_ibm.layout.initial_layout"
   ]
  },
  {
   "cell_type": "code",
   "execution_count": 12,
   "id": "b96ddf32",
   "metadata": {},
   "outputs": [
    {
     "data": {
      "text/plain": [
       "TranspileLayout(initial_layout=Layout({\n",
       "1: Qubit(QuantumRegister(3, 'q'), 0),\n",
       "0: Qubit(QuantumRegister(3, 'q'), 1),\n",
       "2: Qubit(QuantumRegister(3, 'q'), 2)\n",
       "}), input_qubit_mapping={Qubit(QuantumRegister(3, 'q'), 0): 0, Qubit(QuantumRegister(3, 'q'), 1): 1, Qubit(QuantumRegister(3, 'q'), 2): 2}, final_layout=None)"
      ]
     },
     "execution_count": 12,
     "metadata": {},
     "output_type": "execute_result"
    }
   ],
   "source": [
    "qc_ibm.layout"
   ]
  },
  {
   "cell_type": "code",
   "execution_count": 13,
   "id": "73e1c205",
   "metadata": {},
   "outputs": [
    {
     "data": {
      "text/plain": [
       "{Qubit(QuantumRegister(3, 'q'), 0): 0,\n",
       " Qubit(QuantumRegister(3, 'q'), 1): 1,\n",
       " Qubit(QuantumRegister(3, 'q'), 2): 2}"
      ]
     },
     "execution_count": 13,
     "metadata": {},
     "output_type": "execute_result"
    }
   ],
   "source": [
    "qc_ibm.layout.input_qubit_mapping"
   ]
  },
  {
   "cell_type": "code",
   "execution_count": 14,
   "id": "4ad93182",
   "metadata": {},
   "outputs": [],
   "source": [
    "qc_ibm.layout.final_layout"
   ]
  },
  {
   "cell_type": "markdown",
   "id": "538d8a1f",
   "metadata": {},
   "source": [
    "** FIX ** I really see a bug here - we need to have the final_layout returned always. I have no idea what the input_qubit_mapping is.\n",
    "\n",
    "We need a function that \n",
    "\n",
    "mermin_ibm = transpile_operator(mermin, layout )"
   ]
  },
  {
   "cell_type": "code",
   "execution_count": 15,
   "id": "aef8cb82",
   "metadata": {},
   "outputs": [],
   "source": [
    "mermin_ibm = mermin"
   ]
  },
  {
   "cell_type": "markdown",
   "id": "9b64830f-45a1-43cc-b39b-d73e46d4016b",
   "metadata": {},
   "source": [
    "## **Step 3**: Execute using a quantum primitive function (estimator or sampler)\n",
    "Here we use the estimator primitve by sending all phases and the Mermin operator to the quantum hardware."
   ]
  },
  {
   "cell_type": "code",
   "execution_count": 16,
   "id": "79053c67-d549-48ff-bbbd-1f203adc2e26",
   "metadata": {
    "tags": []
   },
   "outputs": [
    {
     "name": "stdout",
     "output_type": "stream",
     "text": [
      "mermin.picke\n"
     ]
    }
   ],
   "source": [
    "options = Options()\n",
    "options.resilience_level = 1\n",
    "options.execution.shots = 1000\n",
    "\n",
    "# Run the experiments\n",
    "\n",
    "estimator = Estimator(session=backend, options=options)\n",
    "    \n",
    "job = estimator.run(circuits=[qc_ibm]*number_of_phases, \n",
    "                    observables=[mermin_ibm]*number_of_phases, parameter_values=[[ph] for ph in phases])\n",
    "\n",
    "from helpers import check_job_status\n",
    "values = check_job_status(job,'mermin')"
   ]
  },
  {
   "cell_type": "markdown",
   "id": "6f65903b-7044-44bb-ba53-3ed916257bbd",
   "metadata": {},
   "source": [
    "## **Step 4**: Post-processing of the results to return either a plot or the answer\n",
    "Here we plot the output so the user can view when a measured value is greater than +2 or less than -2."
   ]
  },
  {
   "cell_type": "code",
   "execution_count": 17,
   "id": "e4feb21a-accd-4312-9f63-d5c67766c403",
   "metadata": {
    "tags": []
   },
   "outputs": [
    {
     "data": {
      "image/png": "[encoded data removed]",
      "text/plain": [
       "<Figure size 640x480 with 1 Axes>"
      ]
     },
     "metadata": {},
     "output_type": "display_data"
    }
   ],
   "source": [
    "import matplotlib.pyplot as plt\n",
    "\n",
    "plt.plot(phases, values, 'o-', label='Mermin %s'%(backend.name))\n",
    "\n",
    "plt.axhline(y=1, color='r', linestyle='-')\n",
    "plt.axhline(y=-1, color='r', linestyle='-')\n",
    "plt.axhline(y=4, color='b', linestyle='-.')\n",
    "plt.axhline(y=-4, color='b', linestyle='-.')\n",
    "plt.ylim(-4.2,4.2)\n",
    "plt.xlabel('Theta')\n",
    "plt.ylabel('Mermin Operator')\n",
    "plt.legend(loc=\"center right\")\n",
    "plt.show()"
   ]
  },
  {
   "cell_type": "code",
   "execution_count": null,
   "id": "b4b7498c-ce96-43cd-8c92-1b7ec4374eb1",
   "metadata": {},
   "outputs": [],
   "source": []
  }
 ],
 "metadata": {
  "kernelspec": {
   "display_name": "Python 3 (ipykernel)",
   "language": "python",
   "name": "python3"
  },
  "language_info": {
   "codemirror_mode": {
    "name": "ipython",
    "version": 3
   },
   "file_extension": ".py",
   "mimetype": "text/x-python",
   "name": "python",
   "nbconvert_exporter": "python",
   "pygments_lexer": "ipython3",
   "version": "3.11.5"
  },
  "widgets": {
   "application/vnd.jupyter.widget-state+json": {
    "state": {},
    "version_major": 2,
    "version_minor": 0
   }
  }
 },
 "nbformat": 4,
 "nbformat_minor": 5
}
