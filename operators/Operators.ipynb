{
 "cells": [
  {
   "cell_type": "code",
   "execution_count": 1,
   "id": "910804ea-d96a-421d-9472-7f12cc7780e5",
   "metadata": {},
   "outputs": [
    {
     "name": "stdout",
     "output_type": "stream",
     "text": [
      "As Pauli Op:  Pauli('XX')\n",
      "As Sparse Pauli Op:  SparsePauliOp(['XX'],\n",
      "              coeffs=[1.+0.j])\n",
      "As Sparse Pauli Op:  SparsePauliOp(['IZI', 'IXX'],\n",
      "              coeffs=[0.39+0.j, 0.5 +0.j])\n"
     ]
    }
   ],
   "source": [
    "from qiskit.quantum_info import Pauli, SparsePauliOp\n",
    "\n",
    "operator = Pauli('XX')\n",
    "\n",
    "X = Pauli('X')\n",
    "operator = X ^ X\n",
    "print(\"As Pauli Op: \", repr(operator))\n",
    "\n",
    "# another alternative is:\n",
    "operator2 = SparsePauliOp('XX')\n",
    "print(\"As Sparse Pauli Op: \", repr(operator2))\n",
    "\n",
    "operator = SparsePauliOp.from_list([(\"IZI\", 0.39), (\"IXX\", 0.5)])\n",
    "print(\"As Sparse Pauli Op: \", repr(operator))\n",
    "\n"
   ]
  },
  {
   "cell_type": "code",
   "execution_count": 2,
   "id": "daec80b4-9ae7-4ddc-afed-5d41f02532d7",
   "metadata": {},
   "outputs": [
    {
     "name": "stdout",
     "output_type": "stream",
     "text": [
      "     ┌───┐\n",
      "q_0: ┤ H ├\n",
      "     ├───┤\n",
      "q_1: ┤ H ├\n",
      "     └───┘\n",
      "Operator([[ 0.5+0.j,  0.5+0.j,  0.5+0.j,  0.5+0.j],\n",
      "          [ 0.5+0.j, -0.5+0.j,  0.5+0.j, -0.5+0.j],\n",
      "          [ 0.5+0.j,  0.5+0.j, -0.5+0.j, -0.5+0.j],\n",
      "          [ 0.5+0.j, -0.5+0.j, -0.5+0.j,  0.5+0.j]],\n",
      "         input_dims=(2, 2), output_dims=(2, 2))\n"
     ]
    }
   ],
   "source": [
    "from qiskit import QuantumCircuit\n",
    "from qiskit.quantum_info import Clifford, Operator\n",
    "\n",
    "qc = QuantumCircuit(2)\n",
    "qc.h(0)\n",
    "qc.h(1)\n",
    "print(qc)\n",
    "\n",
    "operator = Clifford(qc).to_operator()\n",
    "\n",
    "# or, directly\n",
    "operator = Operator(qc)\n",
    "\n",
    "print(operator)"
   ]
  },
  {
   "cell_type": "code",
   "execution_count": 3,
   "id": "c0afbd09-0a25-478c-b7ca-2fdb8eecdfc7",
   "metadata": {},
   "outputs": [
    {
     "name": "stdout",
     "output_type": "stream",
     "text": [
      "State 1:  Statevector([0.+0.j, 1.+0.j, 0.+0.j, 0.+0.j],\n",
      "            dims=(2, 2))\n",
      "State 2:  StabilizerState(StabilizerTable: ['-IX', '+XI'])\n"
     ]
    }
   ],
   "source": [
    "from qiskit import QuantumCircuit\n",
    "from qiskit.quantum_info import StabilizerState, Statevector\n",
    "\n",
    "qc_zero = QuantumCircuit(1)\n",
    "qc_one = qc_zero.copy()\n",
    "qc_one.x(0)\n",
    "state1 = Statevector(qc_zero) ^ Statevector(qc_one)\n",
    "print(\"State 1: \", state1)\n",
    "\n",
    "qc_plus = qc_zero.copy()\n",
    "qc_plus.h(0)\n",
    "qc_minus = qc_one.copy()\n",
    "qc_minus.h(0)\n",
    "state2 = StabilizerState(qc_plus) ^ StabilizerState(qc_minus)\n",
    "print(\"State 2: \", state2)"
   ]
  },
  {
   "cell_type": "code",
   "execution_count": 4,
   "id": "12a81d3b-73bc-4f8b-9e5d-ba1d7e500ff3",
   "metadata": {},
   "outputs": [
    {
     "name": "stdout",
     "output_type": "stream",
     "text": [
      "Statevector([0.+0.j, 1.+0.j, 0.+0.j, 0.+0.j],\n",
      "            dims=(2, 2))\n",
      "Statevector([0.+0.j, 0.+0.j, 0.-1.j, 0.+0.j],\n",
      "            dims=(2, 2))\n"
     ]
    }
   ],
   "source": [
    "from qiskit import QuantumCircuit\n",
    "from qiskit.quantum_info import SparsePauliOp, Statevector\n",
    "\n",
    "qc = QuantumCircuit(2)\n",
    "qc.x(0)\n",
    "qc.z(1)\n",
    "op = SparsePauliOp(\"XY\")\n",
    "state = Statevector(qc)\n",
    "\n",
    "eval = state.evolve(op)\n",
    "\n",
    "print(state)\n",
    "print(eval)"
   ]
  },
  {
   "cell_type": "code",
   "execution_count": 5,
   "id": "86f8c953-5ac8-4920-8fd2-9f7888928636",
   "metadata": {},
   "outputs": [
    {
     "name": "stdout",
     "output_type": "stream",
     "text": [
      "   ┌─────────────────────┐\n",
      "q: ┤ exp(-it (X + Z))(1) ├\n",
      "   └─────────────────────┘\n"
     ]
    }
   ],
   "source": [
    "from qiskit import QuantumCircuit\n",
    "from qiskit.quantum_info import SparsePauliOp\n",
    "from qiskit.circuit.library import PauliEvolutionGate\n",
    "\n",
    "hamiltonian = SparsePauliOp.from_list([('X', 1), ('Z',1)])\n",
    "evol_gate = PauliEvolutionGate(hamiltonian, time=1)\n",
    "evolved_state = QuantumCircuit(1)\n",
    "evolved_state.append(evol_gate, [0])\n",
    "print(evolved_state)\n"
   ]
  },
  {
   "cell_type": "code",
   "execution_count": 6,
   "id": "47c07e31-d0f2-4cb0-b733-1f2c1f5e401f",
   "metadata": {},
   "outputs": [
    {
     "name": "stdout",
     "output_type": "stream",
     "text": [
      "   ┌─────────────────────┐\n",
      "q: ┤ exp(-it (X + Y))(t) ├\n",
      "   └─────────────────────┘\n"
     ]
    }
   ],
   "source": [
    "from qiskit.quantum_info import SparsePauliOp\n",
    "from qiskit.circuit.library import PauliEvolutionGate\n",
    "from qiskit import QuantumCircuit\n",
    "from qiskit.circuit import Parameter\n",
    "\n",
    "time = Parameter('t')\n",
    "hamiltonian = SparsePauliOp.from_list([('X', 1), ('Y',1)])\n",
    "evol_gate = PauliEvolutionGate(hamiltonian, time=time)\n",
    "evolved_state = QuantumCircuit(1)\n",
    "evolved_state.append(evol_gate, [0])\n",
    "\n",
    "print(evolved_state)"
   ]
  },
  {
   "cell_type": "code",
   "execution_count": 7,
   "id": "04c1f922-5ba5-4754-a661-ca87d5ef1368",
   "metadata": {},
   "outputs": [
    {
     "name": "stdout",
     "output_type": "stream",
     "text": [
      "   ┌────────────────┐\n",
      "q: ┤ U3(2,-π/2,π/2) ├\n",
      "   └────────────────┘\n"
     ]
    }
   ],
   "source": [
    "from qiskit.quantum_info import SparsePauliOp\n",
    "from qiskit.extensions import HamiltonianGate\n",
    "from qiskit import QuantumCircuit\n",
    "\n",
    "hamiltonian = Pauli('X')\n",
    "\n",
    "evol_gate = HamiltonianGate(hamiltonian, 1)\n",
    "evolved_state = QuantumCircuit(1)\n",
    "evolved_state.append(evol_gate, [0])\n",
    "\n",
    "print(evolved_state.decompose().decompose())"
   ]
  },
  {
   "cell_type": "code",
   "execution_count": 8,
   "id": "fee72a8d-1746-4f9c-a82a-f02d30288d15",
   "metadata": {},
   "outputs": [
    {
     "name": "stdout",
     "output_type": "stream",
     "text": [
      "   ┌─────────┐\n",
      "q: ┤ Unitary ├\n",
      "   └─────────┘\n"
     ]
    }
   ],
   "source": [
    "print(evolved_state.decompose())"
   ]
  },
  {
   "cell_type": "code",
   "execution_count": 9,
   "id": "bfede67f-b6bb-463d-ac8f-faf4d816b682",
   "metadata": {},
   "outputs": [
    {
     "name": "stdout",
     "output_type": "stream",
     "text": [
      "   ┌─────────────┐\n",
      "q: ┤ Hamiltonian ├\n",
      "   └─────────────┘\n"
     ]
    }
   ],
   "source": [
    "print(evolved_state)"
   ]
  },
  {
   "cell_type": "code",
   "execution_count": 10,
   "id": "4d256bc8-1de8-4a14-9bde-055af5dd451c",
   "metadata": {},
   "outputs": [],
   "source": [
    "from qiskit.extensions import UnitaryGate"
   ]
  },
  {
   "cell_type": "code",
   "execution_count": 17,
   "id": "5bb9a6ec-6bb6-4599-be67-8b7988df2ef0",
   "metadata": {},
   "outputs": [
    {
     "data": {
      "text/html": [
       "<pre style=\"word-wrap: normal;white-space: pre;background: #fff0;line-height: 1.1;font-family: &quot;Courier New&quot;,Courier,monospace\">   ┌────────────────┐\n",
       "q: ┤ U3(2,-π/2,π/2) ├\n",
       "   └────────────────┘</pre>"
      ],
      "text/plain": [
       "   ┌────────────────┐\n",
       "q: ┤ U3(2,-π/2,π/2) ├\n",
       "   └────────────────┘"
      ]
     },
     "execution_count": 17,
     "metadata": {},
     "output_type": "execute_result"
    }
   ],
   "source": [
    "evolved_state = QuantumCircuit(1)\n",
    "evolved_state.hamiltonian(hamiltonian,1,0)\n",
    "evolved_state.decompose().decompose().draw()"
   ]
  },
  {
   "cell_type": "code",
   "execution_count": 19,
   "id": "f11dccbe-c90a-4b46-bafb-6e46f1217abb",
   "metadata": {},
   "outputs": [
    {
     "data": {
      "text/html": [
       "<pre style=\"word-wrap: normal;white-space: pre;background: #fff0;line-height: 1.1;font-family: &quot;Courier New&quot;,Courier,monospace\">global phase: π/2\n",
       "   ┌────────────────┐\n",
       "q: ┤ U3(π,-π/2,π/2) ├\n",
       "   └────────────────┘</pre>"
      ],
      "text/plain": [
       "global phase: π/2\n",
       "   ┌────────────────┐\n",
       "q: ┤ U3(π,-π/2,π/2) ├\n",
       "   └────────────────┘"
      ]
     },
     "execution_count": 19,
     "metadata": {},
     "output_type": "execute_result"
    }
   ],
   "source": [
    "evolved_state = QuantumCircuit(1)\n",
    "evolved_state.unitary(Pauli('X'),0)\n",
    "evolved_state.decompose().draw()"
   ]
  },
  {
   "cell_type": "code",
   "execution_count": null,
   "id": "1e7b1729-b6b4-4c26-b2e5-706a634b17cf",
   "metadata": {},
   "outputs": [],
   "source": []
  }
 ],
 "metadata": {
  "kernelspec": {
   "display_name": "Python 3 (ipykernel)",
   "language": "python",
   "name": "python3"
  },
  "language_info": {
   "codemirror_mode": {
    "name": "ipython",
    "version": 3
   },
   "file_extension": ".py",
   "mimetype": "text/x-python",
   "name": "python",
   "nbconvert_exporter": "python",
   "pygments_lexer": "ipython3",
   "version": "3.11.4"
  }
 },
 "nbformat": 4,
 "nbformat_minor": 5
}
