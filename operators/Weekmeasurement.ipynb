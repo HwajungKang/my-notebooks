{
 "cells": [
  {
   "cell_type": "markdown",
   "id": "9080dbb2-81d1-48b3-98dc-13d73fb8c81a",
   "metadata": {},
   "source": [
    "As an example lets show how we can use extended quantum circuits to make a week measurement.\n",
    "\n",
    "Imagine that we have a problem where we want to project "
   ]
  },
  {
   "cell_type": "code",
   "execution_count": null,
   "id": "71fc0fe8-cea8-4c11-99ca-5ab7ee06811a",
   "metadata": {},
   "outputs": [],
   "source": [
    "\n",
    "from qiskit.quantum_info import SparsePauliOp, Pauli\n",
    "from qiskit.extensions import HamiltonianGate\n",
    "\n",
    "from qiskit.circuit import Parameter\n",
    "\n",
    "from qiskit.circuit.library.data_preparation import StatePreparation\n",
    "lam = Parameter('lam')\n",
    "hamiltonianA = Pauli('X') # add some more generatlize A operator \n",
    "hamiltonianB = Pauli('Z') # add some more generatlize B operator \n",
    "\n",
    "psi=StatePreparation([1,1]/np.sqrt(2)) # the quantum state\n",
    "phi=StatePreparation([1,1]/np.sqrt(2)) # the basis for the week measurement\n",
    "\n",
    "qc = QuantumCircuit(2,1)\n",
    "\n",
    "qc.append(psi,[0])\n",
    "qc.append(phi,[1])\n",
    "qc.append(HamiltonianGate(hamiltonianA^hamiltonianB, lam), [0, 1])\n",
    "qc.measure(1,0)\n",
    "\n",
    "qc.draw()"
   ]
  },
  {
   "cell_type": "code",
   "execution_count": null,
   "id": "5d1c8881-dc89-49b6-a35b-35a1344654fa",
   "metadata": {},
   "outputs": [],
   "source": []
  }
 ],
 "metadata": {
  "kernelspec": {
   "display_name": "Python 3 (ipykernel)",
   "language": "python",
   "name": "python3"
  },
  "language_info": {
   "codemirror_mode": {
    "name": "ipython",
    "version": 3
   },
   "file_extension": ".py",
   "mimetype": "text/x-python",
   "name": "python",
   "nbconvert_exporter": "python",
   "pygments_lexer": "ipython3",
   "version": "3.11.4"
  }
 },
 "nbformat": 4,
 "nbformat_minor": 5
}
