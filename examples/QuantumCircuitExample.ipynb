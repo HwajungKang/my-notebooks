{
 "cells": [
  {
   "cell_type": "code",
   "execution_count": 1,
   "id": "competitive-dispute",
   "metadata": {},
   "outputs": [],
   "source": [
    "import numpy as np\n",
    "\n",
    "k = 5\n",
    "state = (1/np.sqrt(8))*np.array([np.exp(-1j*2*np.pi*k*(0)/8),np.exp(-1j*2*np.pi*k*(1)/8),\n",
    "                                 np.exp(-1j*2*np.pi*k*(2)/8),\n",
    " np.exp(-1j*2*np.pi*k*3/8),np.exp(-1j*2*np.pi*k*4/8),np.exp(-1j*2*np.pi*k*5/8),\n",
    " np.exp(-1j*2*np.pi*k*6/8), np.exp(-1j*2*np.pi*k*7/8)])"
   ]
  },
  {
   "cell_type": "code",
   "execution_count": 2,
   "id": "third-danish",
   "metadata": {},
   "outputs": [
    {
     "data": {
      "text/plain": [
       "<qiskit.circuit.instructionset.InstructionSet at 0x7fc23a1373d0>"
      ]
     },
     "execution_count": 2,
     "metadata": {},
     "output_type": "execute_result"
    }
   ],
   "source": [
    "from qiskit import QuantumCircuit, transpile, assemble\n",
    "from qiskit.circuit.library import QFT\n",
    "from qiskit.quantum_info import Statevector\n",
    "from qiskit.providers.ibmq import IBMQ\n",
    "\n",
    "\n",
    "qubits = 3 \n",
    "\n",
    "circuit = QuantumCircuit(qubits, qubits)\n",
    "circuit.initialize(state)\n",
    "circuit.append(QFT(qubits),range(qubits))\n",
    "circuit.measure(range(qubits),range(qubits))"
   ]
  },
  {
   "cell_type": "code",
   "execution_count": 3,
   "id": "proprietary-general",
   "metadata": {},
   "outputs": [
    {
     "data": {
      "image/png": "[encoded data removed]",
      "text/plain": [
       "<Figure size 808.997x264.88 with 1 Axes>"
      ]
     },
     "execution_count": 3,
     "metadata": {},
     "output_type": "execute_result"
    }
   ],
   "source": [
    "circuit.draw(output=\"mpl\")"
   ]
  },
  {
   "cell_type": "code",
   "execution_count": 4,
   "id": "continent-cross",
   "metadata": {},
   "outputs": [
    {
     "data": {
      "text/plain": [
       "array([0.+0.00000000e+00j, 0.+0.00000000e+00j, 0.+0.00000000e+00j,\n",
       "       0.+0.00000000e+00j, 0.-0.00000000e+00j, 1.+6.67163918e-16j,\n",
       "       0.+0.00000000e+00j, 0.+0.00000000e+00j])"
      ]
     },
     "execution_count": 4,
     "metadata": {},
     "output_type": "execute_result"
    }
   ],
   "source": [
    "from qiskit.providers.aer import QasmSimulator, StatevectorSimulator\n",
    "\n",
    "backend = StatevectorSimulator()\n",
    "new_circuit = transpile(circuit, backend)\n",
    "statevector=backend.run(assemble(new_circuit)).result().get_statevector()\n",
    "statevector"
   ]
  },
  {
   "cell_type": "code",
   "execution_count": 5,
   "id": "nasty-corruption",
   "metadata": {},
   "outputs": [],
   "source": [
    "from qiskit.providers.aer import QasmSimulator, StatevectorSimulator\n",
    "\n",
    "backend = QasmSimulator()\n",
    "new_circuit = transpile(circuit, backend)\n",
    "counts1=backend.run(assemble(new_circuit)).result().get_counts()\n"
   ]
  },
  {
   "cell_type": "code",
   "execution_count": 6,
   "id": "sound-milton",
   "metadata": {},
   "outputs": [],
   "source": [
    "provider  = IBMQ.load_account()"
   ]
  },
  {
   "cell_type": "code",
   "execution_count": null,
   "id": "flexible-decade",
   "metadata": {},
   "outputs": [],
   "source": [
    "\n",
    "from qiskit.providers.ibmq import least_busy\n",
    "backend = least_busy(provider.backends(filters=lambda x: x.configuration().n_qubits > qubits \n",
    "                                       and not x.configuration().simulator))\n",
    "backend.name()\n",
    "\n",
    "from qiskit import transpile\n",
    "\n",
    "new_circuit = transpile(circuit, backend, optimization_level=3)\n",
    "\n",
    "new_circuit.draw(output='mpl')"
   ]
  },
  {
   "cell_type": "code",
   "execution_count": null,
   "id": "three-airplane",
   "metadata": {},
   "outputs": [],
   "source": [
    "from qiskit.tools.monitor import job_monitor\n",
    "\n",
    "job = backend.run(new_circuit)\n",
    "job_monitor(job)"
   ]
  },
  {
   "cell_type": "code",
   "execution_count": null,
   "id": "ordered-bicycle",
   "metadata": {},
   "outputs": [],
   "source": [
    "from qiskit.visualization import plot_histogram\n",
    "\n",
    "result = job.result()\n",
    "counts2 = result.get_counts()\n",
    "plot_histogram([counts1,counts2])"
   ]
  },
  {
   "cell_type": "markdown",
   "id": "surrounded-swift",
   "metadata": {},
   "source": []
  },
  {
   "cell_type": "code",
   "execution_count": null,
   "id": "norwegian-torture",
   "metadata": {},
   "outputs": [],
   "source": [
    "import numpy as np\n",
    "from qiskit.circuit import QuantumRegister, QuantumCircuit\n",
    "from qiskit.circuit.library import QFT\n",
    "class DraperAdder(QuantumCircuit):\n",
    "    \"\"\"Adder by Draper.\n",
    "    https://arxiv.org/pdf/quant-ph/0008033.pdf\n",
    "    This is a QFT-based adder and requires no ancilla.\n",
    "    \"\"\"\n",
    "    def __init__(self, num_qubits) -> None:\n",
    "        a = QuantumRegister(num_qubits, 'a')\n",
    "        b = QuantumRegister(num_qubits, 'b')\n",
    "        super().__init__(a, b, name=\"draper_adder\")\n",
    "        qft = QFT(num_qubits, do_swaps=False)\n",
    "        self.append(qft, qargs=a[:])\n",
    "        for i in reversed(range(num_qubits)):\n",
    "            for j in reversed(range(i+1)):\n",
    "                k = 1+i-j\n",
    "                self.cp(2*np.pi/2**k, b[j], a[i])\n",
    "            self.barrier()\n",
    "        self.append(qft.inverse(), qargs=a[:])"
   ]
  },
  {
   "cell_type": "code",
   "execution_count": null,
   "id": "advanced-macedonia",
   "metadata": {},
   "outputs": [],
   "source": [
    "DraperAdder(4).draw('mpl', fold=-1)"
   ]
  },
  {
   "cell_type": "code",
   "execution_count": null,
   "id": "green-journey",
   "metadata": {},
   "outputs": [],
   "source": []
  }
 ],
 "metadata": {
  "kernelspec": {
   "display_name": "Python 3",
   "language": "python",
   "name": "python3"
  },
  "language_info": {
   "codemirror_mode": {
    "name": "ipython",
    "version": 3
   },
   "file_extension": ".py",
   "mimetype": "text/x-python",
   "name": "python",
   "nbconvert_exporter": "python",
   "pygments_lexer": "ipython3",
   "version": "3.9.2"
  }
 },
 "nbformat": 4,
 "nbformat_minor": 5
}
