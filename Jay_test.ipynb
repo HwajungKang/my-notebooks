{
 "cells": [
  {
   "cell_type": "markdown",
   "id": "28e8b6e1-71bc-43d1-8fb6-2b52db43a3e2",
   "metadata": {},
   "source": [
    "Lets move the hello world to a single parameterized GHZ state. This is important as i can show a Mermin and get a single shot violation. \n",
    "\n",
    "I would also like to show that all Quantum Algorithms can be written as\n",
    "\n",
    "1. Choose a quantum circuit to encode the quantum state\n",
    "2. Define the output to be measured\n",
    "3. Execute a primitive (estimator or sampler)\n",
    "\n",
    "iterative algorithms may call multiple estimators with new quantum circuits or measurement outcomes. \n",
    "\n",
    "For Mermin \n",
    "\n",
    "1. the input quantum state needs to be GHZ state of the form |000> + e^{phi} |111>\n",
    "2. The inequality to be measured is XXY + XYX + YXY - YYY\n",
    "3. Call the estimator.\n",
    "\n",
    "Alternatively we could \n",
    "1. generate the input state |000> + e^{phi} |111>\n",
    "2. Sample the output of the measurement\n",
    "3. Call the sampler\n"
   ]
  },
  {
   "cell_type": "code",
   "execution_count": 1,
   "id": "86d8cc11-b0ca-40b4-a687-39801407a512",
   "metadata": {
    "scrolled": true
   },
   "outputs": [
    {
     "data": {
      "text/html": [
       "<pre style=\"word-wrap: normal;white-space: pre;background: #fff0;line-height: 1.1;font-family: &quot;Courier New&quot;,Courier,monospace\">     ┌───┐┌──────┐          \n",
       "q_0: ┤ H ├┤ P(θ) ├──■────■──\n",
       "     └───┘└──────┘┌─┴─┐  │  \n",
       "q_1: ─────────────┤ X ├──┼──\n",
       "                  └───┘┌─┴─┐\n",
       "q_2: ──────────────────┤ X ├\n",
       "                       └───┘</pre>"
      ],
      "text/plain": [
       "     ┌───┐┌──────┐          \n",
       "q_0: ┤ H ├┤ P(θ) ├──■────■──\n",
       "     └───┘└──────┘┌─┴─┐  │  \n",
       "q_1: ─────────────┤ X ├──┼──\n",
       "                  └───┘┌─┴─┐\n",
       "q_2: ──────────────────┤ X ├\n",
       "                       └───┘"
      ]
     },
     "execution_count": 1,
     "metadata": {},
     "output_type": "execute_result"
    }
   ],
   "source": [
    "# General imports\n",
    "import numpy as np\n",
    "\n",
    "# Qiskit imports\n",
    "from qiskit import QuantumCircuit\n",
    "from qiskit.circuit import Parameter\n",
    "theta = Parameter('θ')\n",
    "\n",
    "\n",
    "# Step 1. Choose the quantum circuit to make the quantum state |000> + e^{theta} |111>\n",
    "qc_example = QuantumCircuit(3)\n",
    "qc_example.h(0) # generate superposition\n",
    "qc_example.p(theta, 0) # add quantum phase\n",
    "qc_example.cx(0, 1) # condition 1st qubit on 0th qubit\n",
    "qc_example.cx(0, 2) # condition 2nd qubit on 0th qubit\n",
    "qc_example.draw()"
   ]
  },
  {
   "cell_type": "code",
   "execution_count": 2,
   "id": "496fe498-75d2-4d5e-8aa0-f59c6f4a9b05",
   "metadata": {},
   "outputs": [
    {
     "name": "stdout",
     "output_type": "stream",
     "text": [
      "SparsePauliOp(['XXY', 'XYX', 'YXX', 'YYY'],\n",
      "              coeffs=[ 1.+0.j,  1.+0.j,  1.+0.j, -1.+0.j])\n"
     ]
    }
   ],
   "source": [
    "from qiskit.quantum_info import SparsePauliOp\n",
    "\n",
    "# Step 2: Choose the output to be measured\n",
    "M1 = SparsePauliOp.from_list([(\"XXY\", 1), (\"XYX\", 1), (\"YXX\", 1), (\"YYY\", -1)])\n",
    "\n",
    "print(M1)"
   ]
  },
  {
   "cell_type": "code",
   "execution_count": 3,
   "id": "358fa68a-87c0-4e76-be11-337b7a2088d7",
   "metadata": {},
   "outputs": [
    {
     "name": "stdout",
     "output_type": "stream",
     "text": [
      " > Expectation values: [4.]\n"
     ]
    }
   ],
   "source": [
    "from qiskit.primitives.estimator import Estimator\n",
    "\n",
    "#step 3. Choose the primitive function to be executed\n",
    "estimator = Estimator()\n",
    "\n",
    "job = estimator.run(qc_example, M1, shots=1000, parameter_values=np.pi/2)\n",
    "result = job.result()\n",
    "print(f\" > Expectation values: {result.values}\")"
   ]
  },
  {
   "cell_type": "markdown",
   "id": "b22fc11d-c770-44cd-8d63-9c205e59cee3",
   "metadata": {},
   "source": [
    "Now imagine that you did not know which value of pi/2 maximized the inequality. One way a user could find this is to run many phases and plot the output as a function of the phase variable. However first lets switch to using the the IBM runtime"
   ]
  },
  {
   "cell_type": "code",
   "execution_count": 4,
   "id": "03302eb4-b935-4d52-aff3-348f69967dd5",
   "metadata": {},
   "outputs": [
    {
     "name": "stdout",
     "output_type": "stream",
     "text": [
      "Job ID is cjrtt2grkbgpt6ur45ug\n",
      "Job result is [ 5.5600e-02  4.8600e-01  9.9880e-01  1.4412e+00  1.9088e+00  2.3196e+00\n",
      "  2.7012e+00  3.1080e+00  3.4032e+00  3.6020e+00  3.7972e+00  3.9180e+00\n",
      "  3.9920e+00  3.9916e+00  3.9212e+00  3.7920e+00  3.5952e+00  3.3464e+00\n",
      "  3.0624e+00  2.7192e+00  2.3440e+00  1.8836e+00  1.5292e+00  9.8960e-01\n",
      "  5.3240e-01 -2.0000e-03 -5.7200e-01 -9.8320e-01 -1.5196e+00 -1.9388e+00\n",
      " -2.3520e+00 -2.7576e+00 -3.0872e+00 -3.3680e+00 -3.6384e+00 -3.8104e+00\n",
      " -3.9396e+00 -3.9920e+00 -3.9936e+00 -3.9324e+00 -3.8208e+00 -3.6104e+00\n",
      " -3.3720e+00 -3.1012e+00 -2.7536e+00 -2.3420e+00 -1.8860e+00 -1.4552e+00\n",
      " -1.0224e+00 -4.7880e-01]\n"
     ]
    }
   ],
   "source": [
    "from qiskit_ibm_runtime import QiskitRuntimeService, Options, Estimator\n",
    "service = QiskitRuntimeService()\n",
    "\n",
    "options = Options(optimization_level=1)\n",
    "options.execution.shots = 5000  # Options can be set using auto-complete.\n",
    "\n",
    "# batch of theta values to run in a single job with 50 different points \n",
    "points = 50\n",
    "theta1 = []\n",
    "for x in range(points):\n",
    "    theta = [x*2.0*np.pi/50]\n",
    "    theta1.append(theta)\n",
    "    \n",
    "backend = service.get_backend('ibmq_qasm_simulator')\n",
    "estimator = Estimator(backend, options=options)\n",
    "\n",
    "job = estimator.run(circuits=[qc_example]*points, observables=[M1]*points, parameter_values=theta1)\n",
    "print(f\"Job ID is {job.job_id()}\")\n",
    "print(f\"Job result is {job.result().values}\")"
   ]
  },
  {
   "cell_type": "code",
   "execution_count": 5,
   "id": "388f514c-28a4-466e-a692-4b3b22250518",
   "metadata": {},
   "outputs": [
    {
     "data": {
      "image/png": "[encoded data removed]",
      "text/plain": [
       "<Figure size 640x480 with 1 Axes>"
      ]
     },
     "metadata": {},
     "output_type": "display_data"
    }
   ],
   "source": [
    "result = job.result()\n",
    "import matplotlib.pyplot as plt\n",
    "\n",
    "\n",
    "plt.plot(theta1, result.values)\n",
    "plt.ylabel('XXY + XYX + YXX - YYY')\n",
    "plt.xlabel('theta')\n",
    "plt.show()"
   ]
  },
  {
   "cell_type": "markdown",
   "id": "92dc6ae4-0a5e-4d43-95c8-f5a90e080db4",
   "metadata": {},
   "source": [
    "Now a powerful tool in the IBM Qiskit Runtime is the ability to use a session. A session allows you to lock the QPU and use it in an iterative manner. "
   ]
  },
  {
   "cell_type": "code",
   "execution_count": 6,
   "id": "beca5c97-b8a2-47d8-9e5a-422b2c891750",
   "metadata": {},
   "outputs": [
    {
     "name": "stdout",
     "output_type": "stream",
     "text": [
      "max value of M1 is in the range theta = [0, 6.283185307179586]\n",
      "max value of M1 is in the range theta = [0, 3.8832220774509327]\n",
      "max value of M1 is in the range theta = [0, 2.399963229728653]\n",
      "max value of M1 is in the range theta = [0.9167043820063734, 2.399963229728653]\n",
      "max value of M1 is in the range theta = [0.9167043820063734, 1.8334087640127468]\n",
      "max value of M1 is in the range theta = [1.2668542982968405, 1.8334087640127468]\n",
      "max value of M1 is in the range theta = [1.4832588477222797, 1.8334087640127468]\n",
      "max value of M1 is in the range theta = [1.4832588477222797, 1.6996633971477189]\n",
      "max value of M1 is in the range theta = [1.4832588477222797, 1.6170042145873076]\n",
      "Session ID is cjrtt7lr4b3c0j65fg1g\n",
      "Final Job ID is cjrttflr4b3c0j65grjg\n",
      "Job result is [4.] at theta = 1.575674623307102\n"
     ]
    }
   ],
   "source": [
    "from qiskit_ibm_runtime import QiskitRuntimeService, Options, Estimator, Session\n",
    "service = QiskitRuntimeService()\n",
    "\n",
    "options = Options(optimization_level=1)\n",
    "options.execution.shots = 5000  # Options can be set using auto-complete.\n",
    "\n",
    "# golden search method for finding max of M1 vs theta \n",
    "# https://en.wikipedia.org/wiki/Golden-section_search\n",
    "gr = (np.sqrt(5) + 1) / 2\n",
    "\n",
    "# range of theta  \n",
    "thetaa = 0\n",
    "thetab = 2*np.pi\n",
    "\n",
    "#tol \n",
    "tol = 1e-1\n",
    "\n",
    "with Session(service=service, backend=\"ibmq_qasm_simulator\") as session:\n",
    "    estimator = Estimator(session=session, options=options)\n",
    "\n",
    "    #next test range \n",
    "    thetac = thetab - (thetab - thetaa) / gr\n",
    "    thetad = thetaa + (thetab - thetaa) / gr\n",
    "    while abs(thetab - thetaa) > tol:\n",
    "        \n",
    "        print(f\"max value of M1 is in the range theta = {[thetaa, thetab]}\")\n",
    "        job = estimator.run(circuits=[qc_example]*2, observables=[M1]*2, parameter_values=[[thetac],[thetad]])\n",
    "        \n",
    "        test =job.result().values\n",
    "        if test[0] > test[1]:\n",
    "            thetab = thetad\n",
    "        else:\n",
    "            thetaa = thetac\n",
    "        \n",
    "        thetac = thetab - (thetab - thetaa) / gr\n",
    "        thetad = thetaa + (thetab - thetaa) / gr\n",
    "        \n",
    "    # Final Job to evaluate estimator at mid point found using golden search method \n",
    "    theta_mid = (thetab + thetaa) / 2\n",
    "    job = estimator.run(circuits=qc_example, observables=M1, parameter_values=theta_mid)\n",
    "    print(f\"Session ID is {session.session_id}\")\n",
    "    print(f\"Final Job ID is {job.job_id()}\")\n",
    "    print(f\"Job result is {job.result().values} at theta = {theta_mid}\")"
   ]
  },
  {
   "cell_type": "markdown",
   "id": "6806c833-4bfa-455a-9c74-4dff3a2cac0b",
   "metadata": {},
   "source": [
    "Now we are going to move to the sampler. Here we simply show that the output of the circuit is 50/50. Suggesting that it is either entangled or mixed (this is one of the reasons why the estimator is so much more powerful as the primitive function can use near time compute and make this into doubles rather than samples)"
   ]
  },
  {
   "cell_type": "code",
   "execution_count": 7,
   "id": "f3603dc6-a1e1-4196-9cf9-dfbb4d75eeae",
   "metadata": {},
   "outputs": [
    {
     "name": "stdout",
     "output_type": "stream",
     "text": [
      " > Quasi probability distribution: [{0: 0.5, 7: 0.5}]\n"
     ]
    }
   ],
   "source": [
    "# Step 2: Add a measurement using the compose function\n",
    "qc_measure = QuantumCircuit(3,3)\n",
    "qc_measure.measure_all(add_bits=False)\n",
    "qc_compose = qc_example.compose(qc_measure)\n",
    "\n",
    "\n",
    "# Step 3: choose the sampler and execute the quantum circuit. \n",
    "from qiskit.primitives.sampler import Sampler\n",
    "sampler = Sampler()\n",
    "\n",
    "job = sampler.run(qc_compose, shots=1000, parameter_values=np.pi/2)\n",
    "result = job.result()\n",
    "print(f\" > Quasi probability distribution: {result.quasi_dists}\")"
   ]
  },
  {
   "cell_type": "code",
   "execution_count": 8,
   "id": "e864c816-32ea-4e7b-9391-2bfff89d1bde",
   "metadata": {},
   "outputs": [
    {
     "data": {
      "text/html": [
       "<pre style=\"word-wrap: normal;white-space: pre;background: #fff0;line-height: 1.1;font-family: &quot;Courier New&quot;,Courier,monospace\">     ┌───┐┌──────┐           ░ ┌─┐      \n",
       "q_0: ┤ H ├┤ P(θ) ├──■────■───░─┤M├──────\n",
       "     └───┘└──────┘┌─┴─┐  │   ░ └╥┘┌─┐   \n",
       "q_1: ─────────────┤ X ├──┼───░──╫─┤M├───\n",
       "                  └───┘┌─┴─┐ ░  ║ └╥┘┌─┐\n",
       "q_2: ──────────────────┤ X ├─░──╫──╫─┤M├\n",
       "                       └───┘ ░  ║  ║ └╥┘\n",
       "c: 3/═══════════════════════════╩══╩══╩═\n",
       "                                0  1  2 </pre>"
      ],
      "text/plain": [
       "     ┌───┐┌──────┐           ░ ┌─┐      \n",
       "q_0: ┤ H ├┤ P(θ) ├──■────■───░─┤M├──────\n",
       "     └───┘└──────┘┌─┴─┐  │   ░ └╥┘┌─┐   \n",
       "q_1: ─────────────┤ X ├──┼───░──╫─┤M├───\n",
       "                  └───┘┌─┴─┐ ░  ║ └╥┘┌─┐\n",
       "q_2: ──────────────────┤ X ├─░──╫──╫─┤M├\n",
       "                       └───┘ ░  ║  ║ └╥┘\n",
       "c: 3/═══════════════════════════╩══╩══╩═\n",
       "                                0  1  2 "
      ]
     },
     "execution_count": 8,
     "metadata": {},
     "output_type": "execute_result"
    }
   ],
   "source": [
    "qc_compose.draw()"
   ]
  },
  {
   "cell_type": "code",
   "execution_count": 9,
   "id": "dc39ed5d-ac60-4bd3-b649-963749f1881b",
   "metadata": {},
   "outputs": [
    {
     "name": "stdout",
     "output_type": "stream",
     "text": [
      "Job ID is cjrtth4m0kng5pgpj4o0\n",
      "Job result is SamplerResult(quasi_dists=[{7: 0.5087890625, 0: 0.4912109375}], metadata=[{'shots': 1024}])\n"
     ]
    }
   ],
   "source": [
    "from qiskit_ibm_runtime import QiskitRuntimeService, Options, Sampler\n",
    "service = QiskitRuntimeService()\n",
    "\n",
    "options = Options(optimization_level=1)\n",
    "options.execution.shots = 1024  # Options can be set using auto-complete.\n",
    "\n",
    "\n",
    "backend = service.get_backend('ibmq_qasm_simulator')\n",
    "\n",
    "sampler = Sampler(backend=backend, options=options)\n",
    "job = sampler.run(circuits=qc_compose, parameter_values=np.pi/2)\n",
    "print(f\"Job ID is {job.job_id()}\")\n",
    "print(f\"Job result is {job.result()}\")"
   ]
  },
  {
   "cell_type": "markdown",
   "id": "2423b3b8-8142-4f89-a5a1-658ff28b0b27",
   "metadata": {},
   "source": [
    "As a last example Qiskit has a transpiler which is powerful and can help you map your quantum circuits to quantum hardware."
   ]
  },
  {
   "cell_type": "code",
   "execution_count": 10,
   "id": "40796363-c921-4214-9ef0-c253ce1401b9",
   "metadata": {},
   "outputs": [
    {
     "data": {
      "text/html": [
       "<pre style=\"word-wrap: normal;white-space: pre;background: #fff0;line-height: 1.1;font-family: &quot;Courier New&quot;,Courier,monospace\">         ┌─────────┐┌────┐ ┌───────┐                      ┌────┐  ┌─────────┐\n",
       "q_2 -> 0 ┤ Rz(π/2) ├┤ √X ├─┤ Rz(π) ├───────────────■──────┤ √X ├──┤ Rz(π/2) ├\n",
       "         ├─────────┤├────┤┌┴───────┴┐┌───────┐     │      └────┘  └─────────┘\n",
       "q_0 -> 1 ┤ Rz(π/2) ├┤ √X ├┤ Rz(π/2) ├┤ Rz(θ) ├─■───■─────────────────────────\n",
       "         ├─────────┤├────┤└┬───────┬┘└───────┘ │ ┌────┐┌─────────┐           \n",
       "q_1 -> 2 ┤ Rz(π/2) ├┤ √X ├─┤ Rz(π) ├───────────■─┤ √X ├┤ Rz(π/2) ├───────────\n",
       "         └─────────┘└────┘ └───────┘             └────┘└─────────┘           </pre>"
      ],
      "text/plain": [
       "         ┌─────────┐┌────┐ ┌───────┐                      ┌────┐  ┌─────────┐\n",
       "q_2 -> 0 ┤ Rz(π/2) ├┤ √X ├─┤ Rz(π) ├───────────────■──────┤ √X ├──┤ Rz(π/2) ├\n",
       "         ├─────────┤├────┤┌┴───────┴┐┌───────┐     │      └────┘  └─────────┘\n",
       "q_0 -> 1 ┤ Rz(π/2) ├┤ √X ├┤ Rz(π/2) ├┤ Rz(θ) ├─■───■─────────────────────────\n",
       "         ├─────────┤├────┤└┬───────┬┘└───────┘ │ ┌────┐┌─────────┐           \n",
       "q_1 -> 2 ┤ Rz(π/2) ├┤ √X ├─┤ Rz(π) ├───────────■─┤ √X ├┤ Rz(π/2) ├───────────\n",
       "         └─────────┘└────┘ └───────┘             └────┘└─────────┘           "
      ]
     },
     "execution_count": 10,
     "metadata": {},
     "output_type": "execute_result"
    }
   ],
   "source": [
    "from qiskit.compiler import transpile\n",
    "qc_ibm = transpile(qc_example, basis_gates = ['cz', 'sx', 'rz'], coupling_map =[[0, 1], [1, 2]] , optimization_level=3)\n",
    "qc_ibm.draw()\n"
   ]
  },
  {
   "cell_type": "code",
   "execution_count": null,
   "id": "00263fde-5b28-42f5-9244-c69b559375b4",
   "metadata": {},
   "outputs": [],
   "source": []
  }
 ],
 "metadata": {
  "kernelspec": {
   "display_name": "Python 3 (ipykernel)",
   "language": "python",
   "name": "python3"
  },
  "language_info": {
   "codemirror_mode": {
    "name": "ipython",
    "version": 3
   },
   "file_extension": ".py",
   "mimetype": "text/x-python",
   "name": "python",
   "nbconvert_exporter": "python",
   "pygments_lexer": "ipython3",
   "version": "3.11.5"
  }
 },
 "nbformat": 4,
 "nbformat_minor": 5
}
