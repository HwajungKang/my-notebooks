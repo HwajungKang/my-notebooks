{
 "cells": [
  {
   "cell_type": "code",
   "execution_count": 2,
   "metadata": {},
   "outputs": [],
   "source": [
    "from qiskit import *"
   ]
  },
  {
   "cell_type": "code",
   "execution_count": 3,
   "metadata": {},
   "outputs": [
    {
     "data": {
      "text/html": [
       "<pre style=\"word-wrap: normal;white-space: pre;background: #fff0;line-height: 1.1;font-family: &quot;Courier New&quot;,Courier,monospace\">     ┌───┐     ┌─┐   \n",
       "q_0: ┤ H ├──■──┤M├───\n",
       "     └───┘┌─┴─┐└╥┘┌─┐\n",
       "q_1: ─────┤ X ├─╫─┤M├\n",
       "          └───┘ ║ └╥┘\n",
       "c_0: ═══════════╩══╬═\n",
       "                   ║ \n",
       "c_1: ══════════════╩═\n",
       "                     </pre>"
      ],
      "text/plain": [
       "     ┌───┐     ┌─┐   \n",
       "q_0: ┤ H ├──■──┤M├───\n",
       "     └───┘┌─┴─┐└╥┘┌─┐\n",
       "q_1: ─────┤ X ├─╫─┤M├\n",
       "          └───┘ ║ └╥┘\n",
       "c_0: ═══════════╩══╬═\n",
       "                   ║ \n",
       "c_1: ══════════════╩═\n",
       "                     "
      ]
     },
     "execution_count": 3,
     "metadata": {},
     "output_type": "execute_result"
    }
   ],
   "source": [
    "circuit = QuantumCircuit(2, 2)\n",
    "circuit.h(0)\n",
    "circuit.cx(0,1)\n",
    "circuit.measure([0,1], [0,1])\n",
    "circuit.draw()"
   ]
  },
  {
   "cell_type": "code",
   "execution_count": 4,
   "metadata": {},
   "outputs": [
    {
     "data": {
      "text/plain": [
       "[<QasmSimulatorPy('qasm_simulator') from BasicAer()>,\n",
       " <StatevectorSimulatorPy('statevector_simulator') from BasicAer()>,\n",
       " <UnitarySimulatorPy('unitary_simulator') from BasicAer()>]"
      ]
     },
     "execution_count": 4,
     "metadata": {},
     "output_type": "execute_result"
    }
   ],
   "source": [
    "BasicAer.backends()"
   ]
  },
  {
   "cell_type": "code",
   "execution_count": 5,
   "metadata": {},
   "outputs": [
    {
     "data": {
      "text/plain": [
       "[<QasmSimulator('qasm_simulator') from AerProvider()>,\n",
       " <StatevectorSimulator('statevector_simulator') from AerProvider()>,\n",
       " <UnitarySimulator('unitary_simulator') from AerProvider()>,\n",
       " <PulseSimulator('pulse_simulator') from AerProvider()>]"
      ]
     },
     "execution_count": 5,
     "metadata": {},
     "output_type": "execute_result"
    }
   ],
   "source": [
    "Aer.backends()"
   ]
  },
  {
   "cell_type": "code",
   "execution_count": 8,
   "metadata": {},
   "outputs": [
    {
     "name": "stderr",
     "output_type": "stream",
     "text": [
      "ibmqfactory.load_account:WARNING:2020-04-13 21:51:09,041: Credentials are already in use. The existing account in the session will be replaced.\n"
     ]
    }
   ],
   "source": [
    "provider = IBMQ.load_account()"
   ]
  },
  {
   "cell_type": "code",
   "execution_count": 9,
   "metadata": {},
   "outputs": [
    {
     "data": {
      "text/plain": [
       "[<IBMQSimulator('ibmq_qasm_simulator') from IBMQ(hub='ibm-q', group='open', project='main')>,\n",
       " <IBMQBackend('ibmqx2') from IBMQ(hub='ibm-q', group='open', project='main')>,\n",
       " <IBMQBackend('ibmq_16_melbourne') from IBMQ(hub='ibm-q', group='open', project='main')>,\n",
       " <IBMQBackend('ibmq_vigo') from IBMQ(hub='ibm-q', group='open', project='main')>,\n",
       " <IBMQBackend('ibmq_ourense') from IBMQ(hub='ibm-q', group='open', project='main')>,\n",
       " <IBMQBackend('ibmq_london') from IBMQ(hub='ibm-q', group='open', project='main')>,\n",
       " <IBMQBackend('ibmq_burlington') from IBMQ(hub='ibm-q', group='open', project='main')>,\n",
       " <IBMQBackend('ibmq_essex') from IBMQ(hub='ibm-q', group='open', project='main')>,\n",
       " <IBMQBackend('ibmq_armonk') from IBMQ(hub='ibm-q', group='open', project='main')>]"
      ]
     },
     "execution_count": 9,
     "metadata": {},
     "output_type": "execute_result"
    }
   ],
   "source": [
    "provider.backends()"
   ]
  },
  {
   "cell_type": "code",
   "execution_count": 10,
   "metadata": {},
   "outputs": [],
   "source": [
    "from qiskit.tools.monitor import job_monitor"
   ]
  },
  {
   "cell_type": "code",
   "execution_count": 14,
   "metadata": {},
   "outputs": [
    {
     "data": {
      "text/html": [
       "<pre style=\"word-wrap: normal;white-space: pre;background: #fff0;line-height: 1.1;font-family: &quot;Courier New&quot;,Courier,monospace\">     ┌──────────┐     ┌─┐   \n",
       "q_0: ┤ U2(0,pi) ├──■──┤M├───\n",
       "     └──────────┘┌─┴─┐└╥┘┌─┐\n",
       "q_1: ────────────┤ X ├─╫─┤M├\n",
       "                 └───┘ ║ └╥┘\n",
       "c_0: ══════════════════╩══╬═\n",
       "                          ║ \n",
       "c_1: ═════════════════════╩═\n",
       "                            </pre>"
      ],
      "text/plain": [
       "     ┌──────────┐     ┌─┐   \n",
       "q_0: ┤ U2(0,pi) ├──■──┤M├───\n",
       "     └──────────┘┌─┴─┐└╥┘┌─┐\n",
       "q_1: ────────────┤ X ├─╫─┤M├\n",
       "                 └───┘ ║ └╥┘\n",
       "c_0: ══════════════════╩══╬═\n",
       "                          ║ \n",
       "c_1: ═════════════════════╩═\n",
       "                            "
      ]
     },
     "execution_count": 14,
     "metadata": {},
     "output_type": "execute_result"
    }
   ],
   "source": [
    "backend = BasicAer.get_backend('qasm_simulator')\n",
    "new_circuit=transpile(circuit,backend)\n",
    "new_circuit.draw()"
   ]
  },
  {
   "cell_type": "code",
   "execution_count": 15,
   "metadata": {},
   "outputs": [
    {
     "name": "stdout",
     "output_type": "stream",
     "text": [
      "{'11': 510, '00': 514}\n"
     ]
    }
   ],
   "source": [
    "job = backend.run(assemble(new_circuit))\n",
    "result = job.result()\n",
    "counts1 = result.get_counts()\n",
    "print(counts1)"
   ]
  },
  {
   "cell_type": "code",
   "execution_count": 18,
   "metadata": {},
   "outputs": [
    {
     "data": {
      "text/html": [
       "<pre style=\"word-wrap: normal;white-space: pre;background: #fff0;line-height: 1.1;font-family: &quot;Courier New&quot;,Courier,monospace\">     ┌───┐     ┌─┐   \n",
       "q_0: ┤ H ├──■──┤M├───\n",
       "     └───┘┌─┴─┐└╥┘┌─┐\n",
       "q_1: ─────┤ X ├─╫─┤M├\n",
       "          └───┘ ║ └╥┘\n",
       "c_0: ═══════════╩══╬═\n",
       "                   ║ \n",
       "c_1: ══════════════╩═\n",
       "                     </pre>"
      ],
      "text/plain": [
       "     ┌───┐     ┌─┐   \n",
       "q_0: ┤ H ├──■──┤M├───\n",
       "     └───┘┌─┴─┐└╥┘┌─┐\n",
       "q_1: ─────┤ X ├─╫─┤M├\n",
       "          └───┘ ║ └╥┘\n",
       "c_0: ═══════════╩══╬═\n",
       "                   ║ \n",
       "c_1: ══════════════╩═\n",
       "                     "
      ]
     },
     "execution_count": 18,
     "metadata": {},
     "output_type": "execute_result"
    }
   ],
   "source": [
    "backend = provider.get_backend('ibmq_qasm_simulator')\n",
    "new_circuit=transpile(circuit,backend)\n",
    "new_circuit.draw()"
   ]
  },
  {
   "cell_type": "code",
   "execution_count": 19,
   "metadata": {},
   "outputs": [
    {
     "name": "stdout",
     "output_type": "stream",
     "text": [
      "{'11': 518, '00': 506}\n"
     ]
    }
   ],
   "source": [
    "job = backend.run(assemble(new_circuit))\n",
    "result = job.result()\n",
    "counts2 = result.get_counts()\n",
    "print(counts2)"
   ]
  },
  {
   "cell_type": "code",
   "execution_count": 20,
   "metadata": {},
   "outputs": [
    {
     "data": {
      "text/html": [
       "<pre style=\"word-wrap: normal;white-space: pre;background: #fff0;line-height: 1.1;font-family: &quot;Courier New&quot;,Courier,monospace\">               ┌──────────┐     ┌─┐   \n",
       "      q_0 -> 0 ┤ U2(0,pi) ├──■──┤M├───\n",
       "               └──────────┘┌─┴─┐└╥┘┌─┐\n",
       "      q_1 -> 1 ────────────┤ X ├─╫─┤M├\n",
       "                           └───┘ ║ └╥┘\n",
       "ancilla_0 -> 2 ──────────────────╫──╫─\n",
       "                                 ║  ║ \n",
       "ancilla_1 -> 3 ──────────────────╫──╫─\n",
       "                                 ║  ║ \n",
       "ancilla_2 -> 4 ──────────────────╫──╫─\n",
       "                                 ║  ║ \n",
       "          c_0: ══════════════════╩══╬═\n",
       "                                    ║ \n",
       "          c_1: ═════════════════════╩═\n",
       "                                      </pre>"
      ],
      "text/plain": [
       "               ┌──────────┐     ┌─┐   \n",
       "      q_0 -> 0 ┤ U2(0,pi) ├──■──┤M├───\n",
       "               └──────────┘┌─┴─┐└╥┘┌─┐\n",
       "      q_1 -> 1 ────────────┤ X ├─╫─┤M├\n",
       "                           └───┘ ║ └╥┘\n",
       "ancilla_0 -> 2 ──────────────────╫──╫─\n",
       "                                 ║  ║ \n",
       "ancilla_1 -> 3 ──────────────────╫──╫─\n",
       "                                 ║  ║ \n",
       "ancilla_2 -> 4 ──────────────────╫──╫─\n",
       "                                 ║  ║ \n",
       "          c_0: ══════════════════╩══╬═\n",
       "                                    ║ \n",
       "          c_1: ═════════════════════╩═\n",
       "                                      "
      ]
     },
     "execution_count": 20,
     "metadata": {},
     "output_type": "execute_result"
    }
   ],
   "source": [
    "backend = provider.get_backend('ibmq_burlington')\n",
    "new_circuit=transpile(circuit,backend)\n",
    "new_circuit.draw()"
   ]
  },
  {
   "cell_type": "code",
   "execution_count": 23,
   "metadata": {},
   "outputs": [
    {
     "name": "stdout",
     "output_type": "stream",
     "text": [
      "Job Status: job has successfully run\n",
      "{'01': 157, '00': 446, '11': 329, '10': 92}\n"
     ]
    }
   ],
   "source": [
    "job = backend.run(assemble(new_circuit))\n",
    "job_monitor(job)\n",
    "result = job.result()\n",
    "counts3 = result.get_counts()\n",
    "print(counts3)"
   ]
  },
  {
   "cell_type": "code",
   "execution_count": 24,
   "metadata": {},
   "outputs": [
    {
     "data": {
      "text/html": [
       "<pre style=\"word-wrap: normal;white-space: pre;background: #fff0;line-height: 1.1;font-family: &quot;Courier New&quot;,Courier,monospace\">                 ┌──────────┐     ┌─┐   \n",
       "        q_0 -> 0 ┤ U2(0,pi) ├──■──┤M├───\n",
       "                 └──────────┘┌─┴─┐└╥┘┌─┐\n",
       "        q_1 -> 1 ────────────┤ X ├─╫─┤M├\n",
       "                             └───┘ ║ └╥┘\n",
       "  ancilla_0 -> 2 ──────────────────╫──╫─\n",
       "                                   ║  ║ \n",
       "  ancilla_1 -> 3 ──────────────────╫──╫─\n",
       "                                   ║  ║ \n",
       "  ancilla_2 -> 4 ──────────────────╫──╫─\n",
       "                                   ║  ║ \n",
       "  ancilla_3 -> 5 ──────────────────╫──╫─\n",
       "                                   ║  ║ \n",
       "  ancilla_4 -> 6 ──────────────────╫──╫─\n",
       "                                   ║  ║ \n",
       "  ancilla_5 -> 7 ──────────────────╫──╫─\n",
       "                                   ║  ║ \n",
       "  ancilla_6 -> 8 ──────────────────╫──╫─\n",
       "                                   ║  ║ \n",
       "  ancilla_7 -> 9 ──────────────────╫──╫─\n",
       "                                   ║  ║ \n",
       " ancilla_8 -> 10 ──────────────────╫──╫─\n",
       "                                   ║  ║ \n",
       " ancilla_9 -> 11 ──────────────────╫──╫─\n",
       "                                   ║  ║ \n",
       "ancilla_10 -> 12 ──────────────────╫──╫─\n",
       "                                   ║  ║ \n",
       "ancilla_11 -> 13 ──────────────────╫──╫─\n",
       "                                   ║  ║ \n",
       "ancilla_12 -> 14 ──────────────────╫──╫─\n",
       "                                   ║  ║ \n",
       "            c_0: ══════════════════╩══╬═\n",
       "                                      ║ \n",
       "            c_1: ═════════════════════╩═\n",
       "                                        </pre>"
      ],
      "text/plain": [
       "                 ┌──────────┐     ┌─┐   \n",
       "        q_0 -> 0 ┤ U2(0,pi) ├──■──┤M├───\n",
       "                 └──────────┘┌─┴─┐└╥┘┌─┐\n",
       "        q_1 -> 1 ────────────┤ X ├─╫─┤M├\n",
       "                             └───┘ ║ └╥┘\n",
       "  ancilla_0 -> 2 ──────────────────╫──╫─\n",
       "                                   ║  ║ \n",
       "  ancilla_1 -> 3 ──────────────────╫──╫─\n",
       "                                   ║  ║ \n",
       "  ancilla_2 -> 4 ──────────────────╫──╫─\n",
       "                                   ║  ║ \n",
       "  ancilla_3 -> 5 ──────────────────╫──╫─\n",
       "                                   ║  ║ \n",
       "  ancilla_4 -> 6 ──────────────────╫──╫─\n",
       "                                   ║  ║ \n",
       "  ancilla_5 -> 7 ──────────────────╫──╫─\n",
       "                                   ║  ║ \n",
       "  ancilla_6 -> 8 ──────────────────╫──╫─\n",
       "                                   ║  ║ \n",
       "  ancilla_7 -> 9 ──────────────────╫──╫─\n",
       "                                   ║  ║ \n",
       " ancilla_8 -> 10 ──────────────────╫──╫─\n",
       "                                   ║  ║ \n",
       " ancilla_9 -> 11 ──────────────────╫──╫─\n",
       "                                   ║  ║ \n",
       "ancilla_10 -> 12 ──────────────────╫──╫─\n",
       "                                   ║  ║ \n",
       "ancilla_11 -> 13 ──────────────────╫──╫─\n",
       "                                   ║  ║ \n",
       "ancilla_12 -> 14 ──────────────────╫──╫─\n",
       "                                   ║  ║ \n",
       "            c_0: ══════════════════╩══╬═\n",
       "                                      ║ \n",
       "            c_1: ═════════════════════╩═\n",
       "                                        "
      ]
     },
     "execution_count": 24,
     "metadata": {},
     "output_type": "execute_result"
    }
   ],
   "source": [
    "backend = provider.get_backend('ibmq_16_melbourne')\n",
    "new_circuit=transpile(circuit,backend)\n",
    "new_circuit.draw()"
   ]
  },
  {
   "cell_type": "code",
   "execution_count": 31,
   "metadata": {},
   "outputs": [
    {
     "name": "stdout",
     "output_type": "stream",
     "text": [
      "Job Status: job has successfully run\n",
      "{'01': 52, '00': 507, '11': 443, '10': 22}\n"
     ]
    }
   ],
   "source": [
    "job = backend.run(assemble(new_circuit))\n",
    "job_monitor(job)\n",
    "result = job.result()\n",
    "counts4 = result.get_counts()\n",
    "print(counts4)"
   ]
  },
  {
   "cell_type": "code",
   "execution_count": 28,
   "metadata": {},
   "outputs": [],
   "source": [
    "from qiskit.visualization import plot_histogram"
   ]
  },
  {
   "cell_type": "code",
   "execution_count": 30,
   "metadata": {},
   "outputs": [
    {
     "data": {
      "image/png": "[encoded data removed]",
      "text/plain": [
       "<Figure size 504x360 with 1 Axes>"
      ]
     },
     "execution_count": 30,
     "metadata": {},
     "output_type": "execute_result"
    }
   ],
   "source": [
    "plot_histogram([counts1,counts4, counts3])"
   ]
  },
  {
   "cell_type": "code",
   "execution_count": null,
   "metadata": {},
   "outputs": [],
   "source": []
  }
 ],
 "metadata": {
  "kernelspec": {
   "display_name": "Python 3",
   "language": "python",
   "name": "python3"
  },
  "language_info": {
   "codemirror_mode": {
    "name": "ipython",
    "version": 3
   },
   "file_extension": ".py",
   "mimetype": "text/x-python",
   "name": "python",
   "nbconvert_exporter": "python",
   "pygments_lexer": "ipython3",
   "version": "3.8.2"
  }
 },
 "nbformat": 4,
 "nbformat_minor": 2
}
