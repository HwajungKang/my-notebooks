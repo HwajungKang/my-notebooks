{
 "cells": [
  {
   "cell_type": "code",
   "execution_count": 1,
   "metadata": {},
   "outputs": [
    {
     "data": {
      "text/plain": [
       "<AccountProvider for IBMQ(hub='ibm-q', group='open', project='main')>"
      ]
     },
     "execution_count": 1,
     "metadata": {},
     "output_type": "execute_result"
    }
   ],
   "source": [
    "from qiskit import *\n",
    "IBMQ.load_account()"
   ]
  },
  {
   "cell_type": "code",
   "execution_count": 2,
   "metadata": {},
   "outputs": [],
   "source": [
    "provider = IBMQ.get_provider(hub='ibm-q-internal', group='deployed', project='default')"
   ]
  },
  {
   "cell_type": "code",
   "execution_count": 3,
   "metadata": {},
   "outputs": [],
   "source": [
    "from qiskit.tools.jupyter import *"
   ]
  },
  {
   "cell_type": "code",
   "execution_count": 4,
   "metadata": {},
   "outputs": [
    {
     "data": {
      "application/vnd.jupyter.widget-view+json": {
       "model_id": "7c2aef4ad38445fe86ec9ea16545dc11",
       "version_major": 2,
       "version_minor": 0
      },
      "text/plain": [
       "VBox(children=(HTML(value=\"<h2 style ='color:#ffffff; background-color:#000000;padding-top: 1%; padding-bottom…"
      ]
     },
     "metadata": {},
     "output_type": "display_data"
    }
   ],
   "source": [
    "%qiskit_backend_overview"
   ]
  },
  {
   "cell_type": "code",
   "execution_count": 5,
   "metadata": {},
   "outputs": [],
   "source": [
    "from qiskit.tools.monitor import job_monitor, backend_monitor, backend_overview"
   ]
  },
  {
   "cell_type": "code",
   "execution_count": 6,
   "metadata": {},
   "outputs": [
    {
     "name": "stdout",
     "output_type": "stream",
     "text": [
      "ibmq_paris                   ibmq_cambridge               ibmq_rochester\n",
      "----------                   --------------               --------------\n",
      "Num. Qubits:  27             Num. Qubits:  28             Num. Qubits:  53\n",
      "Pending Jobs: 1              Pending Jobs: 1              Pending Jobs: 112\n",
      "Least busy:   False          Least busy:   False          Least busy:   False\n",
      "Operational:  True           Operational:  True           Operational:  True\n",
      "Avg. T1:      79.9           Avg. T1:      86.7           Avg. T1:      55.8\n",
      "Avg. T2:      73.2           Avg. T2:      41.7           Avg. T2:      59.2\n",
      "\n",
      "\n",
      "\n",
      "ibmq_johannesburg            ibmq_almaden                 ibmq_singapore\n",
      "-----------------            ------------                 --------------\n",
      "Num. Qubits:  20             Num. Qubits:  20             Num. Qubits:  20\n",
      "Pending Jobs: 7              Pending Jobs: 0              Pending Jobs: 1\n",
      "Least busy:   False          Least busy:   True           Least busy:   False\n",
      "Operational:  True           Operational:  True           Operational:  True\n",
      "Avg. T1:      69.4           Avg. T1:      101.5          Avg. T1:      86.1\n",
      "Avg. T2:      74.7           Avg. T2:      79.1           Avg. T2:      104.0\n",
      "\n",
      "\n",
      "\n",
      "ibmq_valencia                ibmq_armonk                  ibmq_essex\n",
      "-------------                -----------                  ----------\n",
      "Num. Qubits:  5              Num. Qubits:  1              Num. Qubits:  5\n",
      "Pending Jobs: 0              Pending Jobs: 1              Pending Jobs: 2\n",
      "Least busy:   False          Least busy:   False          Least busy:   False\n",
      "Operational:  True           Operational:  True           Operational:  True\n",
      "Avg. T1:      105.7          Avg. T1:      128.2          Avg. T1:      93.7\n",
      "Avg. T2:      71.5           Avg. T2:      146.9          Avg. T2:      138.0\n",
      "\n",
      "\n",
      "\n",
      "ibmq_burlington              ibmq_london                  ibmq_ourense\n",
      "---------------              -----------                  ------------\n",
      "Num. Qubits:  5              Num. Qubits:  5              Num. Qubits:  5\n",
      "Pending Jobs: 5              Pending Jobs: 5              Pending Jobs: 9\n",
      "Least busy:   False          Least busy:   False          Least busy:   False\n",
      "Operational:  True           Operational:  True           Operational:  True\n",
      "Avg. T1:      87.3           Avg. T1:      67.0           Avg. T1:      105.5\n",
      "Avg. T2:      72.7           Avg. T2:      69.6           Avg. T2:      78.2\n",
      "\n",
      "\n",
      "\n",
      "ibmq_vigo                    ibmq_16_melbourne            ibmqx2\n",
      "---------                    -----------------            ------\n",
      "Num. Qubits:  5              Num. Qubits:  15             Num. Qubits:  5\n",
      "Pending Jobs: 17             Pending Jobs: 1              Pending Jobs: 5\n",
      "Least busy:   False          Least busy:   False          Least busy:   False\n",
      "Operational:  True           Operational:  True           Operational:  True\n",
      "Avg. T1:      84.6           Avg. T1:      57.8           Avg. T1:      55.6\n",
      "Avg. T2:      74.3           Avg. T2:      58.4           Avg. T2:      49.6\n",
      "\n",
      "\n",
      "\n",
      "ibmq_poughkeepsie\n",
      "-----------------\n",
      "Num. Qubits:  20\n",
      "Pending Jobs: 5\n",
      "Least busy:   False\n",
      "Operational:  False\n",
      "Avg. T1:      64.1\n",
      "Avg. T2:      65.2\n",
      "\n",
      "\n",
      "\n"
     ]
    }
   ],
   "source": [
    "backend_overview()"
   ]
  },
  {
   "cell_type": "code",
   "execution_count": 7,
   "metadata": {},
   "outputs": [
    {
     "data": {
      "text/plain": [
       "'ibmq_valencia'"
      ]
     },
     "execution_count": 7,
     "metadata": {},
     "output_type": "execute_result"
    }
   ],
   "source": [
    "from qiskit.providers.ibmq import least_busy\n",
    "backend = least_busy(provider.backends(filters=lambda x: not x.configuration().simulator))\n",
    "backend.name()"
   ]
  },
  {
   "cell_type": "code",
   "execution_count": 8,
   "metadata": {},
   "outputs": [
    {
     "name": "stdout",
     "output_type": "stream",
     "text": [
      "ibmq_valencia\n",
      "=============\n",
      "Configuration\n",
      "-------------\n",
      "    n_qubits: 5\n",
      "    operational: True\n",
      "    status_msg: active\n",
      "    pending_jobs: 0\n",
      "    backend_version: 1.1.0\n",
      "    basis_gates: ['u1', 'u2', 'u3', 'cx', 'id']\n",
      "    local: False\n",
      "    simulator: False\n",
      "    quantum_volume: 16\n",
      "    discriminators: ['linear_discriminator', 'quadratic_discriminator']\n",
      "    max_experiments: 900\n",
      "    uchannels_enabled: True\n",
      "    hamiltonian: {'description': 'Qubits are modelled as a two level system. Qubits are coupled through resonator buses. The provided Hamiltonian has been projected into the zero excitation subspace of the resonator buses leading to an effective qubit-qubit flip-flop interaction. The qubit resonance frequencies in the Hamiltonian are the cavity dressed frequencies and not exactly what is returned by the backend defaults, which also includes the dressing due to the qubit-qubit interactions.\\nWarning: Currently not all system Hamiltonian information is available to the public, missing values have been replaced with 0.\\n', 'h_latex': '\\\\begin{align} \\\\mathcal{H}/\\\\hbar = & \\\\sum_{i=0}^{4}\\\\left(\\\\frac{\\\\omega_{q,i}}{2} (\\\\mathbb{1}_i-\\\\sigma_i^{z})+ \\\\Omega_{d,i}D_i(t)\\\\sigma_i^{X}\\\\right) \\\\\\\\ & + J_{1,2}(\\\\sigma_{1}^{+}\\\\sigma_{2}^{-}+\\\\sigma_{1}^{-}\\\\sigma_{2}^{+}) + J_{1,3}(\\\\sigma_{1}^{+}\\\\sigma_{3}^{-}+\\\\sigma_{1}^{-}\\\\sigma_{3}^{+}) + J_{0,1}(\\\\sigma_{0}^{+}\\\\sigma_{1}^{-}+\\\\sigma_{0}^{-}\\\\sigma_{1}^{+}) + J_{3,4}(\\\\sigma_{3}^{+}\\\\sigma_{4}^{-}+\\\\sigma_{3}^{-}\\\\sigma_{4}^{+}) \\\\\\\\ & + \\\\Omega_{d,0}(U_{0}^{(0,1)}(t))\\\\sigma_{0}^{X} + \\\\Omega_{d,1}(U_{1}^{(1,0)}(t)+U_{3}^{(1,3)}(t)+U_{2}^{(1,2)}(t))\\\\sigma_{1}^{X} \\\\\\\\ & + \\\\Omega_{d,2}(U_{4}^{(2,1)}(t))\\\\sigma_{2}^{X} + \\\\Omega_{d,3}(U_{5}^{(3,1)}(t)+U_{6}^{(3,4)}(t))\\\\sigma_{3}^{X} \\\\\\\\ & + \\\\Omega_{d,4}(U_{7}^{(4,3)}(t))\\\\sigma_{4}^{X} \\\\\\\\ \\\\end{align}', 'h_str': ['_SUM[i,0,4,wq{i}/2*(I{i}-Z{i})]', '_SUM[i,0,4,omegad{i}*X{i}||D{i}]', 'jq1q2*Sp1*Sm2', 'jq1q2*Sm1*Sp2', 'jq1q3*Sp1*Sm3', 'jq1q3*Sm1*Sp3', 'jq0q1*Sp0*Sm1', 'jq0q1*Sm0*Sp1', 'jq3q4*Sp3*Sm4', 'jq3q4*Sm3*Sp4', 'omegad1*X0||U0', 'omegad0*X1||U1', 'omegad3*X1||U3', 'omegad2*X1||U2', 'omegad1*X2||U4', 'omegad1*X3||U5', 'omegad4*X3||U6', 'omegad3*X4||U7'], 'osc': {}, 'qub': {'0': 2, '1': 2, '2': 2, '3': 2, '4': 2}, 'vars': {'jq0q1': 0, 'jq1q2': 0, 'jq1q3': 0, 'jq3q4': 0, 'omegad0': 0, 'omegad1': 0, 'omegad2': 0, 'omegad3': 0, 'omegad4': 0, 'wq0': 29.810629736531922, 'wq1': 29.221145886825934, 'wq2': 30.111019428267923, 'wq3': 30.373633896570343, 'wq4': 31.16062923952258}}\n",
      "    credits_required: True\n",
      "    acquisition_latency: []\n",
      "    n_registers: 1\n",
      "    allow_q_object: True\n",
      "    meas_levels: [1, 2]\n",
      "    u_channel_lo: [[{'scale': [1.0, 0.0], 'q': 1}], [{'scale': [1.0, 0.0], 'q': 0}], [{'scale': [1.0, 0.0], 'q': 2}], [{'scale': [1.0, 0.0], 'q': 3}], [{'scale': [1.0, 0.0], 'q': 1}], [{'scale': [1.0, 0.0], 'q': 1}], [{'scale': [1.0, 0.0], 'q': 4}], [{'scale': [1.0, 0.0], 'q': 3}]]\n",
      "    conditional_latency: []\n",
      "    conditional: False\n",
      "    rep_times: [0]\n",
      "    coupling_map: [[0, 1], [1, 0], [1, 2], [1, 3], [2, 1], [3, 1], [3, 4], [4, 3]]\n",
      "    memory: True\n",
      "    sample_name: Giraffe\n",
      "    allow_object_storage: True\n",
      "    allow_q_circuit: False\n",
      "    meas_map: [[0, 1, 2, 3, 4]]\n",
      "    online_date: 2019-07-03T04:00:00+00:00\n",
      "    max_shots: 8192\n",
      "    description: 5 qubit device Valencia\n",
      "    dtm: 3.5555555555555554e-09\n",
      "    dt: 3.5555555555555554e-09\n",
      "    meas_lo_range: [[6791423281.0, 7791423281.0], [6564734703.0, 7564734703.0], [6709148181.0, 7709148181.0], [6637515922.0, 7637515922.0], [6484029338.0, 7484029338.0]]\n",
      "    qubit_lo_range: [[4244509079.2513003, 5244509079.251301], [4150689810.6977534, 5150689810.697753], [4292317583.5449367, 5292317583.544936], [4334113974.302716, 5334113974.302716], [4459368173.323866, 5459368173.323866]]\n",
      "    meas_kernels: ['boxcar']\n",
      "    url: None\n",
      "    backend_name: ibmq_valencia\n",
      "    n_uchannels: 8\n",
      "    open_pulse: True\n",
      "\n",
      "Qubits [Name / Freq / T1 / T2 / U1 err / U2 err / U3 err / Readout err]\n",
      "-----------------------------------------------------------------------\n",
      "    Q0 / 4.74451 GHz / 81.49719 µs / 70.75157 µs / 0.0 / 0.00046 / 0.00092 / 0.01625\n",
      "    Q1 / 4.65069 GHz / 101.5897 µs / 68.68124 µs / 0.0 / 0.0007 / 0.0014 / 0.03625\n",
      "    Q2 / 4.79232 GHz / 110.35324 µs / 40.80505 µs / 0.0 / 0.00048 / 0.00095 / 0.0625\n",
      "    Q3 / 4.83411 GHz / 108.57802 µs / 54.41148 µs / 0.0 / 0.00033 / 0.00067 / 0.01375\n",
      "    Q4 / 4.95937 GHz / 126.327 µs / 123.09189 µs / 0.0 / 0.00039 / 0.00077 / 0.01625\n",
      "\n",
      "Multi-Qubit Gates [Name / Type / Gate Error]\n",
      "--------------------------------------------\n",
      "    cx0_1 / cx / 0.01049\n",
      "    cx1_0 / cx / 0.01049\n",
      "    cx1_2 / cx / 0.00923\n",
      "    cx1_3 / cx / 0.01506\n",
      "    cx2_1 / cx / 0.00923\n",
      "    cx3_1 / cx / 0.01506\n",
      "    cx3_4 / cx / 0.00694\n",
      "    cx4_3 / cx / 0.00694\n"
     ]
    }
   ],
   "source": [
    "backend_monitor(backend)"
   ]
  },
  {
   "cell_type": "code",
   "execution_count": 9,
   "metadata": {},
   "outputs": [
    {
     "data": {
      "application/vnd.jupyter.widget-view+json": {
       "model_id": "b6f571dbd0f14e45ada3ba4833bc5ff6",
       "version_major": 2,
       "version_minor": 0
      },
      "text/plain": [
       "VBox(children=(HTML(value=\"<h1 style='color:#ffffff;background-color:#000000;padding-top: 1%;padding-bottom: 1…"
      ]
     },
     "metadata": {},
     "output_type": "display_data"
    },
    {
     "data": {
      "text/plain": [
       "<IBMQBackend('ibmq_valencia') from IBMQ(hub='ibm-q-internal', group='deployed', project='default')>"
      ]
     },
     "execution_count": 9,
     "metadata": {},
     "output_type": "execute_result"
    }
   ],
   "source": [
    "backend "
   ]
  },
  {
   "cell_type": "code",
   "execution_count": 10,
   "metadata": {},
   "outputs": [
    {
     "data": {
      "text/html": [
       "<pre style=\"word-wrap: normal;white-space: pre;background: #fff0;line-height: 1.1;font-family: &quot;Courier New&quot;,Courier,monospace\">     ┌───┐     ┌─┐   \n",
       "q_0: ┤ H ├──■──┤M├───\n",
       "     └───┘┌─┴─┐└╥┘┌─┐\n",
       "q_1: ─────┤ X ├─╫─┤M├\n",
       "          └───┘ ║ └╥┘\n",
       "c_0: ═══════════╩══╬═\n",
       "                   ║ \n",
       "c_1: ══════════════╩═\n",
       "                     </pre>"
      ],
      "text/plain": [
       "     ┌───┐     ┌─┐   \n",
       "q_0: ┤ H ├──■──┤M├───\n",
       "     └───┘┌─┴─┐└╥┘┌─┐\n",
       "q_1: ─────┤ X ├─╫─┤M├\n",
       "          └───┘ ║ └╥┘\n",
       "c_0: ═══════════╩══╬═\n",
       "                   ║ \n",
       "c_1: ══════════════╩═\n",
       "                     "
      ]
     },
     "execution_count": 10,
     "metadata": {},
     "output_type": "execute_result"
    }
   ],
   "source": [
    "circuit = QuantumCircuit(2, 2)\n",
    "circuit.h(0)\n",
    "circuit.cx(0,1)\n",
    "circuit.measure([0,1],[0,1])\n",
    "circuit.draw()"
   ]
  },
  {
   "cell_type": "code",
   "execution_count": 16,
   "metadata": {},
   "outputs": [
    {
     "data": {
      "text/html": [
       "<pre style=\"word-wrap: normal;white-space: pre;background: #fff0;line-height: 1.1;font-family: &quot;Courier New&quot;,Courier,monospace\">               ┌──────────┐     ┌─┐   \n",
       "      q_0 -> 0 ┤ U2(0,pi) ├──■──┤M├───\n",
       "               └──────────┘┌─┴─┐└╥┘┌─┐\n",
       "      q_1 -> 1 ────────────┤ X ├─╫─┤M├\n",
       "                           └───┘ ║ └╥┘\n",
       "ancilla_0 -> 2 ──────────────────╫──╫─\n",
       "                                 ║  ║ \n",
       "ancilla_1 -> 3 ──────────────────╫──╫─\n",
       "                                 ║  ║ \n",
       "ancilla_2 -> 4 ──────────────────╫──╫─\n",
       "                                 ║  ║ \n",
       "          c_0: ══════════════════╩══╬═\n",
       "                                    ║ \n",
       "          c_1: ═════════════════════╩═\n",
       "                                      </pre>"
      ],
      "text/plain": [
       "               ┌──────────┐     ┌─┐   \n",
       "      q_0 -> 0 ┤ U2(0,pi) ├──■──┤M├───\n",
       "               └──────────┘┌─┴─┐└╥┘┌─┐\n",
       "      q_1 -> 1 ────────────┤ X ├─╫─┤M├\n",
       "                           └───┘ ║ └╥┘\n",
       "ancilla_0 -> 2 ──────────────────╫──╫─\n",
       "                                 ║  ║ \n",
       "ancilla_1 -> 3 ──────────────────╫──╫─\n",
       "                                 ║  ║ \n",
       "ancilla_2 -> 4 ──────────────────╫──╫─\n",
       "                                 ║  ║ \n",
       "          c_0: ══════════════════╩══╬═\n",
       "                                    ║ \n",
       "          c_1: ═════════════════════╩═\n",
       "                                      "
      ]
     },
     "execution_count": 16,
     "metadata": {},
     "output_type": "execute_result"
    }
   ],
   "source": [
    "new_circuit = transpile(circuit, backend)\n",
    "new_circuit.draw()"
   ]
  },
  {
   "cell_type": "code",
   "execution_count": 17,
   "metadata": {
    "scrolled": true
   },
   "outputs": [
    {
     "name": "stdout",
     "output_type": "stream",
     "text": [
      "Job Status: job has successfully run\n",
      "Job Status: job has successfully run\n",
      "Job Status: job has successfully run\n"
     ]
    }
   ],
   "source": [
    "joblist1 = []\n",
    "for i in range(3):\n",
    "    job = backend.run(assemble(new_circuit))\n",
    "    job_monitor(job)\n",
    "    joblist1.append(job)"
   ]
  }
 ],
 "metadata": {
  "kernelspec": {
   "display_name": "Python 3",
   "language": "python",
   "name": "python3"
  },
  "language_info": {
   "codemirror_mode": {
    "name": "ipython",
    "version": 3
   },
   "file_extension": ".py",
   "mimetype": "text/x-python",
   "name": "python",
   "nbconvert_exporter": "python",
   "pygments_lexer": "ipython3",
   "version": "3.8.2"
  }
 },
 "nbformat": 4,
 "nbformat_minor": 2
}
