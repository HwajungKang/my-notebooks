{
 "cells": [
  {
   "cell_type": "code",
   "execution_count": 1,
   "metadata": {},
   "outputs": [],
   "source": [
    "from qiskit import *"
   ]
  },
  {
   "cell_type": "code",
   "execution_count": 2,
   "metadata": {},
   "outputs": [
    {
     "data": {
      "text/html": [
       "<pre style=\"word-wrap: normal;white-space: pre;background: #fff0;line-height: 1.1;font-family: &quot;Courier New&quot;,Courier,monospace\">     ┌───┐     ┌─┐   \n",
       "q_0: ┤ H ├──■──┤M├───\n",
       "     └───┘┌─┴─┐└╥┘┌─┐\n",
       "q_1: ─────┤ X ├─╫─┤M├\n",
       "          └───┘ ║ └╥┘\n",
       "c: 2/═══════════╩══╩═\n",
       "                0  1 </pre>"
      ],
      "text/plain": [
       "     ┌───┐     ┌─┐   \n",
       "q_0: ┤ H ├──■──┤M├───\n",
       "     └───┘┌─┴─┐└╥┘┌─┐\n",
       "q_1: ─────┤ X ├─╫─┤M├\n",
       "          └───┘ ║ └╥┘\n",
       "c: 2/═══════════╩══╩═\n",
       "                0  1 "
      ]
     },
     "execution_count": 2,
     "metadata": {},
     "output_type": "execute_result"
    }
   ],
   "source": [
    "circuit = QuantumCircuit(2, 2)\n",
    "circuit.h(0)\n",
    "circuit.cx(0,1)\n",
    "circuit.measure([0,1], [0,1])\n",
    "circuit.draw()"
   ]
  },
  {
   "cell_type": "code",
   "execution_count": 3,
   "metadata": {},
   "outputs": [
    {
     "data": {
      "text/plain": [
       "[<QasmSimulatorPy('qasm_simulator')>,\n",
       " <StatevectorSimulatorPy('statevector_simulator')>,\n",
       " <UnitarySimulatorPy('unitary_simulator')>]"
      ]
     },
     "execution_count": 3,
     "metadata": {},
     "output_type": "execute_result"
    }
   ],
   "source": [
    "BasicAer.backends()"
   ]
  },
  {
   "cell_type": "code",
   "execution_count": 4,
   "metadata": {},
   "outputs": [],
   "source": [
    "from qiskit_ibm_provider import IBMProvider\n",
    "provider = IBMProvider()"
   ]
  },
  {
   "cell_type": "code",
   "execution_count": 5,
   "metadata": {},
   "outputs": [
    {
     "data": {
      "text/plain": [
       "[<IBMBackend('ibm_wellington')>,\n",
       " <IBMBackend('ibmq_kolkata')>,\n",
       " <IBMBackend('ibmq_mumbai')>,\n",
       " <IBMBackend('ibm_kyiv')>,\n",
       " <IBMBackend('ibm_hanoi')>,\n",
       " <IBMBackend('ibm_lagos')>,\n",
       " <IBMBackend('ibmq_qasm_simulator')>,\n",
       " <IBMBackend('ibmq_lima')>,\n",
       " <IBMBackend('ibmq_belem')>,\n",
       " <IBMBackend('simulator_extended_stabilizer')>,\n",
       " <IBMBackend('ibmq_manila')>,\n",
       " <IBMBackend('ibm_perth')>,\n",
       " <IBMBackend('ibmq_jakarta')>,\n",
       " <IBMBackend('ibmq_quito')>,\n",
       " <IBMBackend('simulator_mps')>,\n",
       " <IBMBackend('simulator_statevector')>,\n",
       " <IBMBackend('simulator_stabilizer')>,\n",
       " <IBMBackend('ibm_nairobi')>]"
      ]
     },
     "execution_count": 5,
     "metadata": {},
     "output_type": "execute_result"
    }
   ],
   "source": [
    "provider.backends()"
   ]
  },
  {
   "cell_type": "code",
   "execution_count": 6,
   "metadata": {},
   "outputs": [],
   "source": [
    "from qiskit.tools.monitor import job_monitor"
   ]
  },
  {
   "cell_type": "code",
   "execution_count": 7,
   "metadata": {},
   "outputs": [
    {
     "data": {
      "text/html": [
       "<pre style=\"word-wrap: normal;white-space: pre;background: #fff0;line-height: 1.1;font-family: &quot;Courier New&quot;,Courier,monospace\">     ┌─────────┐     ┌─┐   \n",
       "q_0: ┤ U2(0,π) ├──■──┤M├───\n",
       "     └─────────┘┌─┴─┐└╥┘┌─┐\n",
       "q_1: ───────────┤ X ├─╫─┤M├\n",
       "                └───┘ ║ └╥┘\n",
       "c: 2/═════════════════╩══╩═\n",
       "                      0  1 </pre>"
      ],
      "text/plain": [
       "     ┌─────────┐     ┌─┐   \n",
       "q_0: ┤ U2(0,π) ├──■──┤M├───\n",
       "     └─────────┘┌─┴─┐└╥┘┌─┐\n",
       "q_1: ───────────┤ X ├─╫─┤M├\n",
       "                └───┘ ║ └╥┘\n",
       "c: 2/═════════════════╩══╩═\n",
       "                      0  1 "
      ]
     },
     "execution_count": 7,
     "metadata": {},
     "output_type": "execute_result"
    }
   ],
   "source": [
    "backend = BasicAer.get_backend('qasm_simulator')\n",
    "new_circuit=transpile(circuit,backend)\n",
    "new_circuit.draw()"
   ]
  },
  {
   "cell_type": "code",
   "execution_count": 8,
   "metadata": {},
   "outputs": [
    {
     "name": "stdout",
     "output_type": "stream",
     "text": [
      "{'00': 498, '11': 526}\n"
     ]
    }
   ],
   "source": [
    "job = backend.run(new_circuit)\n",
    "result = job.result()\n",
    "counts1 = result.get_counts()\n",
    "print(counts1)"
   ]
  },
  {
   "cell_type": "code",
   "execution_count": 9,
   "metadata": {},
   "outputs": [
    {
     "data": {
      "text/html": [
       "<pre style=\"word-wrap: normal;white-space: pre;background: #fff0;line-height: 1.1;font-family: &quot;Courier New&quot;,Courier,monospace\">     ┌──────────┐     ┌─┐   \n",
       "q_0: ┤ U2(0,-π) ├──■──┤M├───\n",
       "     └──────────┘┌─┴─┐└╥┘┌─┐\n",
       "q_1: ────────────┤ X ├─╫─┤M├\n",
       "                 └───┘ ║ └╥┘\n",
       "c: 2/══════════════════╩══╩═\n",
       "                       0  1 </pre>"
      ],
      "text/plain": [
       "     ┌──────────┐     ┌─┐   \n",
       "q_0: ┤ U2(0,-π) ├──■──┤M├───\n",
       "     └──────────┘┌─┴─┐└╥┘┌─┐\n",
       "q_1: ────────────┤ X ├─╫─┤M├\n",
       "                 └───┘ ║ └╥┘\n",
       "c: 2/══════════════════╩══╩═\n",
       "                       0  1 "
      ]
     },
     "execution_count": 9,
     "metadata": {},
     "output_type": "execute_result"
    }
   ],
   "source": [
    "backend = provider.get_backend('ibmq_qasm_simulator')\n",
    "new_circuit=transpile(circuit,backend)\n",
    "new_circuit.draw()"
   ]
  },
  {
   "cell_type": "code",
   "execution_count": 10,
   "metadata": {},
   "outputs": [
    {
     "name": "stdout",
     "output_type": "stream",
     "text": [
      "{'00': 2010, '11': 1990}\n"
     ]
    }
   ],
   "source": [
    "job = backend.run(new_circuit)\n",
    "result = job.result()\n",
    "counts2 = result.get_counts()\n",
    "print(counts2)"
   ]
  },
  {
   "cell_type": "code",
   "execution_count": 11,
   "metadata": {},
   "outputs": [
    {
     "data": {
      "text/html": [
       "<pre style=\"word-wrap: normal;white-space: pre;background: #fff0;line-height: 1.1;font-family: &quot;Courier New&quot;,Courier,monospace\">global phase: π/4\n",
       "                 ┌─────────┐┌────┐┌─────────┐     ┌─┐   \n",
       "        q_0 -> 0 ┤ Rz(π/2) ├┤ √X ├┤ Rz(π/2) ├──■──┤M├───\n",
       "                 └─────────┘└────┘└─────────┘┌─┴─┐└╥┘┌─┐\n",
       "        q_1 -> 1 ────────────────────────────┤ X ├─╫─┤M├\n",
       "                                             └───┘ ║ └╥┘\n",
       "  ancilla_0 -> 2 ──────────────────────────────────╫──╫─\n",
       "                                                   ║  ║ \n",
       "  ancilla_1 -> 3 ──────────────────────────────────╫──╫─\n",
       "                                                   ║  ║ \n",
       "  ancilla_2 -> 4 ──────────────────────────────────╫──╫─\n",
       "                                                   ║  ║ \n",
       "  ancilla_3 -> 5 ──────────────────────────────────╫──╫─\n",
       "                                                   ║  ║ \n",
       "  ancilla_4 -> 6 ──────────────────────────────────╫──╫─\n",
       "                                                   ║  ║ \n",
       "  ancilla_5 -> 7 ──────────────────────────────────╫──╫─\n",
       "                                                   ║  ║ \n",
       "  ancilla_6 -> 8 ──────────────────────────────────╫──╫─\n",
       "                                                   ║  ║ \n",
       "  ancilla_7 -> 9 ──────────────────────────────────╫──╫─\n",
       "                                                   ║  ║ \n",
       " ancilla_8 -> 10 ──────────────────────────────────╫──╫─\n",
       "                                                   ║  ║ \n",
       " ancilla_9 -> 11 ──────────────────────────────────╫──╫─\n",
       "                                                   ║  ║ \n",
       "ancilla_10 -> 12 ──────────────────────────────────╫──╫─\n",
       "                                                   ║  ║ \n",
       "ancilla_11 -> 13 ──────────────────────────────────╫──╫─\n",
       "                                                   ║  ║ \n",
       "ancilla_12 -> 14 ──────────────────────────────────╫──╫─\n",
       "                                                   ║  ║ \n",
       "ancilla_13 -> 15 ──────────────────────────────────╫──╫─\n",
       "                                                   ║  ║ \n",
       "ancilla_14 -> 16 ──────────────────────────────────╫──╫─\n",
       "                                                   ║  ║ \n",
       "ancilla_15 -> 17 ──────────────────────────────────╫──╫─\n",
       "                                                   ║  ║ \n",
       "ancilla_16 -> 18 ──────────────────────────────────╫──╫─\n",
       "                                                   ║  ║ \n",
       "ancilla_17 -> 19 ──────────────────────────────────╫──╫─\n",
       "                                                   ║  ║ \n",
       "ancilla_18 -> 20 ──────────────────────────────────╫──╫─\n",
       "                                                   ║  ║ \n",
       "ancilla_19 -> 21 ──────────────────────────────────╫──╫─\n",
       "                                                   ║  ║ \n",
       "ancilla_20 -> 22 ──────────────────────────────────╫──╫─\n",
       "                                                   ║  ║ \n",
       "ancilla_21 -> 23 ──────────────────────────────────╫──╫─\n",
       "                                                   ║  ║ \n",
       "ancilla_22 -> 24 ──────────────────────────────────╫──╫─\n",
       "                                                   ║  ║ \n",
       "ancilla_23 -> 25 ──────────────────────────────────╫──╫─\n",
       "                                                   ║  ║ \n",
       "ancilla_24 -> 26 ──────────────────────────────────╫──╫─\n",
       "                                                   ║  ║ \n",
       "            c: 2/══════════════════════════════════╩══╩═\n",
       "                                                   0  1 </pre>"
      ],
      "text/plain": [
       "global phase: π/4\n",
       "                 ┌─────────┐┌────┐┌─────────┐     ┌─┐   \n",
       "        q_0 -> 0 ┤ Rz(π/2) ├┤ √X ├┤ Rz(π/2) ├──■──┤M├───\n",
       "                 └─────────┘└────┘└─────────┘┌─┴─┐└╥┘┌─┐\n",
       "        q_1 -> 1 ────────────────────────────┤ X ├─╫─┤M├\n",
       "                                             └───┘ ║ └╥┘\n",
       "  ancilla_0 -> 2 ──────────────────────────────────╫──╫─\n",
       "                                                   ║  ║ \n",
       "  ancilla_1 -> 3 ──────────────────────────────────╫──╫─\n",
       "                                                   ║  ║ \n",
       "  ancilla_2 -> 4 ──────────────────────────────────╫──╫─\n",
       "                                                   ║  ║ \n",
       "  ancilla_3 -> 5 ──────────────────────────────────╫──╫─\n",
       "                                                   ║  ║ \n",
       "  ancilla_4 -> 6 ──────────────────────────────────╫──╫─\n",
       "                                                   ║  ║ \n",
       "  ancilla_5 -> 7 ──────────────────────────────────╫──╫─\n",
       "                                                   ║  ║ \n",
       "  ancilla_6 -> 8 ──────────────────────────────────╫──╫─\n",
       "                                                   ║  ║ \n",
       "  ancilla_7 -> 9 ──────────────────────────────────╫──╫─\n",
       "                                                   ║  ║ \n",
       " ancilla_8 -> 10 ──────────────────────────────────╫──╫─\n",
       "                                                   ║  ║ \n",
       " ancilla_9 -> 11 ──────────────────────────────────╫──╫─\n",
       "                                                   ║  ║ \n",
       "ancilla_10 -> 12 ──────────────────────────────────╫──╫─\n",
       "                                                   ║  ║ \n",
       "ancilla_11 -> 13 ──────────────────────────────────╫──╫─\n",
       "                                                   ║  ║ \n",
       "ancilla_12 -> 14 ──────────────────────────────────╫──╫─\n",
       "                                                   ║  ║ \n",
       "ancilla_13 -> 15 ──────────────────────────────────╫──╫─\n",
       "                                                   ║  ║ \n",
       "ancilla_14 -> 16 ──────────────────────────────────╫──╫─\n",
       "                                                   ║  ║ \n",
       "ancilla_15 -> 17 ──────────────────────────────────╫──╫─\n",
       "                                                   ║  ║ \n",
       "ancilla_16 -> 18 ──────────────────────────────────╫──╫─\n",
       "                                                   ║  ║ \n",
       "ancilla_17 -> 19 ──────────────────────────────────╫──╫─\n",
       "                                                   ║  ║ \n",
       "ancilla_18 -> 20 ──────────────────────────────────╫──╫─\n",
       "                                                   ║  ║ \n",
       "ancilla_19 -> 21 ──────────────────────────────────╫──╫─\n",
       "                                                   ║  ║ \n",
       "ancilla_20 -> 22 ──────────────────────────────────╫──╫─\n",
       "                                                   ║  ║ \n",
       "ancilla_21 -> 23 ──────────────────────────────────╫──╫─\n",
       "                                                   ║  ║ \n",
       "ancilla_22 -> 24 ──────────────────────────────────╫──╫─\n",
       "                                                   ║  ║ \n",
       "ancilla_23 -> 25 ──────────────────────────────────╫──╫─\n",
       "                                                   ║  ║ \n",
       "ancilla_24 -> 26 ──────────────────────────────────╫──╫─\n",
       "                                                   ║  ║ \n",
       "            c: 2/══════════════════════════════════╩══╩═\n",
       "                                                   0  1 "
      ]
     },
     "execution_count": 11,
     "metadata": {},
     "output_type": "execute_result"
    }
   ],
   "source": [
    "backend = provider.get_backend('ibm_hanoi')\n",
    "new_circuit=transpile(circuit,backend)\n",
    "new_circuit.draw()"
   ]
  },
  {
   "cell_type": "code",
   "execution_count": 12,
   "metadata": {},
   "outputs": [
    {
     "name": "stdout",
     "output_type": "stream",
     "text": [
      "Job Status: job has successfully run\n",
      "{'00': 2047, '01': 52, '10': 43, '11': 1858}\n"
     ]
    }
   ],
   "source": [
    "job = backend.run(new_circuit)\n",
    "job_monitor(job)\n",
    "result = job.result()\n",
    "counts3 = result.get_counts()\n",
    "print(counts3)"
   ]
  },
  {
   "cell_type": "code",
   "execution_count": 13,
   "metadata": {},
   "outputs": [
    {
     "data": {
      "text/html": [
       "<pre style=\"word-wrap: normal;white-space: pre;background: #fff0;line-height: 1.1;font-family: &quot;Courier New&quot;,Courier,monospace\">global phase: π/4\n",
       "               ┌─────────┐┌────┐┌─────────┐     ┌─┐   \n",
       "      q_0 -> 0 ┤ Rz(π/2) ├┤ √X ├┤ Rz(π/2) ├──■──┤M├───\n",
       "               └─────────┘└────┘└─────────┘┌─┴─┐└╥┘┌─┐\n",
       "      q_1 -> 1 ────────────────────────────┤ X ├─╫─┤M├\n",
       "                                           └───┘ ║ └╥┘\n",
       "ancilla_0 -> 2 ──────────────────────────────────╫──╫─\n",
       "                                                 ║  ║ \n",
       "ancilla_1 -> 3 ──────────────────────────────────╫──╫─\n",
       "                                                 ║  ║ \n",
       "ancilla_2 -> 4 ──────────────────────────────────╫──╫─\n",
       "                                                 ║  ║ \n",
       "ancilla_3 -> 5 ──────────────────────────────────╫──╫─\n",
       "                                                 ║  ║ \n",
       "ancilla_4 -> 6 ──────────────────────────────────╫──╫─\n",
       "                                                 ║  ║ \n",
       "          c: 2/══════════════════════════════════╩══╩═\n",
       "                                                 0  1 </pre>"
      ],
      "text/plain": [
       "global phase: π/4\n",
       "               ┌─────────┐┌────┐┌─────────┐     ┌─┐   \n",
       "      q_0 -> 0 ┤ Rz(π/2) ├┤ √X ├┤ Rz(π/2) ├──■──┤M├───\n",
       "               └─────────┘└────┘└─────────┘┌─┴─┐└╥┘┌─┐\n",
       "      q_1 -> 1 ────────────────────────────┤ X ├─╫─┤M├\n",
       "                                           └───┘ ║ └╥┘\n",
       "ancilla_0 -> 2 ──────────────────────────────────╫──╫─\n",
       "                                                 ║  ║ \n",
       "ancilla_1 -> 3 ──────────────────────────────────╫──╫─\n",
       "                                                 ║  ║ \n",
       "ancilla_2 -> 4 ──────────────────────────────────╫──╫─\n",
       "                                                 ║  ║ \n",
       "ancilla_3 -> 5 ──────────────────────────────────╫──╫─\n",
       "                                                 ║  ║ \n",
       "ancilla_4 -> 6 ──────────────────────────────────╫──╫─\n",
       "                                                 ║  ║ \n",
       "          c: 2/══════════════════════════════════╩══╩═\n",
       "                                                 0  1 "
      ]
     },
     "execution_count": 13,
     "metadata": {},
     "output_type": "execute_result"
    }
   ],
   "source": [
    "backend = provider.get_backend('ibm_perth')\n",
    "new_circuit=transpile(circuit,backend)\n",
    "new_circuit.draw()"
   ]
  },
  {
   "cell_type": "code",
   "execution_count": 14,
   "metadata": {},
   "outputs": [
    {
     "name": "stdout",
     "output_type": "stream",
     "text": [
      "Job Status: job has successfully run\n",
      "{'00': 1834, '01': 104, '10': 162, '11': 1900}\n"
     ]
    }
   ],
   "source": [
    "job = backend.run(new_circuit)\n",
    "job_monitor(job)\n",
    "result = job.result()\n",
    "counts4 = result.get_counts()\n",
    "print(counts4)"
   ]
  },
  {
   "cell_type": "code",
   "execution_count": 15,
   "metadata": {},
   "outputs": [],
   "source": [
    "from qiskit.visualization import plot_histogram"
   ]
  },
  {
   "cell_type": "code",
   "execution_count": 16,
   "metadata": {},
   "outputs": [
    {
     "data": {
      "image/png": "[encoded data removed]",
      "text/plain": [
       "<Figure size 700x500 with 1 Axes>"
      ]
     },
     "execution_count": 16,
     "metadata": {},
     "output_type": "execute_result"
    }
   ],
   "source": [
    "plot_histogram([counts1,counts4, counts3])"
   ]
  },
  {
   "cell_type": "code",
   "execution_count": null,
   "metadata": {},
   "outputs": [],
   "source": []
  }
 ],
 "metadata": {
  "kernelspec": {
   "display_name": "Python 3 (ipykernel)",
   "language": "python",
   "name": "python3"
  },
  "language_info": {
   "codemirror_mode": {
    "name": "ipython",
    "version": 3
   },
   "file_extension": ".py",
   "mimetype": "text/x-python",
   "name": "python",
   "nbconvert_exporter": "python",
   "pygments_lexer": "ipython3",
   "version": "3.11.5"
  }
 },
 "nbformat": 4,
 "nbformat_minor": 4
}
