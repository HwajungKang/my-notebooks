{
 "cells": [
  {
   "cell_type": "code",
   "execution_count": 1,
   "metadata": {},
   "outputs": [],
   "source": [
    "from qiskit import *"
   ]
  },
  {
   "cell_type": "code",
   "execution_count": 2,
   "metadata": {},
   "outputs": [
    {
     "data": {
      "text/html": [
       "<pre style=\"word-wrap: normal;white-space: pre;background: #fff0;line-height: 1.1;font-family: &quot;Courier New&quot;,Courier,monospace\">     ┌───┐     ┌─┐   \n",
       "q_0: ┤ H ├──■──┤M├───\n",
       "     └───┘┌─┴─┐└╥┘┌─┐\n",
       "q_1: ─────┤ X ├─╫─┤M├\n",
       "          └───┘ ║ └╥┘\n",
       "c: 2/═══════════╩══╩═\n",
       "                0  1 </pre>"
      ],
      "text/plain": [
       "     ┌───┐     ┌─┐   \n",
       "q_0: ┤ H ├──■──┤M├───\n",
       "     └───┘┌─┴─┐└╥┘┌─┐\n",
       "q_1: ─────┤ X ├─╫─┤M├\n",
       "          └───┘ ║ └╥┘\n",
       "c: 2/═══════════╩══╩═\n",
       "                0  1 "
      ]
     },
     "execution_count": 2,
     "metadata": {},
     "output_type": "execute_result"
    }
   ],
   "source": [
    "circuit = QuantumCircuit(2, 2)\n",
    "circuit.h(0)\n",
    "circuit.cx(0,1)\n",
    "circuit.measure([0,1], [0,1])\n",
    "circuit.draw()"
   ]
  },
  {
   "cell_type": "code",
   "execution_count": 3,
   "metadata": {},
   "outputs": [
    {
     "data": {
      "text/plain": [
       "[<QasmSimulatorPy('qasm_simulator')>,\n",
       " <StatevectorSimulatorPy('statevector_simulator')>,\n",
       " <UnitarySimulatorPy('unitary_simulator')>]"
      ]
     },
     "execution_count": 3,
     "metadata": {},
     "output_type": "execute_result"
    }
   ],
   "source": [
    "BasicAer.backends()"
   ]
  },
  {
   "cell_type": "code",
   "execution_count": 4,
   "metadata": {},
   "outputs": [],
   "source": [
    "from qiskit_ibm_provider import IBMProvider\n",
    "provider = IBMProvider()"
   ]
  },
  {
   "cell_type": "code",
   "execution_count": 5,
   "metadata": {},
   "outputs": [
    {
     "data": {
      "text/plain": [
       "[<IBMBackend('ibmq_mumbai')>,\n",
       " <IBMBackend('ibm_wellington')>,\n",
       " <IBMBackend('ibmq_kolkata')>,\n",
       " <IBMBackend('simulator_statevector')>,\n",
       " <IBMBackend('simulator_stabilizer')>,\n",
       " <IBMBackend('ibmq_manila')>,\n",
       " <IBMBackend('ibm_nairobi')>,\n",
       " <IBMBackend('ibmq_jakarta')>,\n",
       " <IBMBackend('ibmq_qasm_simulator')>,\n",
       " <IBMBackend('ibmq_lima')>,\n",
       " <IBMBackend('ibmq_belem')>,\n",
       " <IBMBackend('simulator_extended_stabilizer')>,\n",
       " <IBMBackend('simulator_mps')>,\n",
       " <IBMBackend('ibm_lagos')>,\n",
       " <IBMBackend('ibm_perth')>,\n",
       " <IBMBackend('ibmq_quito')>]"
      ]
     },
     "execution_count": 5,
     "metadata": {},
     "output_type": "execute_result"
    }
   ],
   "source": [
    "provider.backends()"
   ]
  },
  {
   "cell_type": "code",
   "execution_count": 6,
   "metadata": {},
   "outputs": [],
   "source": [
    "from qiskit.tools.monitor import job_monitor"
   ]
  },
  {
   "cell_type": "code",
   "execution_count": 7,
   "metadata": {},
   "outputs": [
    {
     "data": {
      "text/html": [
       "<pre style=\"word-wrap: normal;white-space: pre;background: #fff0;line-height: 1.1;font-family: &quot;Courier New&quot;,Courier,monospace\">     ┌─────────┐     ┌─┐   \n",
       "q_0: ┤ U2(0,π) ├──■──┤M├───\n",
       "     └─────────┘┌─┴─┐└╥┘┌─┐\n",
       "q_1: ───────────┤ X ├─╫─┤M├\n",
       "                └───┘ ║ └╥┘\n",
       "c: 2/═════════════════╩══╩═\n",
       "                      0  1 </pre>"
      ],
      "text/plain": [
       "     ┌─────────┐     ┌─┐   \n",
       "q_0: ┤ U2(0,π) ├──■──┤M├───\n",
       "     └─────────┘┌─┴─┐└╥┘┌─┐\n",
       "q_1: ───────────┤ X ├─╫─┤M├\n",
       "                └───┘ ║ └╥┘\n",
       "c: 2/═════════════════╩══╩═\n",
       "                      0  1 "
      ]
     },
     "execution_count": 7,
     "metadata": {},
     "output_type": "execute_result"
    }
   ],
   "source": [
    "backend = BasicAer.get_backend('qasm_simulator')\n",
    "new_circuit=transpile(circuit,backend)\n",
    "new_circuit.draw()"
   ]
  },
  {
   "cell_type": "code",
   "execution_count": 8,
   "metadata": {},
   "outputs": [
    {
     "name": "stdout",
     "output_type": "stream",
     "text": [
      "{'11': 509, '00': 515}\n"
     ]
    }
   ],
   "source": [
    "job = backend.run(assemble(new_circuit))\n",
    "result = job.result()\n",
    "counts1 = result.get_counts()\n",
    "print(counts1)"
   ]
  },
  {
   "cell_type": "code",
   "execution_count": 9,
   "metadata": {},
   "outputs": [
    {
     "data": {
      "text/html": [
       "<pre style=\"word-wrap: normal;white-space: pre;background: #fff0;line-height: 1.1;font-family: &quot;Courier New&quot;,Courier,monospace\">     ┌──────────┐     ┌─┐   \n",
       "q_0: ┤ U2(0,-π) ├──■──┤M├───\n",
       "     └──────────┘┌─┴─┐└╥┘┌─┐\n",
       "q_1: ────────────┤ X ├─╫─┤M├\n",
       "                 └───┘ ║ └╥┘\n",
       "c: 2/══════════════════╩══╩═\n",
       "                       0  1 </pre>"
      ],
      "text/plain": [
       "     ┌──────────┐     ┌─┐   \n",
       "q_0: ┤ U2(0,-π) ├──■──┤M├───\n",
       "     └──────────┘┌─┴─┐└╥┘┌─┐\n",
       "q_1: ────────────┤ X ├─╫─┤M├\n",
       "                 └───┘ ║ └╥┘\n",
       "c: 2/══════════════════╩══╩═\n",
       "                       0  1 "
      ]
     },
     "execution_count": 9,
     "metadata": {},
     "output_type": "execute_result"
    }
   ],
   "source": [
    "backend = provider.get_backend('ibmq_qasm_simulator')\n",
    "new_circuit=transpile(circuit,backend)\n",
    "new_circuit.draw()"
   ]
  },
  {
   "cell_type": "code",
   "execution_count": 10,
   "metadata": {},
   "outputs": [
    {
     "name": "stdout",
     "output_type": "stream",
     "text": [
      "{'11': 2032, '00': 1968}\n"
     ]
    }
   ],
   "source": [
    "job = backend.run(new_circuit)\n",
    "result = job.result()\n",
    "counts2 = result.get_counts()\n",
    "print(counts2)"
   ]
  },
  {
   "cell_type": "code",
   "execution_count": 11,
   "metadata": {},
   "outputs": [
    {
     "data": {
      "text/html": [
       "<pre style=\"word-wrap: normal;white-space: pre;background: #fff0;line-height: 1.1;font-family: &quot;Courier New&quot;,Courier,monospace\">global phase: π/4\n",
       "               ┌─────────┐┌────┐┌─────────┐     ┌─┐   \n",
       "      q_0 -> 0 ┤ Rz(π/2) ├┤ √X ├┤ Rz(π/2) ├──■──┤M├───\n",
       "               └─────────┘└────┘└─────────┘┌─┴─┐└╥┘┌─┐\n",
       "      q_1 -> 1 ────────────────────────────┤ X ├─╫─┤M├\n",
       "                                           └───┘ ║ └╥┘\n",
       "ancilla_0 -> 2 ──────────────────────────────────╫──╫─\n",
       "                                                 ║  ║ \n",
       "ancilla_1 -> 3 ──────────────────────────────────╫──╫─\n",
       "                                                 ║  ║ \n",
       "ancilla_2 -> 4 ──────────────────────────────────╫──╫─\n",
       "                                                 ║  ║ \n",
       "ancilla_3 -> 5 ──────────────────────────────────╫──╫─\n",
       "                                                 ║  ║ \n",
       "ancilla_4 -> 6 ──────────────────────────────────╫──╫─\n",
       "                                                 ║  ║ \n",
       "          c: 2/══════════════════════════════════╩══╩═\n",
       "                                                 0  1 </pre>"
      ],
      "text/plain": [
       "global phase: π/4\n",
       "               ┌─────────┐┌────┐┌─────────┐     ┌─┐   \n",
       "      q_0 -> 0 ┤ Rz(π/2) ├┤ √X ├┤ Rz(π/2) ├──■──┤M├───\n",
       "               └─────────┘└────┘└─────────┘┌─┴─┐└╥┘┌─┐\n",
       "      q_1 -> 1 ────────────────────────────┤ X ├─╫─┤M├\n",
       "                                           └───┘ ║ └╥┘\n",
       "ancilla_0 -> 2 ──────────────────────────────────╫──╫─\n",
       "                                                 ║  ║ \n",
       "ancilla_1 -> 3 ──────────────────────────────────╫──╫─\n",
       "                                                 ║  ║ \n",
       "ancilla_2 -> 4 ──────────────────────────────────╫──╫─\n",
       "                                                 ║  ║ \n",
       "ancilla_3 -> 5 ──────────────────────────────────╫──╫─\n",
       "                                                 ║  ║ \n",
       "ancilla_4 -> 6 ──────────────────────────────────╫──╫─\n",
       "                                                 ║  ║ \n",
       "          c: 2/══════════════════════════════════╩══╩═\n",
       "                                                 0  1 "
      ]
     },
     "execution_count": 11,
     "metadata": {},
     "output_type": "execute_result"
    }
   ],
   "source": [
    "backend = provider.get_backend('ibm_wellington')\n",
    "new_circuit=transpile(circuit,backend)\n",
    "new_circuit.draw()"
   ]
  },
  {
   "cell_type": "code",
   "execution_count": null,
   "metadata": {},
   "outputs": [
    {
     "name": "stdout",
     "output_type": "stream",
     "text": [
      "Job Status: job is actively running"
     ]
    }
   ],
   "source": [
    "job = backend.run(new_circuit)\n",
    "job_monitor(job)\n",
    "result = job.result()\n",
    "counts3 = result.get_counts()\n",
    "print(counts3)"
   ]
  },
  {
   "cell_type": "code",
   "execution_count": null,
   "metadata": {},
   "outputs": [],
   "source": [
    "backend = provider.get_backend('ibm_perth')\n",
    "new_circuit=transpile(circuit,backend)\n",
    "new_circuit.draw()"
   ]
  },
  {
   "cell_type": "code",
   "execution_count": null,
   "metadata": {},
   "outputs": [],
   "source": [
    "job = backend.run(new_circuit)\n",
    "job_monitor(job)\n",
    "result = job.result()\n",
    "counts4 = result.get_counts()\n",
    "print(counts4)"
   ]
  },
  {
   "cell_type": "code",
   "execution_count": null,
   "metadata": {},
   "outputs": [],
   "source": [
    "from qiskit.visualization import plot_histogram"
   ]
  },
  {
   "cell_type": "code",
   "execution_count": null,
   "metadata": {},
   "outputs": [],
   "source": [
    "plot_histogram([counts1,counts4, counts3])"
   ]
  },
  {
   "cell_type": "code",
   "execution_count": null,
   "metadata": {},
   "outputs": [],
   "source": []
  }
 ],
 "metadata": {
  "kernelspec": {
   "display_name": "Python 3 (ipykernel)",
   "language": "python",
   "name": "python3"
  },
  "language_info": {
   "codemirror_mode": {
    "name": "ipython",
    "version": 3
   },
   "file_extension": ".py",
   "mimetype": "text/x-python",
   "name": "python",
   "nbconvert_exporter": "python",
   "pygments_lexer": "ipython3",
   "version": "3.11.4"
  }
 },
 "nbformat": 4,
 "nbformat_minor": 4
}
