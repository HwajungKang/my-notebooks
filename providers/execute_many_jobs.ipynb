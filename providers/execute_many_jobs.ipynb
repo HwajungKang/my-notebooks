{
 "cells": [
  {
   "cell_type": "code",
   "execution_count": 3,
   "metadata": {},
   "outputs": [],
   "source": [
    "from qiskit import *"
   ]
  },
  {
   "cell_type": "code",
   "execution_count": 2,
   "metadata": {},
   "outputs": [
    {
     "data": {
      "text/html": [
       "<pre style=\"word-wrap: normal;white-space: pre;background: #fff0;line-height: 1.1;font-family: &quot;Courier New&quot;,Courier,monospace\">     ┌───┐     ┌─┐   \n",
       "q_0: ┤ H ├──■──┤M├───\n",
       "     └───┘┌─┴─┐└╥┘┌─┐\n",
       "q_1: ─────┤ X ├─╫─┤M├\n",
       "          └───┘ ║ └╥┘\n",
       "c: 2/═══════════╩══╩═\n",
       "                0  1 </pre>"
      ],
      "text/plain": [
       "     ┌───┐     ┌─┐   \n",
       "q_0: ┤ H ├──■──┤M├───\n",
       "     └───┘┌─┴─┐└╥┘┌─┐\n",
       "q_1: ─────┤ X ├─╫─┤M├\n",
       "          └───┘ ║ └╥┘\n",
       "c: 2/═══════════╩══╩═\n",
       "                0  1 "
      ]
     },
     "execution_count": 2,
     "metadata": {},
     "output_type": "execute_result"
    }
   ],
   "source": [
    "circuit = QuantumCircuit(2, 2)\n",
    "circuit.h(0)\n",
    "circuit.cx(0,1)\n",
    "circuit.measure([0,1], [0,1])\n",
    "circuit.draw()"
   ]
  },
  {
   "cell_type": "code",
   "execution_count": 9,
   "metadata": {},
   "outputs": [],
   "source": [
    "from qiskit_ibm_provider import IBMProvider\n",
    "provider = IBMProvider()"
   ]
  },
  {
   "cell_type": "code",
   "execution_count": 4,
   "metadata": {},
   "outputs": [
    {
     "data": {
      "text/plain": [
       "[<IBMBackend('ibm_wellington')>,\n",
       " <IBMBackend('ibmq_kolkata')>,\n",
       " <IBMBackend('ibmq_mumbai')>,\n",
       " <IBMBackend('ibm_kyiv')>,\n",
       " <IBMBackend('ibm_hanoi')>,\n",
       " <IBMBackend('ibmq_jakarta')>,\n",
       " <IBMBackend('simulator_extended_stabilizer')>,\n",
       " <IBMBackend('simulator_mps')>,\n",
       " <IBMBackend('simulator_stabilizer')>,\n",
       " <IBMBackend('ibmq_manila')>,\n",
       " <IBMBackend('ibm_nairobi')>,\n",
       " <IBMBackend('ibm_lagos')>,\n",
       " <IBMBackend('ibmq_qasm_simulator')>,\n",
       " <IBMBackend('ibmq_quito')>,\n",
       " <IBMBackend('ibmq_lima')>,\n",
       " <IBMBackend('ibmq_belem')>,\n",
       " <IBMBackend('simulator_statevector')>,\n",
       " <IBMBackend('ibm_perth')>]"
      ]
     },
     "execution_count": 4,
     "metadata": {},
     "output_type": "execute_result"
    }
   ],
   "source": [
    "provider.backends()"
   ]
  },
  {
   "cell_type": "code",
   "execution_count": 5,
   "metadata": {},
   "outputs": [],
   "source": [
    "from qiskit.tools.monitor import job_monitor"
   ]
  },
  {
   "cell_type": "code",
   "execution_count": 6,
   "metadata": {},
   "outputs": [
    {
     "data": {
      "text/plain": [
       "[<IBMCircuitJob('cjs5akorkbgpt6oauiqg')>,\n",
       " <IBMCircuitJob('cjs5aksm0kng5pi6iul0')>,\n",
       " <IBMCircuitJob('cjs5al7ggiqgokaacav0')>,\n",
       " <IBMCircuitJob('cjs5al7ggiqgokaacbag')>,\n",
       " <IBMCircuitJob('cjs5al0vndeds0nj9hj0')>,\n",
       " <IBMCircuitJob('cjs5alfggiqgokaaccbg')>,\n",
       " <IBMCircuitJob('cjs5al8vndeds0nj9id0')>,\n",
       " <IBMCircuitJob('cjs5alfggiqgokaacd60')>,\n",
       " <IBMCircuitJob('cjs5alfggiqgokaacdrg')>,\n",
       " <IBMCircuitJob('cjs5amvggiqgokaacmqg')>]"
      ]
     },
     "execution_count": 6,
     "metadata": {},
     "output_type": "execute_result"
    }
   ],
   "source": [
    "backend = provider.get_backend('ibmq_qasm_simulator')\n",
    "new_circuit=transpile(circuit,backend)\n",
    "\n",
    "joblist1 = []\n",
    "for i in range(10):\n",
    "    job = backend.run(new_circuit)\n",
    "    #job_monitor(job)\n",
    "    joblist1.append(job)\n",
    "joblist1"
   ]
  },
  {
   "cell_type": "code",
   "execution_count": 7,
   "metadata": {},
   "outputs": [
    {
     "data": {
      "text/plain": [
       "[<IBMCircuitJob('cjs5amvggiqgokaacnv0')>,\n",
       " <IBMCircuitJob('cjs5an7ggiqgokaacopg')>,\n",
       " <IBMCircuitJob('cjs5an7ggiqgokaacpug')>,\n",
       " <IBMCircuitJob('cjs5andr4b3c0j7l9n4g')>,\n",
       " <IBMCircuitJob('cjs5animj1o2fumedds0')>,\n",
       " <IBMCircuitJob('cjs5anovndeds0nja1bg')>,\n",
       " <IBMCircuitJob('cjs5anovndeds0nja2h0')>,\n",
       " <IBMCircuitJob('cjs5ao0vndeds0nja3og')>,\n",
       " <IBMCircuitJob('cjs5aoamj1o2fumedkmg')>,\n",
       " <IBMCircuitJob('cjs5aq8rkbgpt6oavo80')>]"
      ]
     },
     "execution_count": 7,
     "metadata": {},
     "output_type": "execute_result"
    }
   ],
   "source": [
    "backend = provider.get_backend('ibmq_jakarta')\n",
    "new_circuit=transpile(circuit,backend)\n",
    "\n",
    "\n",
    "joblist2 = []\n",
    "for i in range(10):\n",
    "    job = backend.run(new_circuit)\n",
    "    #job_monitor(job)\n",
    "    joblist2.append(job)\n",
    "joblist2"
   ]
  },
  {
   "cell_type": "code",
   "execution_count": 8,
   "metadata": {},
   "outputs": [
    {
     "data": {
      "text/plain": [
       "[<IBMCircuitJob('cjs5aqdr4b3c0j7lac70')>,\n",
       " <IBMCircuitJob('cjs5aqovndeds0njalkg')>,\n",
       " <IBMCircuitJob('cjs5ar7ggiqgokaadko0')>,\n",
       " <IBMCircuitJob('cjs5aramj1o2fumee93g')>,\n",
       " <IBMCircuitJob('cjs5ar8vndeds0njaq7g')>,\n",
       " <IBMCircuitJob('cjs5arimj1o2fumeecd0')>,\n",
       " <IBMCircuitJob('cjs5arorkbgpt6ob02qg')>,\n",
       " <IBMCircuitJob('cjs5arovndeds0njatd0')>,\n",
       " <IBMCircuitJob('cjs5b05r4b3c0j7lbko0')>,\n",
       " <IBMCircuitJob('cjs5b0cm0kng5pi6laf0')>]"
      ]
     },
     "execution_count": 8,
     "metadata": {},
     "output_type": "execute_result"
    }
   ],
   "source": [
    "backend = provider.get_backend('ibmq_belem')\n",
    "new_circuit=transpile(circuit,backend)\n",
    "\n",
    "\n",
    "joblist3 = []\n",
    "for i in range(10):\n",
    "    job = backend.run(new_circuit)\n",
    "    #job_monitor(job)\n",
    "    joblist3.append(job)\n",
    "joblist3"
   ]
  },
  {
   "cell_type": "code",
   "execution_count": 9,
   "metadata": {},
   "outputs": [
    {
     "data": {
      "text/plain": [
       "[<IBMCircuitJob('cjs5b0grkbgpt6ob12v0')>,\n",
       " <IBMCircuitJob('cjs5b0vggiqgokaaf130')>,\n",
       " <IBMCircuitJob('cjs5b14m0kng5pi6lfeg')>,\n",
       " <IBMCircuitJob('cjs5b18vndeds0njbvog')>,\n",
       " <IBMCircuitJob('cjs5b1gvndeds0njc19g')>,\n",
       " <IBMCircuitJob('cjs5b1nggiqgokaaf70g')>,\n",
       " <IBMCircuitJob('cjs5b1orkbgpt6ob1av0')>,\n",
       " <IBMCircuitJob('cjs5b1orkbgpt6ob1c0g')>,\n",
       " <IBMCircuitJob('cjs5b20vndeds0njc540')>,\n",
       " <IBMCircuitJob('cjs5b2fggiqgokaafb20')>]"
      ]
     },
     "execution_count": 9,
     "metadata": {},
     "output_type": "execute_result"
    }
   ],
   "source": [
    "backend = provider.get_backend('ibmq_manila')\n",
    "new_circuit=transpile(circuit,backend)\n",
    "\n",
    "\n",
    "joblist4 = []\n",
    "for i in range(10):\n",
    "    job = backend.run(new_circuit)\n",
    "    #job_monitor(job)\n",
    "    joblist4.append(job)\n",
    "joblist4"
   ]
  },
  {
   "cell_type": "code",
   "execution_count": 10,
   "metadata": {},
   "outputs": [
    {
     "data": {
      "text/plain": [
       "[<IBMCircuitJob('cjs5b2gvndeds0njc7q0')>,\n",
       " <IBMCircuitJob('cjs5b2tr4b3c0j7lc72g')>,\n",
       " <IBMCircuitJob('cjs5b2orkbgpt6ob1io0')>,\n",
       " <IBMCircuitJob('cjs5b35r4b3c0j7lc9jg')>,\n",
       " <IBMCircuitJob('cjs5b38vndeds0njcd6g')>,\n",
       " <IBMCircuitJob('cjs5b3nggiqgokaafk60')>,\n",
       " <IBMCircuitJob('cjs5b3nggiqgokaafl60')>,\n",
       " <IBMCircuitJob('cjs5b3ovndeds0njcggg')>,\n",
       " <IBMCircuitJob('cjs5b48rkbgpt6ob1s20')>,\n",
       " <IBMCircuitJob('cjs5b4nggiqgokaafqn0')>]"
      ]
     },
     "execution_count": 10,
     "metadata": {},
     "output_type": "execute_result"
    }
   ],
   "source": [
    "backend = provider.get_backend('ibm_hanoi')\n",
    "new_circuit=transpile(circuit,backend)\n",
    "\n",
    "\n",
    "joblist5 = []\n",
    "for i in range(10):\n",
    "    job = backend.run(new_circuit)\n",
    "    #job_monitor(job)\n",
    "    joblist5.append(job)\n",
    "joblist5"
   ]
  },
  {
   "cell_type": "markdown",
   "metadata": {},
   "source": [
    "Load each one and then plot them"
   ]
  },
  {
   "cell_type": "code",
   "execution_count": 17,
   "metadata": {},
   "outputs": [
    {
     "data": {
      "text/plain": [
       "[{'00': 2021, '11': 1979},\n",
       " {'11': 2004, '00': 1996},\n",
       " {'00': 1990, '11': 2010},\n",
       " {'11': 2000, '00': 2000},\n",
       " {'11': 1985, '00': 2015},\n",
       " {'11': 1975, '00': 2025},\n",
       " {'11': 1982, '00': 2018},\n",
       " {'00': 1980, '11': 2020},\n",
       " {'11': 1987, '00': 2013},\n",
       " {'00': 2060, '11': 1940}]"
      ]
     },
     "execution_count": 17,
     "metadata": {},
     "output_type": "execute_result"
    }
   ],
   "source": [
    "countlist = []\n",
    "for job in joblist1:\n",
    "    job_get = provider.retrieve_job(job.job_id())\n",
    "    countlist.append(job_get.result().get_counts())\n",
    "countlist"
   ]
  },
  {
   "cell_type": "code",
   "execution_count": 19,
   "metadata": {},
   "outputs": [
    {
     "data": {
      "text/plain": [
       "[{'00': 1987, '01': 57, '10': 260, '11': 1696},\n",
       " {'00': 1972, '01': 89, '10': 289, '11': 1650},\n",
       " {'00': 1950, '01': 72, '10': 279, '11': 1699},\n",
       " {'00': 1957, '01': 69, '10': 283, '11': 1691},\n",
       " {'00': 1913, '01': 90, '10': 281, '11': 1716},\n",
       " {'00': 1945, '01': 84, '10': 327, '11': 1644},\n",
       " {'00': 1956, '01': 76, '10': 282, '11': 1686},\n",
       " {'00': 1936, '01': 67, '10': 289, '11': 1708},\n",
       " {'00': 1947, '01': 76, '10': 291, '11': 1686},\n",
       " {'00': 1935, '01': 65, '10': 290, '11': 1710}]"
      ]
     },
     "execution_count": 19,
     "metadata": {},
     "output_type": "execute_result"
    }
   ],
   "source": [
    "countlist = []\n",
    "for job in joblist2:\n",
    "    job_get = provider.retrieve_job(job.job_id())\n",
    "    countlist.append(job_get.result().get_counts())\n",
    "countlist"
   ]
  },
  {
   "cell_type": "code",
   "execution_count": 20,
   "metadata": {},
   "outputs": [
    {
     "data": {
      "text/plain": [
       "[{'00': 1954, '01': 129, '10': 114, '11': 1803},\n",
       " {'00': 1961, '01': 122, '10': 135, '11': 1782},\n",
       " {'00': 1920, '01': 109, '10': 119, '11': 1852},\n",
       " {'00': 1950, '01': 113, '10': 121, '11': 1816},\n",
       " {'00': 1987, '01': 103, '10': 116, '11': 1794},\n",
       " {'00': 1966, '01': 132, '10': 132, '11': 1770},\n",
       " {'00': 1914, '01': 121, '10': 131, '11': 1834},\n",
       " {'00': 1965, '01': 115, '10': 118, '11': 1802},\n",
       " {'00': 1930, '01': 121, '10': 137, '11': 1812},\n",
       " {'00': 1886, '01': 103, '10': 154, '11': 1857}]"
      ]
     },
     "execution_count": 20,
     "metadata": {},
     "output_type": "execute_result"
    }
   ],
   "source": [
    "countlist = []\n",
    "for job in joblist3:\n",
    "    job_get = provider.retrieve_job(job.job_id())\n",
    "    countlist.append(job_get.result().get_counts())\n",
    "countlist"
   ]
  },
  {
   "cell_type": "code",
   "execution_count": 14,
   "metadata": {},
   "outputs": [
    {
     "ename": "KeyboardInterrupt",
     "evalue": "",
     "output_type": "error",
     "traceback": [
      "\u001b[0;31m---------------------------------------------------------------------------\u001b[0m",
      "\u001b[0;31mKeyboardInterrupt\u001b[0m                         Traceback (most recent call last)",
      "Cell \u001b[0;32mIn[14], line 3\u001b[0m\n\u001b[1;32m      1\u001b[0m countlist \u001b[38;5;241m=\u001b[39m []\n\u001b[1;32m      2\u001b[0m \u001b[38;5;28;01mfor\u001b[39;00m job \u001b[38;5;129;01min\u001b[39;00m joblist4:\n\u001b[0;32m----> 3\u001b[0m     countlist\u001b[38;5;241m.\u001b[39mappend(\u001b[43mjob\u001b[49m\u001b[38;5;241;43m.\u001b[39;49m\u001b[43mresult\u001b[49m\u001b[43m(\u001b[49m\u001b[43m)\u001b[49m\u001b[38;5;241m.\u001b[39mget_counts())\n\u001b[1;32m      4\u001b[0m countlist\n",
      "File \u001b[0;32m~/Code/env/qiskit/lib/python3.11/site-packages/qiskit_ibm_provider/job/ibm_circuit_job.py:249\u001b[0m, in \u001b[0;36mIBMCircuitJob.result\u001b[0;34m(self, timeout, refresh)\u001b[0m\n\u001b[1;32m    247\u001b[0m \u001b[38;5;66;03m# pylint: disable=arguments-differ\u001b[39;00m\n\u001b[1;32m    248\u001b[0m \u001b[38;5;28;01mif\u001b[39;00m \u001b[38;5;28mself\u001b[39m\u001b[38;5;241m.\u001b[39m_result \u001b[38;5;129;01mis\u001b[39;00m \u001b[38;5;28;01mNone\u001b[39;00m \u001b[38;5;129;01mor\u001b[39;00m refresh:\n\u001b[0;32m--> 249\u001b[0m     \u001b[38;5;28;43mself\u001b[39;49m\u001b[38;5;241;43m.\u001b[39;49m\u001b[43mwait_for_final_state\u001b[49m\u001b[43m(\u001b[49m\u001b[43mtimeout\u001b[49m\u001b[38;5;241;43m=\u001b[39;49m\u001b[43mtimeout\u001b[49m\u001b[43m)\u001b[49m\n\u001b[1;32m    250\u001b[0m     \u001b[38;5;28;01mif\u001b[39;00m \u001b[38;5;28mself\u001b[39m\u001b[38;5;241m.\u001b[39m_status \u001b[38;5;129;01mis\u001b[39;00m JobStatus\u001b[38;5;241m.\u001b[39mCANCELLED:\n\u001b[1;32m    251\u001b[0m         \u001b[38;5;28;01mraise\u001b[39;00m IBMJobInvalidStateError(\n\u001b[1;32m    252\u001b[0m             \u001b[38;5;124m\"\u001b[39m\u001b[38;5;124mUnable to retrieve result for job \u001b[39m\u001b[38;5;132;01m{}\u001b[39;00m\u001b[38;5;124m. \u001b[39m\u001b[38;5;124m\"\u001b[39m\n\u001b[1;32m    253\u001b[0m             \u001b[38;5;124m\"\u001b[39m\u001b[38;5;124mJob was cancelled.\u001b[39m\u001b[38;5;124m\"\u001b[39m\u001b[38;5;241m.\u001b[39mformat(\u001b[38;5;28mself\u001b[39m\u001b[38;5;241m.\u001b[39mjob_id())\n\u001b[1;32m    254\u001b[0m         )\n",
      "File \u001b[0;32m~/Code/env/qiskit/lib/python3.11/site-packages/qiskit_ibm_provider/job/ibm_circuit_job.py:669\u001b[0m, in \u001b[0;36mIBMCircuitJob.wait_for_final_state\u001b[0;34m(self, timeout)\u001b[0m\n\u001b[1;32m    665\u001b[0m         \u001b[38;5;28;01mif\u001b[39;00m timeout \u001b[38;5;129;01mis\u001b[39;00m \u001b[38;5;129;01mnot\u001b[39;00m \u001b[38;5;28;01mNone\u001b[39;00m \u001b[38;5;129;01mand\u001b[39;00m elapsed_time \u001b[38;5;241m>\u001b[39m\u001b[38;5;241m=\u001b[39m timeout:\n\u001b[1;32m    666\u001b[0m             \u001b[38;5;28;01mraise\u001b[39;00m IBMJobTimeoutError(\n\u001b[1;32m    667\u001b[0m                 \u001b[38;5;124mf\u001b[39m\u001b[38;5;124m\"\u001b[39m\u001b[38;5;124mTimed out waiting for job to complete after \u001b[39m\u001b[38;5;132;01m{\u001b[39;00mtimeout\u001b[38;5;132;01m}\u001b[39;00m\u001b[38;5;124m secs.\u001b[39m\u001b[38;5;124m\"\u001b[39m\n\u001b[1;32m    668\u001b[0m             )\n\u001b[0;32m--> 669\u001b[0m         time\u001b[38;5;241m.\u001b[39msleep(\u001b[38;5;241m3\u001b[39m)\n\u001b[1;32m    670\u001b[0m         status \u001b[38;5;241m=\u001b[39m \u001b[38;5;28mself\u001b[39m\u001b[38;5;241m.\u001b[39mstatus()\n\u001b[1;32m    671\u001b[0m \u001b[38;5;28;01mexcept\u001b[39;00m futures\u001b[38;5;241m.\u001b[39mTimeoutError:\n",
      "\u001b[0;31mKeyboardInterrupt\u001b[0m: "
     ]
    }
   ],
   "source": [
    "countlist = []\n",
    "for job in joblist4:\n",
    "    job_get = provider.retrieve_job(job.job_id())\n",
    "    countlist.append(job_get.result().get_counts())\n",
    "countlist"
   ]
  },
  {
   "cell_type": "code",
   "execution_count": 10,
   "metadata": {},
   "outputs": [],
   "source": []
  },
  {
   "cell_type": "code",
   "execution_count": 12,
   "metadata": {},
   "outputs": [
    {
     "data": {
      "text/plain": [
       "[{'00': 2098, '01': 40, '10': 44, '11': 1818},\n",
       " {'00': 2033, '01': 43, '10': 55, '11': 1869},\n",
       " {'00': 2049, '01': 31, '10': 40, '11': 1880},\n",
       " {'00': 2068, '01': 28, '10': 44, '11': 1860},\n",
       " {'00': 2069, '01': 43, '10': 42, '11': 1846},\n",
       " {'00': 2019, '01': 35, '10': 46, '11': 1900},\n",
       " {'00': 2087, '01': 42, '10': 48, '11': 1823},\n",
       " {'00': 2092, '01': 43, '10': 41, '11': 1824},\n",
       " {'00': 2092, '01': 41, '10': 42, '11': 1825},\n",
       " {'00': 2091, '01': 43, '10': 50, '11': 1816}]"
      ]
     },
     "execution_count": 12,
     "metadata": {},
     "output_type": "execute_result"
    }
   ],
   "source": [
    "joblist5 =['cjs5b2gvndeds0njc7q0', 'cjs5b2tr4b3c0j7lc72g', 'cjs5b2orkbgpt6ob1io0', 'cjs5b35r4b3c0j7lc9jg', 'cjs5b38vndeds0njcd6g', 'cjs5b3nggiqgokaafk60',\n",
    "          'cjs5b3nggiqgokaafl60','cjs5b3ovndeds0njcggg', 'cjs5b48rkbgpt6ob1s20', 'cjs5b4nggiqgokaafqn0']\n",
    "\n",
    "countlist = []\n",
    "for job in joblist5:\n",
    "    job_get = provider.retrieve_job(job)\n",
    "    countlist.append(job_get.result().get_counts())\n",
    "countlist"
   ]
  },
  {
   "cell_type": "code",
   "execution_count": null,
   "metadata": {},
   "outputs": [],
   "source": []
  }
 ],
 "metadata": {
  "kernelspec": {
   "display_name": "Python 3 (ipykernel)",
   "language": "python",
   "name": "python3"
  },
  "language_info": {
   "codemirror_mode": {
    "name": "ipython",
    "version": 3
   },
   "file_extension": ".py",
   "mimetype": "text/x-python",
   "name": "python",
   "nbconvert_exporter": "python",
   "pygments_lexer": "ipython3",
   "version": "3.11.5"
  }
 },
 "nbformat": 4,
 "nbformat_minor": 4
}
