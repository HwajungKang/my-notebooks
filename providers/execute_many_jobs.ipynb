{
 "cells": [
  {
   "cell_type": "code",
   "execution_count": 1,
   "metadata": {},
   "outputs": [],
   "source": [
    "from qiskit import *"
   ]
  },
  {
   "cell_type": "code",
   "execution_count": 2,
   "metadata": {},
   "outputs": [
    {
     "data": {
      "text/html": [
       "<pre style=\"word-wrap: normal;white-space: pre;background: #fff0;line-height: 1.1;font-family: &quot;Courier New&quot;,Courier,monospace\">     ┌───┐     ┌─┐   \n",
       "q_0: ┤ H ├──■──┤M├───\n",
       "     └───┘┌─┴─┐└╥┘┌─┐\n",
       "q_1: ─────┤ X ├─╫─┤M├\n",
       "          └───┘ ║ └╥┘\n",
       "c_0: ═══════════╩══╬═\n",
       "                   ║ \n",
       "c_1: ══════════════╩═\n",
       "                     </pre>"
      ],
      "text/plain": [
       "     ┌───┐     ┌─┐   \n",
       "q_0: ┤ H ├──■──┤M├───\n",
       "     └───┘┌─┴─┐└╥┘┌─┐\n",
       "q_1: ─────┤ X ├─╫─┤M├\n",
       "          └───┘ ║ └╥┘\n",
       "c_0: ═══════════╩══╬═\n",
       "                   ║ \n",
       "c_1: ══════════════╩═\n",
       "                     "
      ]
     },
     "execution_count": 2,
     "metadata": {},
     "output_type": "execute_result"
    }
   ],
   "source": [
    "circuit = QuantumCircuit(2, 2)\n",
    "circuit.h(0)\n",
    "circuit.cx(0,1)\n",
    "circuit.measure([0,1], [0,1])\n",
    "circuit.draw()"
   ]
  },
  {
   "cell_type": "code",
   "execution_count": 3,
   "metadata": {},
   "outputs": [
    {
     "data": {
      "text/plain": [
       "<AccountProvider for IBMQ(hub='ibm-q', group='open', project='main')>"
      ]
     },
     "execution_count": 3,
     "metadata": {},
     "output_type": "execute_result"
    }
   ],
   "source": [
    "IBMQ.load_account()"
   ]
  },
  {
   "cell_type": "code",
   "execution_count": 4,
   "metadata": {},
   "outputs": [],
   "source": [
    "provider = IBMQ.get_provider(hub='ibm-q-internal', group='deployed', project='default')"
   ]
  },
  {
   "cell_type": "code",
   "execution_count": 10,
   "metadata": {},
   "outputs": [
    {
     "data": {
      "text/plain": [
       "[<IBMQSimulator('ibmq_qasm_simulator') from IBMQ(hub='ibm-q-internal', group='deployed', project='default')>,\n",
       " <IBMQBackend('ibmqx2') from IBMQ(hub='ibm-q-internal', group='deployed', project='default')>,\n",
       " <IBMQBackend('ibmq_16_melbourne') from IBMQ(hub='ibm-q-internal', group='deployed', project='default')>,\n",
       " <IBMQBackend('ibmq_poughkeepsie') from IBMQ(hub='ibm-q-internal', group='deployed', project='default')>,\n",
       " <IBMQBackend('ibmq_vigo') from IBMQ(hub='ibm-q-internal', group='deployed', project='default')>,\n",
       " <IBMQBackend('ibmq_ourense') from IBMQ(hub='ibm-q-internal', group='deployed', project='default')>,\n",
       " <IBMQBackend('ibmq_valencia') from IBMQ(hub='ibm-q-internal', group='deployed', project='default')>,\n",
       " <IBMQBackend('ibmq_london') from IBMQ(hub='ibm-q-internal', group='deployed', project='default')>,\n",
       " <IBMQBackend('ibmq_burlington') from IBMQ(hub='ibm-q-internal', group='deployed', project='default')>,\n",
       " <IBMQBackend('ibmq_singapore') from IBMQ(hub='ibm-q-internal', group='deployed', project='default')>,\n",
       " <IBMQBackend('ibmq_almaden') from IBMQ(hub='ibm-q-internal', group='deployed', project='default')>,\n",
       " <IBMQBackend('ibmq_johannesburg') from IBMQ(hub='ibm-q-internal', group='deployed', project='default')>,\n",
       " <IBMQBackend('ibmq_rochester') from IBMQ(hub='ibm-q-internal', group='deployed', project='default')>,\n",
       " <IBMQBackend('ibmq_essex') from IBMQ(hub='ibm-q-internal', group='deployed', project='default')>,\n",
       " <IBMQBackend('ibmq_armonk') from IBMQ(hub='ibm-q-internal', group='deployed', project='default')>,\n",
       " <IBMQBackend('ibmq_cambridge') from IBMQ(hub='ibm-q-internal', group='deployed', project='default')>,\n",
       " <IBMQBackend('ibmq_paris') from IBMQ(hub='ibm-q-internal', group='deployed', project='default')>]"
      ]
     },
     "execution_count": 10,
     "metadata": {},
     "output_type": "execute_result"
    }
   ],
   "source": [
    "provider.backends()"
   ]
  },
  {
   "cell_type": "code",
   "execution_count": 6,
   "metadata": {},
   "outputs": [],
   "source": [
    "from qiskit.tools.monitor import job_monitor"
   ]
  },
  {
   "cell_type": "code",
   "execution_count": 7,
   "metadata": {},
   "outputs": [],
   "source": [
    "backend = provider.get_backend('ibmq_qasm_simulator', hub=None)\n",
    "new_circuit=transpile(circuit,backend)\n",
    "\n",
    "joblist1 = []\n",
    "for i in range(10):\n",
    "    job = backend.run(assemble(new_circuit))\n",
    "    #job_monitor(job)\n",
    "    joblist1.append(job)"
   ]
  },
  {
   "cell_type": "code",
   "execution_count": 8,
   "metadata": {},
   "outputs": [],
   "source": [
    "backend = provider.get_backend('ibmq_essex')\n",
    "new_circuit=transpile(circuit,backend)\n",
    "\n",
    "\n",
    "joblist2 = []\n",
    "for i in range(10):\n",
    "    job = backend.run(assemble(new_circuit))\n",
    "    #job_monitor(job)\n",
    "    joblist2.append(job)"
   ]
  },
  {
   "cell_type": "code",
   "execution_count": 14,
   "metadata": {},
   "outputs": [],
   "source": [
    "backend = provider.get_backend('ibmq_rochester')\n",
    "new_circuit=transpile(circuit,backend)\n",
    "\n",
    "\n",
    "joblist3 = []\n",
    "for i in range(10):\n",
    "    job = backend.run(assemble(new_circuit))\n",
    "    #job_monitor(job)\n",
    "    joblist3.append(job)"
   ]
  },
  {
   "cell_type": "code",
   "execution_count": 12,
   "metadata": {},
   "outputs": [],
   "source": [
    "backend = provider.get_backend('ibmq_16_melbourne')\n",
    "new_circuit=transpile(circuit,backend)\n",
    "\n",
    "\n",
    "joblist4 = []\n",
    "for i in range(10):\n",
    "    job = backend.run(assemble(new_circuit))\n",
    "    #job_monitor(job)\n",
    "    joblist4.append(job)"
   ]
  },
  {
   "cell_type": "code",
   "execution_count": 13,
   "metadata": {},
   "outputs": [],
   "source": [
    "backend = provider.get_backend('ibmq_johannesburg')\n",
    "new_circuit=transpile(circuit,backend)\n",
    "\n",
    "\n",
    "joblist5 = []\n",
    "for i in range(10):\n",
    "    job = backend.run(assemble(new_circuit))\n",
    "    #job_monitor(job)\n",
    "    joblist5.append(job)"
   ]
  },
  {
   "cell_type": "code",
   "execution_count": 20,
   "metadata": {},
   "outputs": [
    {
     "data": {
      "text/plain": [
       "[{'00': 504, '11': 520},\n",
       " {'00': 502, '11': 522},\n",
       " {'00': 520, '11': 504},\n",
       " {'00': 515, '11': 509},\n",
       " {'00': 514, '11': 510},\n",
       " {'00': 532, '11': 492},\n",
       " {'00': 513, '11': 511},\n",
       " {'00': 512, '11': 512},\n",
       " {'00': 489, '11': 535},\n",
       " {'00': 507, '11': 517}]"
      ]
     },
     "execution_count": 20,
     "metadata": {},
     "output_type": "execute_result"
    }
   ],
   "source": [
    "countlist = []\n",
    "for job in joblist1:\n",
    "    countlist.append(job.result().get_counts())\n",
    "countlist"
   ]
  },
  {
   "cell_type": "code",
   "execution_count": 21,
   "metadata": {},
   "outputs": [
    {
     "data": {
      "text/plain": [
       "[{'00': 479, '10': 22, '11': 462, '01': 61},\n",
       " {'00': 468, '10': 26, '11': 479, '01': 51},\n",
       " {'00': 464, '10': 19, '11': 497, '01': 44},\n",
       " {'00': 474, '10': 34, '11': 473, '01': 43},\n",
       " {'00': 454, '10': 30, '11': 507, '01': 33},\n",
       " {'00': 463, '10': 29, '11': 490, '01': 42},\n",
       " {'00': 478, '10': 28, '11': 465, '01': 53},\n",
       " {'00': 464, '10': 21, '11': 507, '01': 32},\n",
       " {'00': 459, '10': 28, '11': 488, '01': 49},\n",
       " {'00': 483, '10': 15, '11': 491, '01': 35}]"
      ]
     },
     "execution_count": 21,
     "metadata": {},
     "output_type": "execute_result"
    }
   ],
   "source": [
    "countlist = []\n",
    "for job in joblist2:\n",
    "    countlist.append(job.result().get_counts())\n",
    "countlist"
   ]
  },
  {
   "cell_type": "code",
   "execution_count": 22,
   "metadata": {},
   "outputs": [
    {
     "data": {
      "text/plain": [
       "[{'00': 454, '10': 70, '11': 438, '01': 62},\n",
       " {'00': 471, '10': 67, '11': 431, '01': 55},\n",
       " {'00': 486, '10': 61, '11': 415, '01': 62},\n",
       " {'00': 502, '10': 64, '11': 402, '01': 56},\n",
       " {'00': 466, '10': 74, '11': 421, '01': 63},\n",
       " {'00': 496, '10': 76, '11': 396, '01': 56},\n",
       " {'00': 482, '10': 77, '11': 396, '01': 69},\n",
       " {'00': 440, '10': 77, '11': 444, '01': 63},\n",
       " {'00': 469, '10': 69, '11': 425, '01': 61},\n",
       " {'00': 473, '10': 80, '11': 421, '01': 50}]"
      ]
     },
     "execution_count": 22,
     "metadata": {},
     "output_type": "execute_result"
    }
   ],
   "source": [
    "countlist = []\n",
    "for job in joblist3:\n",
    "    countlist.append(job.result().get_counts())\n",
    "countlist"
   ]
  },
  {
   "cell_type": "code",
   "execution_count": 28,
   "metadata": {},
   "outputs": [
    {
     "data": {
      "text/plain": [
       "[{'00': 526, '10': 30, '11': 403, '01': 65},\n",
       " {'00': 510, '10': 26, '11': 414, '01': 74},\n",
       " {'00': 494, '10': 38, '11': 431, '01': 61},\n",
       " {'00': 489, '10': 33, '11': 434, '01': 68},\n",
       " {'00': 499, '10': 26, '11': 440, '01': 59},\n",
       " {'00': 521, '10': 24, '11': 417, '01': 62},\n",
       " {'00': 515, '10': 26, '11': 418, '01': 65},\n",
       " {'00': 508, '10': 29, '11': 431, '01': 56},\n",
       " {'00': 515, '10': 27, '11': 424, '01': 58},\n",
       " {'00': 521, '10': 26, '11': 416, '01': 61}]"
      ]
     },
     "execution_count": 28,
     "metadata": {},
     "output_type": "execute_result"
    }
   ],
   "source": [
    "countlist = []\n",
    "for job in joblist4:\n",
    "    countlist.append(job.result().get_counts())\n",
    "countlist"
   ]
  },
  {
   "cell_type": "code",
   "execution_count": null,
   "metadata": {},
   "outputs": [],
   "source": [
    "countlist = []\n",
    "for job in joblist5:\n",
    "    countlist.append(job.result().get_counts())\n",
    "countlist"
   ]
  },
  {
   "cell_type": "code",
   "execution_count": null,
   "metadata": {},
   "outputs": [],
   "source": []
  }
 ],
 "metadata": {
  "kernelspec": {
   "display_name": "Python 3",
   "language": "python",
   "name": "python3"
  },
  "language_info": {
   "codemirror_mode": {
    "name": "ipython",
    "version": 3
   },
   "file_extension": ".py",
   "mimetype": "text/x-python",
   "name": "python",
   "nbconvert_exporter": "python",
   "pygments_lexer": "ipython3",
   "version": "3.8.2"
  }
 },
 "nbformat": 4,
 "nbformat_minor": 2
}
