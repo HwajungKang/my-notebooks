{
 "cells": [
  {
   "cell_type": "markdown",
   "metadata": {},
   "source": [
    "# This is my notebook loading and veiwing my backends"
   ]
  },
  {
   "cell_type": "code",
   "execution_count": 4,
   "metadata": {},
   "outputs": [],
   "source": [
    "#from qiskit_ibm_provider import IBMProvider\n",
    "#IBMProvider.save_account(token='MY_API_TOKEN')"
   ]
  },
  {
   "cell_type": "code",
   "execution_count": 5,
   "metadata": {},
   "outputs": [],
   "source": [
    "from qiskit_ibm_provider import IBMProvider\n",
    "provider = IBMProvider()"
   ]
  },
  {
   "cell_type": "code",
   "execution_count": 10,
   "metadata": {},
   "outputs": [
    {
     "data": {
      "text/plain": [
       "[<IBMBackend('ibm_wellington')>,\n",
       " <IBMBackend('ibmq_kolkata')>,\n",
       " <IBMBackend('ibmq_mumbai')>,\n",
       " <IBMBackend('ibmq_quito')>,\n",
       " <IBMBackend('ibmq_lima')>,\n",
       " <IBMBackend('simulator_mps')>,\n",
       " <IBMBackend('simulator_stabilizer')>,\n",
       " <IBMBackend('ibmq_manila')>,\n",
       " <IBMBackend('ibm_nairobi')>,\n",
       " <IBMBackend('ibm_lagos')>,\n",
       " <IBMBackend('ibmq_jakarta')>,\n",
       " <IBMBackend('ibmq_qasm_simulator')>,\n",
       " <IBMBackend('ibmq_belem')>,\n",
       " <IBMBackend('simulator_extended_stabilizer')>,\n",
       " <IBMBackend('simulator_statevector')>,\n",
       " <IBMBackend('ibm_perth')>]"
      ]
     },
     "execution_count": 10,
     "metadata": {},
     "output_type": "execute_result"
    }
   ],
   "source": [
    "provider.backends()"
   ]
  },
  {
   "cell_type": "code",
   "execution_count": 11,
   "metadata": {},
   "outputs": [],
   "source": [
    "backend = provider.get_backend('ibmq_belem')"
   ]
  },
  {
   "cell_type": "code",
   "execution_count": 12,
   "metadata": {},
   "outputs": [],
   "source": [
    "simulator_backend = provider.get_backend('ibmq_qasm_simulator')"
   ]
  },
  {
   "cell_type": "code",
   "execution_count": 17,
   "metadata": {},
   "outputs": [
    {
     "data": {
      "text/plain": [
       "[<IBMBackend('ibm_wellington')>,\n",
       " <IBMBackend('ibmq_kolkata')>,\n",
       " <IBMBackend('ibmq_mumbai')>,\n",
       " <IBMBackend('ibmq_quito')>,\n",
       " <IBMBackend('ibmq_lima')>,\n",
       " <IBMBackend('ibmq_manila')>,\n",
       " <IBMBackend('ibm_nairobi')>,\n",
       " <IBMBackend('ibm_lagos')>,\n",
       " <IBMBackend('ibmq_jakarta')>,\n",
       " <IBMBackend('ibmq_belem')>,\n",
       " <IBMBackend('ibm_perth')>]"
      ]
     },
     "execution_count": 17,
     "metadata": {},
     "output_type": "execute_result"
    }
   ],
   "source": [
    "provider.backends(simulator=False, operational=True)"
   ]
  },
  {
   "cell_type": "code",
   "execution_count": 18,
   "metadata": {},
   "outputs": [
    {
     "name": "stdout",
     "output_type": "stream",
     "text": [
      "<IBMBackend('ibm_wellington')>\n"
     ]
    }
   ],
   "source": [
    "from qiskit_ibm_provider import least_busy\n",
    "\n",
    "small_devices = provider.backends(simulator=False, operational=True)\n",
    "backend = least_busy(small_devices)\n",
    "print(backend)"
   ]
  },
  {
   "cell_type": "code",
   "execution_count": 20,
   "metadata": {},
   "outputs": [
    {
     "data": {
      "text/html": [
       "<pre>&lt;qiskit.providers.models.backendstatus.BackendStatus object at 0x1662eef90&gt;</pre><b>name</b>: ibm_wellington<br/><b>version</b>: , <b>pending jobs</b>: 0<br/><b>status</b>: active<br/>"
      ],
      "text/plain": [
       "<qiskit.providers.models.backendstatus.BackendStatus at 0x1662eef90>"
      ]
     },
     "execution_count": 20,
     "metadata": {},
     "output_type": "execute_result"
    }
   ],
   "source": [
    "backend.status()"
   ]
  },
  {
   "cell_type": "code",
   "execution_count": 24,
   "metadata": {},
   "outputs": [
    {
     "name": "stdout",
     "output_type": "stream",
     "text": [
      "{'backend_name': 'ibm_wellington', 'backend_version': '', 'operational': True, 'pending_jobs': 0, 'status_msg': 'active'}\n",
      "{'backend_name': 'ibmq_kolkata', 'backend_version': '', 'operational': True, 'pending_jobs': 561, 'status_msg': 'active'}\n",
      "{'backend_name': 'ibmq_mumbai', 'backend_version': '', 'operational': True, 'pending_jobs': 577, 'status_msg': 'active'}\n",
      "{'backend_name': 'ibmq_quito', 'backend_version': '', 'operational': True, 'pending_jobs': 20, 'status_msg': 'active'}\n",
      "{'backend_name': 'ibmq_lima', 'backend_version': '', 'operational': True, 'pending_jobs': 142, 'status_msg': 'active'}\n",
      "{'backend_name': 'ibmq_manila', 'backend_version': '', 'operational': True, 'pending_jobs': 1373, 'status_msg': 'active'}\n",
      "{'backend_name': 'ibm_nairobi', 'backend_version': '', 'operational': True, 'pending_jobs': 30, 'status_msg': 'active'}\n",
      "{'backend_name': 'ibm_lagos', 'backend_version': '', 'operational': True, 'pending_jobs': 1497, 'status_msg': 'active'}\n",
      "{'backend_name': 'ibmq_jakarta', 'backend_version': '', 'operational': True, 'pending_jobs': 1220, 'status_msg': 'active'}\n",
      "{'backend_name': 'ibmq_belem', 'backend_version': '', 'operational': True, 'pending_jobs': 65, 'status_msg': 'active'}\n",
      "{'backend_name': 'ibm_perth', 'backend_version': '', 'operational': True, 'pending_jobs': 100, 'status_msg': 'active'}\n"
     ]
    }
   ],
   "source": [
    "for backend in provider.backends(simulator=False, operational=True):\n",
    "    print(backend.status().to_dict())"
   ]
  },
  {
   "cell_type": "code",
   "execution_count": null,
   "metadata": {},
   "outputs": [],
   "source": []
  }
 ],
 "metadata": {
  "kernelspec": {
   "display_name": "Python 3 (ipykernel)",
   "language": "python",
   "name": "python3"
  },
  "language_info": {
   "codemirror_mode": {
    "name": "ipython",
    "version": 3
   },
   "file_extension": ".py",
   "mimetype": "text/x-python",
   "name": "python",
   "nbconvert_exporter": "python",
   "pygments_lexer": "ipython3",
   "version": "3.11.4"
  }
 },
 "nbformat": 4,
 "nbformat_minor": 4
}
