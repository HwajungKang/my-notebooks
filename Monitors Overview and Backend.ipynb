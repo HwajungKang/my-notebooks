{
 "cells": [
  {
   "cell_type": "code",
   "execution_count": 1,
   "metadata": {},
   "outputs": [],
   "source": [
    "from qiskit import *\n",
    "IBMQ.load_accounts(hub=None)"
   ]
  },
  {
   "cell_type": "code",
   "execution_count": 2,
   "metadata": {},
   "outputs": [],
   "source": [
    "from qiskit.tools.jupyter import *"
   ]
  },
  {
   "cell_type": "code",
   "execution_count": 3,
   "metadata": {},
   "outputs": [
    {
     "data": {
      "application/vnd.jupyter.widget-view+json": {
       "model_id": "58d4217a5b3f4fccb72c717458635f9f",
       "version_major": 2,
       "version_minor": 0
      },
      "text/plain": [
       "VBox(children=(HTML(value=\"<h2 style ='color:#ffffff; background-color:#000000;padding-top: 1%; padding-bottom…"
      ]
     },
     "metadata": {},
     "output_type": "display_data"
    }
   ],
   "source": [
    "%qiskit_backend_overview"
   ]
  },
  {
   "cell_type": "code",
   "execution_count": 4,
   "metadata": {},
   "outputs": [],
   "source": [
    "from qiskit.tools.monitor import job_monitor, backend_monitor, backend_overview"
   ]
  },
  {
   "cell_type": "code",
   "execution_count": 5,
   "metadata": {},
   "outputs": [
    {
     "name": "stdout",
     "output_type": "stream",
     "text": [
      "ibmq_16_melbourne           ibmqx2                       ibmqx4\n",
      "-----------------           ------                       ------\n",
      "Num. Qubits:  14            Num. Qubits:  5              Num. Qubits:  5\n",
      "Pending Jobs: 0             Pending Jobs: 54             Pending Jobs: 51\n",
      "Least busy:   True          Least busy:   False          Least busy:   False\n",
      "Operational:  True          Operational:  True           Operational:  True\n",
      "Avg. T1:      63.9          Avg. T1:      58.1           Avg. T1:      45.1\n",
      "Avg. T2:      84.1          Avg. T2:      46.8           Avg. T2:      27.9\n",
      "\n",
      "\n",
      "\n"
     ]
    }
   ],
   "source": [
    "backend_overview()"
   ]
  },
  {
   "cell_type": "code",
   "execution_count": 6,
   "metadata": {},
   "outputs": [
    {
     "data": {
      "text/plain": [
       "'ibmq_16_melbourne'"
      ]
     },
     "execution_count": 6,
     "metadata": {},
     "output_type": "execute_result"
    }
   ],
   "source": [
    "from qiskit.providers.ibmq import least_busy\n",
    "backend = least_busy(IBMQ.backends(filters=lambda x: not x.configuration().simulator))\n",
    "backend.name()"
   ]
  },
  {
   "cell_type": "code",
   "execution_count": 7,
   "metadata": {},
   "outputs": [
    {
     "name": "stdout",
     "output_type": "stream",
     "text": [
      "ibmq_16_melbourne\n",
      "=================\n",
      "Configuration\n",
      "-------------\n",
      "    n_qubits: 14\n",
      "    operational: True\n",
      "    status_msg: active\n",
      "    pending_jobs: 0\n",
      "    basis_gates: ['u1', 'u2', 'u3', 'cx', 'id']\n",
      "    local: False\n",
      "    simulator: False\n",
      "    open_pulse: False\n",
      "    allow_q_object: True\n",
      "    n_registers: 1\n",
      "    max_experiments: 75\n",
      "    max_shots: 8192\n",
      "    memory: False\n",
      "    credits_required: True\n",
      "    url: None\n",
      "    backend_name: ibmq_16_melbourne\n",
      "    backend_version: 1.0.0\n",
      "    conditional: False\n",
      "    online_date: 2018-11-06T05:00:00+00:00\n",
      "    description: 14 qubit device\n",
      "    sample_name: albatross\n",
      "    coupling_map: [[1, 0], [1, 2], [2, 3], [4, 3], [4, 10], [5, 4], [5, 6], [5, 9], [6, 8], [7, 8], [9, 8], [9, 10], [11, 3], [11, 10], [11, 12], [12, 2], [13, 1], [13, 12]]\n",
      "\n",
      "Qubits [Name / Freq / T1 / T2 / U1 err / U2 err / U3 err / Readout err]\n",
      "-----------------------------------------------------------------------\n",
      "    Q0 / 5.10016 GHz / 51.25849 µs / 18.68869 µs / 0.0 / 0.00197 / 0.00395 / 0.0759\n",
      "    Q1 / 5.23854 GHz / 44.08171 µs / 114.84958 µs / 0.0 / 0.01156 / 0.02313 / 0.1028\n",
      "    Q2 / 5.03291 GHz / 62.08602 µs / 129.90488 µs / 0.0 / 0.00832 / 0.01665 / 0.1228\n",
      "    Q3 / 4.89619 GHz / 83.05469 µs / 58.88674 µs / 0.0 / 0.00176 / 0.00351 / 0.2103\n",
      "    Q4 / 5.02642 GHz / 56.88472 µs / 37.0941 µs / 0.0 / 0.00225 / 0.00451 / 0.0344\n",
      "    Q5 / 5.06731 GHz / 25.2468 µs / 47.43502 µs / 0.0 / 0.00247 / 0.00493 / 0.0482\n",
      "    Q6 / 4.92386 GHz / 77.7397 µs / 60.63018 µs / 0.0 / 0.00131 / 0.00263 / 0.0315\n",
      "    Q7 / 4.97448 GHz / 46.55666 µs / 86.92135 µs / 0.0 / 0.00191 / 0.00382 / 0.0633\n",
      "    Q8 / 4.73779 GHz / 165.18732 µs / 227.47619 µs / 0.0 / 0.00163 / 0.00327 / 0.0619\n",
      "    Q9 / 4.96345 GHz / 36.99305 µs / 62.68558 µs / 0.0 / 0.00291 / 0.00582 / 0.0274\n",
      "    Q10 / 4.94505 GHz / 58.17428 µs / 58.60043 µs / 0.0 / 0.00283 / 0.00566 / 0.0364\n",
      "    Q11 / 5.00511 GHz / 69.75992 µs / 84.24489 µs / 0.0 / 0.00216 / 0.00431 / 0.3875\n",
      "    Q12 / 4.76007 GHz / 92.86677 µs / 148.08703 µs / 0.0 / 0.00331 / 0.00661 / 0.0666\n",
      "    Q13 / 4.96846 GHz / 24.11675 µs / 41.82753 µs / 0.0 / 0.0062 / 0.01239 / 0.0479\n",
      "\n",
      "Multi-Qubit Gates [Name / Type / Gate Error]\n",
      "--------------------------------------------\n",
      "    CX1_0 / cx / 0.05962\n",
      "    CX1_2 / cx / 0.02759\n",
      "    CX2_3 / cx / 0.06203\n",
      "    CX4_3 / cx / 0.03148\n",
      "    CX4_10 / cx / 0.03788\n",
      "    CX5_4 / cx / 0.04383\n",
      "    CX5_6 / cx / 0.09289\n",
      "    CX5_9 / cx / 0.04672\n",
      "    CX6_8 / cx / 0.0309\n",
      "    CX7_8 / cx / 0.0251\n",
      "    CX9_8 / cx / 0.03667\n",
      "    CX9_10 / cx / 0.04228\n",
      "    CX11_3 / cx / 0.03389\n",
      "    CX11_10 / cx / 0.02461\n",
      "    CX11_12 / cx / 0.03473\n",
      "    CX12_2 / cx / 0.12\n",
      "    CX13_1 / cx / 0.14364\n",
      "    CX13_12 / cx / 0.03493\n"
     ]
    }
   ],
   "source": [
    "backend_monitor(backend)"
   ]
  },
  {
   "cell_type": "code",
   "execution_count": 8,
   "metadata": {},
   "outputs": [
    {
     "data": {
      "application/vnd.jupyter.widget-view+json": {
       "model_id": "6427f53a6b434892a6814269e1bce63e",
       "version_major": 2,
       "version_minor": 0
      },
      "text/plain": [
       "VBox(children=(HTML(value=\"<h1 style='color:#ffffff;background-color:#000000;padding-top: 1%;padding-bottom: 1…"
      ]
     },
     "metadata": {},
     "output_type": "display_data"
    }
   ],
   "source": [
    "%qiskit_backend_monitor backend\n"
   ]
  },
  {
   "cell_type": "markdown",
   "metadata": {},
   "source": [
    "# ADD JOB"
   ]
  },
  {
   "cell_type": "code",
   "execution_count": null,
   "metadata": {},
   "outputs": [],
   "source": []
  }
 ],
 "metadata": {
  "kernelspec": {
   "display_name": "Python 3",
   "language": "python",
   "name": "python3"
  },
  "language_info": {
   "codemirror_mode": {
    "name": "ipython",
    "version": 3
   },
   "file_extension": ".py",
   "mimetype": "text/x-python",
   "name": "python",
   "nbconvert_exporter": "python",
   "pygments_lexer": "ipython3",
   "version": "3.7.1"
  }
 },
 "nbformat": 4,
 "nbformat_minor": 2
}
