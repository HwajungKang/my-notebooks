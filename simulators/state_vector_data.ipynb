{
 "cells": [
  {
   "cell_type": "code",
   "execution_count": 1,
   "metadata": {},
   "outputs": [],
   "source": [
    "from qiskit import *"
   ]
  },
  {
   "cell_type": "code",
   "execution_count": 2,
   "metadata": {},
   "outputs": [
    {
     "data": {
      "text/html": [
       "<pre style=\"word-wrap: normal;white-space: pre;line-height: 15px;\">              ┌─┐               \n",
       "q0_0: |0>──■──┤M├───────────────\n",
       "           │  └╥┘┌─┐            \n",
       "q0_1: |0>──■───╫─┤M├────────────\n",
       "         ┌─┴─┐ ║ └╥┘┌─┐         \n",
       "q0_2: |0>┤ X ├─╫──╫─┤M├─────────\n",
       "         ├───┤ ║  ║ └╥┘┌─┐      \n",
       "q1_0: |0>┤ H ├─╫──╫──╫─┤M├──────\n",
       "         ├───┤ ║  ║  ║ └╥┘┌─┐   \n",
       "q1_1: |0>┤ H ├─╫──╫──╫──╫─┤M├───\n",
       "         ├───┤ ║  ║  ║  ║ └╥┘┌─┐\n",
       "q1_2: |0>┤ H ├─╫──╫──╫──╫──╫─┤M├\n",
       "         └───┘ ║  ║  ║  ║  ║ └╥┘\n",
       " c0_0: 0 ══════╩══╬══╬══╬══╬══╬═\n",
       "                  ║  ║  ║  ║  ║ \n",
       " c0_1: 0 ═════════╩══╬══╬══╬══╬═\n",
       "                     ║  ║  ║  ║ \n",
       " c0_2: 0 ════════════╩══╬══╬══╬═\n",
       "                        ║  ║  ║ \n",
       " c1_0: 0 ═══════════════╩══╬══╬═\n",
       "                           ║  ║ \n",
       " c1_1: 0 ══════════════════╩══╬═\n",
       "                              ║ \n",
       " c1_2: 0 ═════════════════════╩═\n",
       "                                </pre>"
      ],
      "text/plain": [
       "<qiskit.visualization.text.TextDrawing at 0x1275fb588>"
      ]
     },
     "execution_count": 2,
     "metadata": {},
     "output_type": "execute_result"
    }
   ],
   "source": [
    "qr = QuantumRegister(3)\n",
    "cr = ClassicalRegister(3)\n",
    "qr2 = QuantumRegister(3)\n",
    "cr2 = ClassicalRegister(3)\n",
    "circuit = QuantumCircuit(qr, cr, qr2, cr2)\n",
    "circuit.ccx(qr[0], qr[1], qr[2])\n",
    "circuit.h(qr2)\n",
    "circuit.measure(qr, cr)\n",
    "circuit.measure(qr2, cr2)\n",
    "circuit.draw()"
   ]
  },
  {
   "cell_type": "code",
   "execution_count": 3,
   "metadata": {},
   "outputs": [
    {
     "data": {
      "text/html": [
       "<pre style=\"word-wrap: normal;white-space: pre;line-height: 15px;\">              \n",
       "q2_0: |0>──■──\n",
       "           │  \n",
       "q2_1: |0>──■──\n",
       "         ┌─┴─┐\n",
       "q2_2: |0>┤ X ├\n",
       "         ├───┤\n",
       "q3_0: |0>┤ H ├\n",
       "         ├───┤\n",
       "q3_1: |0>┤ H ├\n",
       "         ├───┤\n",
       "q3_2: |0>┤ H ├\n",
       "         └───┘</pre>"
      ],
      "text/plain": [
       "<qiskit.visualization.text.TextDrawing at 0x1268c5dd8>"
      ]
     },
     "execution_count": 3,
     "metadata": {},
     "output_type": "execute_result"
    }
   ],
   "source": [
    "qr = QuantumRegister(3)\n",
    "qr2 = QuantumRegister(3)\n",
    "circuit = QuantumCircuit(qr, qr2)\n",
    "circuit.ccx(qr[0], qr[1], qr[2])\n",
    "circuit.h(qr2)\n",
    "\n",
    "\n",
    "circuit.draw()"
   ]
  },
  {
   "cell_type": "code",
   "execution_count": 4,
   "metadata": {},
   "outputs": [],
   "source": [
    "backend = Aer.get_backend('statevector_simulator')"
   ]
  },
  {
   "cell_type": "code",
   "execution_count": 5,
   "metadata": {},
   "outputs": [],
   "source": [
    "result = execute(circuit, backend, shots=100).result()"
   ]
  },
  {
   "cell_type": "code",
   "execution_count": 6,
   "metadata": {},
   "outputs": [
    {
     "data": {
      "text/plain": [
       "array([0.35+0.j, 0.  +0.j, 0.  +0.j, 0.  +0.j, 0.  +0.j, 0.  +0.j,\n",
       "       0.  +0.j, 0.  +0.j, 0.35+0.j, 0.  +0.j, 0.  +0.j, 0.  +0.j,\n",
       "       0.  +0.j, 0.  +0.j, 0.  +0.j, 0.  +0.j, 0.35+0.j, 0.  +0.j,\n",
       "       0.  +0.j, 0.  +0.j, 0.  +0.j, 0.  +0.j, 0.  +0.j, 0.  +0.j,\n",
       "       0.35+0.j, 0.  +0.j, 0.  +0.j, 0.  +0.j, 0.  +0.j, 0.  +0.j,\n",
       "       0.  +0.j, 0.  +0.j, 0.35+0.j, 0.  +0.j, 0.  +0.j, 0.  +0.j,\n",
       "       0.  +0.j, 0.  +0.j, 0.  +0.j, 0.  +0.j, 0.35+0.j, 0.  +0.j,\n",
       "       0.  +0.j, 0.  +0.j, 0.  +0.j, 0.  +0.j, 0.  +0.j, 0.  +0.j,\n",
       "       0.35+0.j, 0.  +0.j, 0.  +0.j, 0.  +0.j, 0.  +0.j, 0.  +0.j,\n",
       "       0.  +0.j, 0.  +0.j, 0.35+0.j, 0.  +0.j, 0.  +0.j, 0.  +0.j,\n",
       "       0.  +0.j, 0.  +0.j, 0.  +0.j, 0.  +0.j])"
      ]
     },
     "execution_count": 6,
     "metadata": {},
     "output_type": "execute_result"
    }
   ],
   "source": [
    "import numpy as np\n",
    "\n",
    "result.get_statevector(0, 2)"
   ]
  },
  {
   "cell_type": "code",
   "execution_count": 7,
   "metadata": {},
   "outputs": [
    {
     "data": {
      "text/plain": [
       "{'statevector': [[0.35355339059327384, 0.0],\n",
       "  [0.0, 0.0],\n",
       "  [0.0, 0.0],\n",
       "  [0.0, 0.0],\n",
       "  [0.0, 0.0],\n",
       "  [0.0, 0.0],\n",
       "  [0.0, 0.0],\n",
       "  [0.0, 0.0],\n",
       "  [0.3535533905932738, 0.0],\n",
       "  [0.0, 0.0],\n",
       "  [0.0, 0.0],\n",
       "  [0.0, 0.0],\n",
       "  [0.0, 0.0],\n",
       "  [0.0, 0.0],\n",
       "  [0.0, 0.0],\n",
       "  [0.0, 0.0],\n",
       "  [0.3535533905932738, 0.0],\n",
       "  [0.0, 0.0],\n",
       "  [0.0, 0.0],\n",
       "  [0.0, 0.0],\n",
       "  [0.0, 0.0],\n",
       "  [0.0, 0.0],\n",
       "  [0.0, 0.0],\n",
       "  [0.0, 0.0],\n",
       "  [0.35355339059327373, 0.0],\n",
       "  [0.0, 0.0],\n",
       "  [0.0, 0.0],\n",
       "  [0.0, 0.0],\n",
       "  [0.0, 0.0],\n",
       "  [0.0, 0.0],\n",
       "  [0.0, 0.0],\n",
       "  [0.0, 0.0],\n",
       "  [0.3535533905932738, 0.0],\n",
       "  [0.0, 0.0],\n",
       "  [0.0, 0.0],\n",
       "  [0.0, 0.0],\n",
       "  [0.0, 0.0],\n",
       "  [0.0, 0.0],\n",
       "  [0.0, 0.0],\n",
       "  [0.0, 0.0],\n",
       "  [0.35355339059327373, 0.0],\n",
       "  [0.0, 0.0],\n",
       "  [0.0, 0.0],\n",
       "  [0.0, 0.0],\n",
       "  [0.0, 0.0],\n",
       "  [0.0, 0.0],\n",
       "  [0.0, 0.0],\n",
       "  [0.0, 0.0],\n",
       "  [0.35355339059327373, 0.0],\n",
       "  [0.0, 0.0],\n",
       "  [0.0, 0.0],\n",
       "  [0.0, 0.0],\n",
       "  [0.0, 0.0],\n",
       "  [0.0, 0.0],\n",
       "  [0.0, 0.0],\n",
       "  [0.0, 0.0],\n",
       "  [0.3535533905932737, 0.0],\n",
       "  [0.0, 0.0],\n",
       "  [0.0, 0.0],\n",
       "  [0.0, 0.0],\n",
       "  [0.0, 0.0],\n",
       "  [0.0, 0.0],\n",
       "  [0.0, 0.0],\n",
       "  [0.0, 0.0]]}"
      ]
     },
     "execution_count": 7,
     "metadata": {},
     "output_type": "execute_result"
    }
   ],
   "source": [
    "result.data(0)"
   ]
  },
  {
   "cell_type": "code",
   "execution_count": null,
   "metadata": {},
   "outputs": [],
   "source": []
  }
 ],
 "metadata": {
  "kernelspec": {
   "display_name": "Python 3",
   "language": "python",
   "name": "python3"
  },
  "language_info": {
   "codemirror_mode": {
    "name": "ipython",
    "version": 3
   },
   "file_extension": ".py",
   "mimetype": "text/x-python",
   "name": "python",
   "nbconvert_exporter": "python",
   "pygments_lexer": "ipython3",
   "version": "3.7.1"
  }
 },
 "nbformat": 4,
 "nbformat_minor": 2
}
