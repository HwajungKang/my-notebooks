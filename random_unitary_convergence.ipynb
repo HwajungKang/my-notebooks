{
 "cells": [
  {
   "cell_type": "code",
   "execution_count": 1,
   "metadata": {},
   "outputs": [],
   "source": [
    "import numpy as np\n",
    "from qiskit.quantum_info import basis_state, state_fidelity"
   ]
  },
  {
   "cell_type": "code",
   "execution_count": 2,
   "metadata": {},
   "outputs": [],
   "source": [
    "def random_unitary_matrix(d, seed=None):\n",
    "    unitary = np.zeros([d,d], dtype=complex)\n",
    "    for j in range(d):\n",
    "        if j == 0:\n",
    "            a = random_state(d, seed)\n",
    "        else:\n",
    "            a = random_state(d)\n",
    "        unitary[:,j] = np.copy(a)\n",
    "        # Grahm-Schmidt Orthogonalize\n",
    "        i = j-1\n",
    "        while i >= 0:\n",
    "            dc = np.vdot(unitary[:,i],a)\n",
    "            unitary[:,j] = unitary[:,j]-dc*unitary[:,i]\n",
    "            i = i - 1\n",
    "        # normalize\n",
    "        unitary[:,j] = unitary[:,j] / np.sqrt(np.vdot(unitary[:,j],unitary[:,j]));\n",
    "    return unitary"
   ]
  },
  {
   "cell_type": "code",
   "execution_count": 3,
   "metadata": {},
   "outputs": [],
   "source": [
    "def random_state(dim, seed=None):\n",
    "    \"\"\"\n",
    "    Return a random quantum state from the uniform (Haar) measure on\n",
    "    state space.\n",
    "\n",
    "    Args:\n",
    "        dim (int): the dim of the state spaxe\n",
    "        seed (int): Optional. To set a random seed.\n",
    "\n",
    "    Returns:\n",
    "        ndarray:  state(2**num) a random quantum state.\n",
    "    \"\"\"\n",
    "    if seed is not None:\n",
    "        np.random.seed(seed)\n",
    "    # Random array over interval (0, 1]\n",
    "    x = np.random.random(dim)\n",
    "    x += x == 0\n",
    "    x = -np.log(x)\n",
    "    sumx = sum(x)\n",
    "    phases = np.random.random(dim)*2.0*np.pi\n",
    "    return np.sqrt(x/sumx)*np.exp(1j*phases)"
   ]
  },
  {
   "cell_type": "code",
   "execution_count": 4,
   "metadata": {},
   "outputs": [],
   "source": [
    "from scipy.stats import unitary_group"
   ]
  },
  {
   "cell_type": "code",
   "execution_count": 5,
   "metadata": {},
   "outputs": [
    {
     "data": {
      "text/plain": [
       "array([[1.00000000e+00+0.00000000e+00j, 6.24500451e-17+2.77555756e-17j],\n",
       "       [6.24500451e-17-2.77555756e-17j, 1.00000000e+00+0.00000000e+00j]])"
      ]
     },
     "execution_count": 5,
     "metadata": {},
     "output_type": "execute_result"
    }
   ],
   "source": [
    "u2 = unitary_group.rvs(2)\n",
    "np.dot(u2.transpose().conj(),u2)"
   ]
  },
  {
   "cell_type": "code",
   "execution_count": 6,
   "metadata": {},
   "outputs": [
    {
     "name": "stdout",
     "output_type": "stream",
     "text": [
      "44.34613919258118\n",
      "13.115227222442627\n"
     ]
    }
   ],
   "source": [
    "import time\n",
    "\n",
    "d = 8\n",
    "number = 100000\n",
    "E_P0_last = 0\n",
    "E_P02_last = 0\n",
    "E_P0_save=[]\n",
    "E_P02_save=[]\n",
    "state = random_state(d)\n",
    "\n",
    "start = time.time()\n",
    "for ii in range(number):\n",
    "    \n",
    "    u = random_unitary_matrix(d)\n",
    "    E_P0 = (E_P0_last*ii)/(ii+1)+state_fidelity(state, u[:,0])/(ii+1)\n",
    "    E_P0_last = E_P0\n",
    "    E_P0_save.append(E_P0)\n",
    "\n",
    "end = time.time()\n",
    "\n",
    "print(end - start)\n",
    "start = time.time()\n",
    "\n",
    "for ii in range(number):\n",
    "    u2 = unitary_group.rvs(d)\n",
    "    E_P02 = (E_P02_last*ii)/(ii+1)+state_fidelity(state, u2[:,0])/(ii+1)\n",
    "    E_P02_last = E_P02\n",
    "    E_P02_save.append(E_P02)\n",
    "end = time.time()\n",
    "\n",
    "print(end - start)"
   ]
  },
  {
   "cell_type": "code",
   "execution_count": 9,
   "metadata": {},
   "outputs": [
    {
     "data": {
      "image/png": "[encoded data removed]",
      "text/plain": [
       "<Figure size 432x288 with 1 Axes>"
      ]
     },
     "metadata": {
      "needs_background": "light"
     },
     "output_type": "display_data"
    }
   ],
   "source": [
    "import matplotlib.pyplot as plt\n",
    "\n",
    "plt.loglog(E_P0_save)\n",
    "plt.loglog(E_P02_save)\n",
    "plt.show()"
   ]
  },
  {
   "cell_type": "code",
   "execution_count": null,
   "metadata": {},
   "outputs": [],
   "source": []
  }
 ],
 "metadata": {
  "kernelspec": {
   "display_name": "Python 3",
   "language": "python",
   "name": "python3"
  },
  "language_info": {
   "codemirror_mode": {
    "name": "ipython",
    "version": 3
   },
   "file_extension": ".py",
   "mimetype": "text/x-python",
   "name": "python",
   "nbconvert_exporter": "python",
   "pygments_lexer": "ipython3",
   "version": "3.7.1"
  }
 },
 "nbformat": 4,
 "nbformat_minor": 2
}
