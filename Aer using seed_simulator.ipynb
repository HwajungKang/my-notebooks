{
 "cells": [
  {
   "cell_type": "markdown",
   "metadata": {},
   "source": [
    "# This is my notebook for working with AER Seed Simulator"
   ]
  },
  {
   "cell_type": "code",
   "execution_count": 6,
   "metadata": {},
   "outputs": [],
   "source": [
    "from qiskit import QuantumCircuit, Aer, BasicAer, transpile\n",
    "from qiskit.compiler import assemble"
   ]
  },
  {
   "cell_type": "code",
   "execution_count": 7,
   "metadata": {},
   "outputs": [
    {
     "data": {
      "text/html": [
       "<pre style=\"word-wrap: normal;white-space: pre;background: #fff0;line-height: 1.1;font-family: &quot;Courier New&quot;,Courier,monospace\">                   \n",
       "q_0: ──────────────\n",
       "          ┌─┐      \n",
       "q_1: ─────┤M├──────\n",
       "          └╥┘      \n",
       "q_2: ──────╫───────\n",
       "           ║ ┌─┐   \n",
       "q_3: ──────╫─┤M├───\n",
       "     ┌───┐ ║ └╥┘┌─┐\n",
       "q_4: ┤ H ├─╫──╫─┤M├\n",
       "     └───┘ ║  ║ └╥┘\n",
       "c_0: ══════╩══╬══╬═\n",
       "              ║  ║ \n",
       "c_1: ═════════╩══╬═\n",
       "                 ║ \n",
       "c_2: ════════════╩═\n",
       "                   </pre>"
      ],
      "text/plain": [
       "                   \n",
       "q_0: ──────────────\n",
       "          ┌─┐      \n",
       "q_1: ─────┤M├──────\n",
       "          └╥┘      \n",
       "q_2: ──────╫───────\n",
       "           ║ ┌─┐   \n",
       "q_3: ──────╫─┤M├───\n",
       "     ┌───┐ ║ └╥┘┌─┐\n",
       "q_4: ┤ H ├─╫──╫─┤M├\n",
       "     └───┘ ║  ║ └╥┘\n",
       "c_0: ══════╩══╬══╬═\n",
       "              ║  ║ \n",
       "c_1: ═════════╩══╬═\n",
       "                 ║ \n",
       "c_2: ════════════╩═\n",
       "                   "
      ]
     },
     "execution_count": 7,
     "metadata": {},
     "output_type": "execute_result"
    }
   ],
   "source": [
    "my_circuit = QuantumCircuit(5, 3)\n",
    "my_circuit.h(4)\n",
    "my_circuit.measure(1,0)\n",
    "my_circuit.measure(3,1)\n",
    "my_circuit.measure(4,2)\n",
    "\n",
    "my_circuit.draw()"
   ]
  },
  {
   "cell_type": "code",
   "execution_count": 8,
   "metadata": {},
   "outputs": [
    {
     "name": "stdout",
     "output_type": "stream",
     "text": [
      "{'100': 533, '000': 491}\n",
      "{'100': 482, '000': 542}\n",
      "{'100': 515, '000': 509}\n",
      "{'100': 515, '000': 509}\n"
     ]
    }
   ],
   "source": [
    "backend = Aer.get_backend('qasm_simulator')\n",
    "\n",
    "# running without a seed\n",
    "job = backend.run(assemble(my_circuit))\n",
    "counts1 = job.result().get_counts()\n",
    "print(counts1)\n",
    "\n",
    "# showing a second run gives a different output\n",
    "job = backend.run(assemble(my_circuit))\n",
    "counts2 = job.result().get_counts()\n",
    "print(counts2)\n",
    "\n",
    "# setting the seed simulator to a value\n",
    "job = backend.run(assemble(my_circuit, seed_simulator=5))\n",
    "counts3 = job.result().get_counts()\n",
    "print(counts3)\n",
    "\n",
    "# setting the seed simulator to a value and running a second time\n",
    "job = backend.run(assemble(my_circuit, seed_simulator=5))\n",
    "counts4 = job.result().get_counts()\n",
    "print(counts4)"
   ]
  },
  {
   "cell_type": "code",
   "execution_count": 9,
   "metadata": {},
   "outputs": [
    {
     "data": {
      "text/html": [
       "<pre style=\"word-wrap: normal;white-space: pre;background: #fff0;line-height: 1.1;font-family: &quot;Courier New&quot;,Courier,monospace\">                          \n",
       "q_0: ─────────────────────\n",
       "                 ┌─┐      \n",
       "q_1: ────────────┤M├──────\n",
       "                 └╥┘      \n",
       "q_2: ─────────────╫───────\n",
       "                  ║ ┌─┐   \n",
       "q_3: ─────────────╫─┤M├───\n",
       "     ┌──────────┐ ║ └╥┘┌─┐\n",
       "q_4: ┤ U2(0,pi) ├─╫──╫─┤M├\n",
       "     └──────────┘ ║  ║ └╥┘\n",
       "c_0: ═════════════╩══╬══╬═\n",
       "                     ║  ║ \n",
       "c_1: ════════════════╩══╬═\n",
       "                        ║ \n",
       "c_2: ═══════════════════╩═\n",
       "                          </pre>"
      ],
      "text/plain": [
       "                          \n",
       "q_0: ─────────────────────\n",
       "                 ┌─┐      \n",
       "q_1: ────────────┤M├──────\n",
       "                 └╥┘      \n",
       "q_2: ─────────────╫───────\n",
       "                  ║ ┌─┐   \n",
       "q_3: ─────────────╫─┤M├───\n",
       "     ┌──────────┐ ║ └╥┘┌─┐\n",
       "q_4: ┤ U2(0,pi) ├─╫──╫─┤M├\n",
       "     └──────────┘ ║  ║ └╥┘\n",
       "c_0: ═════════════╩══╬══╬═\n",
       "                     ║  ║ \n",
       "c_1: ════════════════╩══╬═\n",
       "                        ║ \n",
       "c_2: ═══════════════════╩═\n",
       "                          "
      ]
     },
     "execution_count": 9,
     "metadata": {},
     "output_type": "execute_result"
    }
   ],
   "source": [
    "backend = BasicAer.get_backend('qasm_simulator')\n",
    "new_circuit = transpile(my_circuit, backend)\n",
    "new_circuit.draw()"
   ]
  },
  {
   "cell_type": "code",
   "execution_count": 10,
   "metadata": {},
   "outputs": [
    {
     "name": "stdout",
     "output_type": "stream",
     "text": [
      "{'100': 510, '000': 514}\n"
     ]
    }
   ],
   "source": [
    "job = backend.run(assemble(new_circuit, seed_simulator=5))\n",
    "counts5 = job.result().get_counts()\n",
    "print(counts5)"
   ]
  },
  {
   "cell_type": "markdown",
   "metadata": {},
   "source": [
    "Questions  and updates\n",
    "1. Move assemble when backend supports taking in a circuit\n",
    "2. add to the basicaer the H gate and all standard gates\n",
    "3. work out how to make it take the same see. This might be hard since one is python and the other is c++\n",
    "4. thinking about removing transpile and use the pass manager"
   ]
  },
  {
   "cell_type": "code",
   "execution_count": null,
   "metadata": {},
   "outputs": [],
   "source": []
  }
 ],
 "metadata": {
  "kernelspec": {
   "display_name": "Python 3",
   "language": "python",
   "name": "python3"
  },
  "language_info": {
   "codemirror_mode": {
    "name": "ipython",
    "version": 3
   },
   "file_extension": ".py",
   "mimetype": "text/x-python",
   "name": "python",
   "nbconvert_exporter": "python",
   "pygments_lexer": "ipython3",
   "version": "3.8.2"
  }
 },
 "nbformat": 4,
 "nbformat_minor": 2
}
