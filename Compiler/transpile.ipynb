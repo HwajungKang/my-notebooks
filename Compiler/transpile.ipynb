{
 "cells": [
  {
   "cell_type": "code",
   "execution_count": 4,
   "metadata": {},
   "outputs": [],
   "source": [
    "from qiskit import QuantumCircuit, transpile, Aer"
   ]
  },
  {
   "cell_type": "code",
   "execution_count": 8,
   "metadata": {},
   "outputs": [
    {
     "data": {
      "text/html": [
       "<pre style=\"word-wrap: normal;white-space: pre;background: #fff0;line-height: 1.1;font-family: &quot;Courier New&quot;,Courier,monospace\">          ┌─┐      \n",
       "q_0: ──■──┤M├──────\n",
       "       │  └╥┘┌─┐   \n",
       "q_1: ──■───╫─┤M├───\n",
       "     ┌─┴─┐ ║ └╥┘┌─┐\n",
       "q_2: ┤ X ├─╫──╫─┤M├\n",
       "     └───┘ ║  ║ └╥┘\n",
       "c_0: ══════╩══╬══╬═\n",
       "              ║  ║ \n",
       "c_1: ═════════╩══╬═\n",
       "                 ║ \n",
       "c_2: ════════════╩═\n",
       "                   </pre>"
      ],
      "text/plain": [
       "          ┌─┐      \n",
       "q_0: ──■──┤M├──────\n",
       "       │  └╥┘┌─┐   \n",
       "q_1: ──■───╫─┤M├───\n",
       "     ┌─┴─┐ ║ └╥┘┌─┐\n",
       "q_2: ┤ X ├─╫──╫─┤M├\n",
       "     └───┘ ║  ║ └╥┘\n",
       "c_0: ══════╩══╬══╬═\n",
       "              ║  ║ \n",
       "c_1: ═════════╩══╬═\n",
       "                 ║ \n",
       "c_2: ════════════╩═\n",
       "                   "
      ]
     },
     "execution_count": 8,
     "metadata": {},
     "output_type": "execute_result"
    }
   ],
   "source": [
    "circuit = QuantumCircuit(3, 3)\n",
    "circuit.ccx(0,1,2)\n",
    "circuit.measure([0,1, 2], [0,1, 2])\n",
    "circuit.draw()"
   ]
  },
  {
   "cell_type": "code",
   "execution_count": 9,
   "metadata": {},
   "outputs": [],
   "source": [
    "backend = Aer.get_backend('qasm_simulator')"
   ]
  },
  {
   "cell_type": "code",
   "execution_count": 10,
   "metadata": {},
   "outputs": [
    {
     "data": {
      "text/html": [
       "<pre style=\"word-wrap: normal;white-space: pre;background: #fff0;line-height: 1.1;font-family: &quot;Courier New&quot;,Courier,monospace\">          ┌─┐      \n",
       "q_0: ──■──┤M├──────\n",
       "       │  └╥┘┌─┐   \n",
       "q_1: ──■───╫─┤M├───\n",
       "     ┌─┴─┐ ║ └╥┘┌─┐\n",
       "q_2: ┤ X ├─╫──╫─┤M├\n",
       "     └───┘ ║  ║ └╥┘\n",
       "c_0: ══════╩══╬══╬═\n",
       "              ║  ║ \n",
       "c_1: ═════════╩══╬═\n",
       "                 ║ \n",
       "c_2: ════════════╩═\n",
       "                   </pre>"
      ],
      "text/plain": [
       "          ┌─┐      \n",
       "q_0: ──■──┤M├──────\n",
       "       │  └╥┘┌─┐   \n",
       "q_1: ──■───╫─┤M├───\n",
       "     ┌─┴─┐ ║ └╥┘┌─┐\n",
       "q_2: ┤ X ├─╫──╫─┤M├\n",
       "     └───┘ ║  ║ └╥┘\n",
       "c_0: ══════╩══╬══╬═\n",
       "              ║  ║ \n",
       "c_1: ═════════╩══╬═\n",
       "                 ║ \n",
       "c_2: ════════════╩═\n",
       "                   "
      ]
     },
     "execution_count": 10,
     "metadata": {},
     "output_type": "execute_result"
    }
   ],
   "source": [
    "circuit_out = transpile(circuit, backend)\n",
    "circuit_out.draw()"
   ]
  },
  {
   "cell_type": "code",
   "execution_count": 14,
   "metadata": {},
   "outputs": [],
   "source": [
    "from qiskit.assembler import assemble_circuits\n",
    "from qiskit.assembler.run_config import RunConfig\n",
    "\n",
    "\n",
    "run_config= RunConfig(**{ 'shots': 10024})\n",
    "qobj = assemble_circuits([circuit_out], qobj_id='jay', qobj_header={}, run_config=run_config)"
   ]
  },
  {
   "cell_type": "code",
   "execution_count": 15,
   "metadata": {},
   "outputs": [
    {
     "name": "stdout",
     "output_type": "stream",
     "text": [
      "{'000': 10024}\n"
     ]
    }
   ],
   "source": [
    "job = backend.run(qobj)\n",
    "counts = job.result().get_counts()\n",
    "print(counts)"
   ]
  },
  {
   "cell_type": "code",
   "execution_count": null,
   "metadata": {},
   "outputs": [],
   "source": []
  }
 ],
 "metadata": {
  "kernelspec": {
   "display_name": "Python 3",
   "language": "python",
   "name": "python3"
  },
  "language_info": {
   "codemirror_mode": {
    "name": "ipython",
    "version": 3
   },
   "file_extension": ".py",
   "mimetype": "text/x-python",
   "name": "python",
   "nbconvert_exporter": "python",
   "pygments_lexer": "ipython3",
   "version": "3.8.2"
  }
 },
 "nbformat": 4,
 "nbformat_minor": 2
}
