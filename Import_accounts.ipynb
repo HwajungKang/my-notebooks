{
 "cells": [
  {
   "cell_type": "markdown",
   "metadata": {},
   "source": [
    "This is my notebook loading my accounts"
   ]
  },
  {
   "cell_type": "code",
   "execution_count": 1,
   "metadata": {},
   "outputs": [
    {
     "data": {
      "text/plain": [
       "[]"
      ]
     },
     "execution_count": 1,
     "metadata": {},
     "output_type": "execute_result"
    }
   ],
   "source": [
    "from qiskit import IBMQ \n",
    "\n",
    "IBMQ.backends()"
   ]
  },
  {
   "cell_type": "code",
   "execution_count": 2,
   "metadata": {},
   "outputs": [
    {
     "data": {
      "text/plain": [
       "[]"
      ]
     },
     "execution_count": 2,
     "metadata": {},
     "output_type": "execute_result"
    }
   ],
   "source": [
    "IBMQ.delete_accounts()\n",
    "IBMQ.stored_accounts()"
   ]
  },
  {
   "cell_type": "code",
   "execution_count": 3,
   "metadata": {},
   "outputs": [],
   "source": [
    "import Qconfig_IBMQ_network\n",
    "import Qconfig_IBMQ_experience\n",
    "import Qconfig_IBMQ_network_dev\n",
    "import Qconfig_IBMQ_experience_staging"
   ]
  },
  {
   "cell_type": "code",
   "execution_count": 4,
   "metadata": {},
   "outputs": [
    {
     "data": {
      "text/plain": [
       "[{'token': 'a569748b77a4c2cf380e8aa6388b6b461550b0ec7e43f27cc713eecf789aed2a9a2e375dfdadc4d8df5deb86aceab651cbc29fb87182b2b2f5876536b63a4553',\n",
       "  'url': 'https://quantumexperience.ng.bluemix.net/api'},\n",
       " {'token': 'a569748b77a4c2cf380e8aa6388b6b461550b0ec7e43f27cc713eecf789aed2a9a2e375dfdadc4d8df5deb86aceab651cbc29fb87182b2b2f5876536b63a4553',\n",
       "  'url': 'https://q-console-api.mybluemix.net/api/Hubs/ibm-q-internal/Groups/yrk/Projects/main'},\n",
       " {'token': 'a569748b77a4c2cf380e8aa6388b6b461550b0ec7e43f27cc713eecf789aed2a9a2e375dfdadc4d8df5deb86aceab651cbc29fb87182b2b2f5876536b63a4553',\n",
       "  'url': 'https://q-console-api.mybluemix.net/api/Hubs/ibm-q-perf/Groups/performance/Projects/main'}]"
      ]
     },
     "execution_count": 4,
     "metadata": {},
     "output_type": "execute_result"
    }
   ],
   "source": [
    "IBMQ.save_account(Qconfig_IBMQ_experience.APItoken)\n",
    "IBMQ.save_account(Qconfig_IBMQ_network.APItoken, Qconfig_IBMQ_network.url)\n",
    "#IBMQ.save_account(Qconfig_IBMQ_experience_staging.APItoken, Qconfig_IBMQ_experience_staging.url)\n",
    "IBMQ.save_account(Qconfig_IBMQ_network_dev.APItoken, Qconfig_IBMQ_network_dev.url)\n",
    "IBMQ.stored_accounts()"
   ]
  },
  {
   "cell_type": "code",
   "execution_count": 5,
   "metadata": {},
   "outputs": [
    {
     "data": {
      "text/plain": [
       "[<IBMQBackend('ibmqx4') from IBMQ()>,\n",
       " <IBMQBackend('ibmqx2') from IBMQ()>,\n",
       " <IBMQBackend('ibmq_16_melbourne') from IBMQ()>,\n",
       " <IBMQSimulator('ibmq_qasm_simulator') from IBMQ()>,\n",
       " <IBMQBackend('ibmq_20_tokyo') from IBMQ(ibm-q-internal, yrk, main)>,\n",
       " <IBMQBackend('ibmq_poughkeepsie') from IBMQ(ibm-q-internal, yrk, main)>,\n",
       " <IBMQSimulator('ibmq_qasm_simulator') from IBMQ(ibm-q-internal, yrk, main)>,\n",
       " <IBMQBackend('ibmq_20_tokyo') from IBMQ(ibm-q-perf, performance, main)>,\n",
       " <IBMQBackend('Bludger') from IBMQ(ibm-q-perf, performance, main)>,\n",
       " <IBMQBackend('Fluffy') from IBMQ(ibm-q-perf, performance, main)>,\n",
       " <IBMQBackend('Hedwig') from IBMQ(ibm-q-perf, performance, main)>,\n",
       " <IBMQBackend('ibmq_poughkeepsie') from IBMQ(ibm-q-perf, performance, main)>,\n",
       " <IBMQBackend('ibmq_qcaas') from IBMQ(ibm-q-perf, performance, main)>,\n",
       " <IBMQSimulator('ibmq_qasm_simulator') from IBMQ(ibm-q-perf, performance, main)>]"
      ]
     },
     "execution_count": 5,
     "metadata": {},
     "output_type": "execute_result"
    }
   ],
   "source": [
    "IBMQ.load_accounts()\n",
    "IBMQ.backends()"
   ]
  },
  {
   "cell_type": "code",
   "execution_count": 6,
   "metadata": {},
   "outputs": [
    {
     "data": {
      "text/plain": [
       "[{'token': 'a569748b77a4c2cf380e8aa6388b6b461550b0ec7e43f27cc713eecf789aed2a9a2e375dfdadc4d8df5deb86aceab651cbc29fb87182b2b2f5876536b63a4553',\n",
       "  'url': 'https://quantumexperience.ng.bluemix.net/api'},\n",
       " {'token': 'a569748b77a4c2cf380e8aa6388b6b461550b0ec7e43f27cc713eecf789aed2a9a2e375dfdadc4d8df5deb86aceab651cbc29fb87182b2b2f5876536b63a4553',\n",
       "  'url': 'https://q-console-api.mybluemix.net/api/Hubs/ibm-q-internal/Groups/yrk/Projects/main'},\n",
       " {'token': 'a569748b77a4c2cf380e8aa6388b6b461550b0ec7e43f27cc713eecf789aed2a9a2e375dfdadc4d8df5deb86aceab651cbc29fb87182b2b2f5876536b63a4553',\n",
       "  'url': 'https://q-console-api.mybluemix.net/api/Hubs/ibm-q-perf/Groups/performance/Projects/main'}]"
      ]
     },
     "execution_count": 6,
     "metadata": {},
     "output_type": "execute_result"
    }
   ],
   "source": [
    "IBMQ.active_accounts()"
   ]
  },
  {
   "cell_type": "code",
   "execution_count": null,
   "metadata": {},
   "outputs": [],
   "source": []
  },
  {
   "cell_type": "code",
   "execution_count": null,
   "metadata": {},
   "outputs": [],
   "source": []
  }
 ],
 "metadata": {
  "kernelspec": {
   "display_name": "Python 3",
   "language": "python",
   "name": "python3"
  },
  "language_info": {
   "codemirror_mode": {
    "name": "ipython",
    "version": 3
   },
   "file_extension": ".py",
   "mimetype": "text/x-python",
   "name": "python",
   "nbconvert_exporter": "python",
   "pygments_lexer": "ipython3",
   "version": "3.7.1"
  }
 },
 "nbformat": 4,
 "nbformat_minor": 2
}
