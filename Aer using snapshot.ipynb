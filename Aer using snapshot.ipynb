{
 "cells": [
  {
   "cell_type": "markdown",
   "metadata": {},
   "source": [
    "# This is my notebook for working with AER Snapshots"
   ]
  },
  {
   "cell_type": "code",
   "execution_count": 1,
   "metadata": {},
   "outputs": [],
   "source": [
    "from qiskit import QuantumCircuit, Aer, BasicAer, transpile\n",
    "from qiskit.compiler import assemble"
   ]
  },
  {
   "cell_type": "code",
   "execution_count": 2,
   "metadata": {
    "scrolled": true
   },
   "outputs": [
    {
     "data": {
      "image/png": "[encoded data removed]",
      "text/plain": [
       "<Figure size 479.192x204.68 with 1 Axes>"
      ]
     },
     "execution_count": 2,
     "metadata": {},
     "output_type": "execute_result"
    }
   ],
   "source": [
    "import qiskit.extensions.simulator\n",
    "\n",
    "circuit = qiskit.QuantumCircuit(2, 2)\n",
    "circuit.h(0)\n",
    "circuit.cx(0,1)\n",
    "circuit.snapshot('test')\n",
    "circuit.cx(0,1)\n",
    "circuit.h(1)\n",
    "\n",
    "circuit.draw(output='mpl')"
   ]
  },
  {
   "cell_type": "code",
   "execution_count": 3,
   "metadata": {},
   "outputs": [
    {
     "data": {
      "text/html": [
       "<pre style=\"word-wrap: normal;white-space: pre;background: #fff0;line-height: 1.1;font-family: &quot;Courier New&quot;,Courier,monospace\">     ┌───┐     ┌───────┐          \n",
       "q_0: ┤ H ├──■──┤0      ├──■───────\n",
       "     └───┘┌─┴─┐│  test │┌─┴─┐┌───┐\n",
       "q_1: ─────┤ X ├┤1      ├┤ X ├┤ H ├\n",
       "          └───┘└───────┘└───┘└───┘\n",
       "c_0: ═════════════════════════════\n",
       "                                  \n",
       "c_1: ═════════════════════════════\n",
       "                                  </pre>"
      ],
      "text/plain": [
       "     ┌───┐     ┌───────┐          \n",
       "q_0: ┤ H ├──■──┤0      ├──■───────\n",
       "     └───┘┌─┴─┐│  test │┌─┴─┐┌───┐\n",
       "q_1: ─────┤ X ├┤1      ├┤ X ├┤ H ├\n",
       "          └───┘└───────┘└───┘└───┘\n",
       "c_0: ═════════════════════════════\n",
       "                                  \n",
       "c_1: ═════════════════════════════\n",
       "                                  "
      ]
     },
     "execution_count": 3,
     "metadata": {},
     "output_type": "execute_result"
    }
   ],
   "source": [
    "circuit.draw()"
   ]
  },
  {
   "cell_type": "code",
   "execution_count": 4,
   "metadata": {},
   "outputs": [],
   "source": [
    "sim = Aer.get_backend('statevector_simulator')"
   ]
  },
  {
   "cell_type": "code",
   "execution_count": 5,
   "metadata": {},
   "outputs": [
    {
     "data": {
      "text/plain": [
       "{'snapshots': {'statevector': {'test': [[(0.7071067811865476+0j),\n",
       "     0j,\n",
       "     0j,\n",
       "     (0.7071067811865475+0j)]]}},\n",
       " 'statevector': [[0.5000000000000001, 0.0],\n",
       "  [0.5, 0.0],\n",
       "  [0.5, 0.0],\n",
       "  [0.4999999999999999, 0.0]],\n",
       " 'counts': {'0x0': 1}}"
      ]
     },
     "execution_count": 5,
     "metadata": {},
     "output_type": "execute_result"
    }
   ],
   "source": [
    "sim.run(assemble(circuit)).result().data(0)"
   ]
  },
  {
   "cell_type": "markdown",
   "metadata": {},
   "source": [
    "Questions \n",
    "1. I need to think about how better to use a snapshot. I am not convinced we need a snapshot gate\n",
    "2. we need to draw them better in a circuit. "
   ]
  },
  {
   "cell_type": "code",
   "execution_count": null,
   "metadata": {},
   "outputs": [],
   "source": []
  }
 ],
 "metadata": {
  "kernelspec": {
   "display_name": "Python 3",
   "language": "python",
   "name": "python3"
  },
  "language_info": {
   "codemirror_mode": {
    "name": "ipython",
    "version": 3
   },
   "file_extension": ".py",
   "mimetype": "text/x-python",
   "name": "python",
   "nbconvert_exporter": "python",
   "pygments_lexer": "ipython3",
   "version": "3.8.2"
  }
 },
 "nbformat": 4,
 "nbformat_minor": 2
}
