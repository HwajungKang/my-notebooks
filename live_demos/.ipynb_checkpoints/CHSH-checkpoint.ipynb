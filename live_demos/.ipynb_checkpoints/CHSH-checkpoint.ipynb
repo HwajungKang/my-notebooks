{
 "cells": [
  {
   "cell_type": "code",
   "execution_count": 1,
   "id": "0515c3c2-0e4a-4d02-af0a-dbbffc3993c8",
   "metadata": {
    "tags": []
   },
   "outputs": [],
   "source": [
    "#-------------------------------\n",
    "# Step 0. Setting up the imports\n",
    "#-------------------------------\n",
    "import numpy as np\n",
    "\n",
    "# Import Qiskit packages\n",
    "from qiskit_ibm_runtime import QiskitRuntimeService, Estimator, Options\n",
    "\n",
    "# Loading your IBM Quantum account(s)\n",
    "service = QiskitRuntimeService(channel=\"ibm_quantum\", instance=\"executive/internal/main\")\n",
    "\n",
    "# Define backend\n",
    "use_real = True\n",
    "\n",
    "if use_real:\n",
    "    backend = service.backend('ibmq_kolkata')\n",
    "else:\n",
    "    backend = service.backend('ibmq_qasm_simulator')"
   ]
  },
  {
   "cell_type": "code",
   "execution_count": 2,
   "id": "ed709e1b-bf03-4795-94d5-4ad44e5c04c4",
   "metadata": {
    "tags": []
   },
   "outputs": [
    {
     "ename": "NameError",
     "evalue": "name 'QuantumCircuit' is not defined",
     "output_type": "error",
     "traceback": [
      "\u001b[0;31m---------------------------------------------------------------------------\u001b[0m",
      "\u001b[0;31mNameError\u001b[0m                                 Traceback (most recent call last)",
      "Cell \u001b[0;32mIn[2], line 8\u001b[0m\n\u001b[1;32m      5\u001b[0m \u001b[38;5;28;01mfrom\u001b[39;00m \u001b[38;5;21;01mqiskit\u001b[39;00m\u001b[38;5;21;01m.\u001b[39;00m\u001b[38;5;21;01mcircuit\u001b[39;00m \u001b[38;5;28;01mimport\u001b[39;00m Parameter\n\u001b[1;32m      7\u001b[0m th \u001b[38;5;241m=\u001b[39m Parameter(\u001b[38;5;124m'\u001b[39m\u001b[38;5;124mth\u001b[39m\u001b[38;5;124m'\u001b[39m)\n\u001b[0;32m----> 8\u001b[0m chsh_circuits \u001b[38;5;241m=\u001b[39m \u001b[43mQuantumCircuit\u001b[49m(\u001b[38;5;241m2\u001b[39m)\n\u001b[1;32m      9\u001b[0m chsh_circuits\u001b[38;5;241m.\u001b[39mh(\u001b[38;5;241m0\u001b[39m)\n\u001b[1;32m     10\u001b[0m chsh_circuits\u001b[38;5;241m.\u001b[39mcx(\u001b[38;5;241m0\u001b[39m, \u001b[38;5;241m1\u001b[39m)\n",
      "\u001b[0;31mNameError\u001b[0m: name 'QuantumCircuit' is not defined"
     ]
    }
   ],
   "source": [
    "#---------------------------\n",
    "# Step 1. circuit selection \n",
    "#---------------------------\n",
    "from qiskit import QuantumCircuit\n",
    "from qiskit.circuit import Parameter\n",
    "\n",
    "th = Parameter('th')\n",
    "chsh_circuits = QuantumCircuit(2)\n",
    "chsh_circuits.h(0)\n",
    "chsh_circuits.cx(0, 1)\n",
    "chsh_circuits.ry(parameter, 0)\n",
    "\n",
    "chsh_circuits.draw('mpl')"
   ]
  },
  {
   "cell_type": "code",
   "execution_count": null,
   "id": "2cf6ec0d-8b2b-4fa1-9042-e54393e3007a",
   "metadata": {},
   "outputs": [],
   "source": [
    "#------------------------------\n",
    "# Step 2. Problem specification\n",
    "#------------------------------\n",
    "from qiskit.quantum_info import SparsePauliOp\n",
    "\n",
    "number_of_phases = 20\n",
    "phases = np.linspace(0, 2*np.pi, number_of_phases)\n",
    "chsh = SparsePauliOp.from_list([('ZZ', 1), ('ZX', -1), ('XZ', 1), ('XX', 1)])"
   ]
  },
  {
   "cell_type": "code",
   "execution_count": null,
   "id": "79053c67-d549-48ff-bbbd-1f203adc2e26",
   "metadata": {
    "tags": []
   },
   "outputs": [],
   "source": [
    "#------------------------------------\n",
    "# Step 3. Execute using the Estimator\n",
    "#------------------------------------\n",
    "\n",
    "options = Options()\n",
    "options.resilience_level = 1\n",
    "options.execution.shots = 1000\n",
    "\n",
    "# Run the experiments\n",
    "\n",
    "estimator = Estimator(session=backend, options=options)\n",
    "    \n",
    "job = estimator.run(circuits=[chsh_circuits]*number_of_phases, \n",
    "                    observables=[chsh]*number_of_phases, parameter_values=[[ph] for ph in phases])\n",
    "\n",
    "from CHSH_helpers import check_job_status\n",
    "values = check_job_status(job)"
   ]
  },
  {
   "cell_type": "code",
   "execution_count": null,
   "id": "e4feb21a-accd-4312-9f63-d5c67766c403",
   "metadata": {
    "tags": []
   },
   "outputs": [],
   "source": [
    "import matplotlib.pyplot as plt\n",
    "\n",
    "plt.plot(phases, values, 'o-', label='CHSH %s'%(backend.name))\n",
    "\n",
    "plt.axhline(y=2, color='r', linestyle='-')\n",
    "plt.axhline(y=-2, color='r', linestyle='-')\n",
    "plt.axhline(y=np.sqrt(2)*2, color='b', linestyle='-.')\n",
    "plt.axhline(y=-np.sqrt(2)*2, color='b', linestyle='-.')\n",
    "plt.ylim(-3.2,3.2)\n",
    "plt.xlabel('Theta')\n",
    "plt.ylabel('CHSH witness')\n",
    "plt.legend(loc=\"center right\")\n",
    "plt.show()"
   ]
  },
  {
   "cell_type": "code",
   "execution_count": null,
   "id": "89fe8ced-b02a-4d15-bd88-5541d98dee84",
   "metadata": {},
   "outputs": [],
   "source": []
  }
 ],
 "metadata": {
  "kernelspec": {
   "display_name": "Python 3 (ipykernel)",
   "language": "python",
   "name": "python3"
  },
  "language_info": {
   "codemirror_mode": {
    "name": "ipython",
    "version": 3
   },
   "file_extension": ".py",
   "mimetype": "text/x-python",
   "name": "python",
   "nbconvert_exporter": "python",
   "pygments_lexer": "ipython3",
   "version": "3.11.5"
  },
  "widgets": {
   "application/vnd.jupyter.widget-state+json": {
    "state": {},
    "version_major": 2,
    "version_minor": 0
   }
  }
 },
 "nbformat": 4,
 "nbformat_minor": 5
}
