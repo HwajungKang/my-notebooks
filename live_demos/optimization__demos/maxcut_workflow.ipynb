{
 "cells": [
  {
   "cell_type": "markdown",
   "id": "8d5a36ed-4996-45a9-918f-4c8bfb39f144",
   "metadata": {},
   "source": [
    "# Maxcut example"
   ]
  },
  {
   "cell_type": "markdown",
   "id": "eb810399-2dfe-4f31-bf6b-91547e3fd2f8",
   "metadata": {},
   "source": [
    "## Setup"
   ]
  },
  {
   "cell_type": "code",
   "execution_count": 24,
   "id": "67a5a8b8-337f-4df7-b9c7-716c3ff36529",
   "metadata": {},
   "outputs": [],
   "source": [
    "# General imports\n",
    "import numpy as np\n",
    "\n",
    "# Qiskit ansatz circuits\n",
    "from qiskit.circuit.library import TwoLocal\n",
    "\n",
    "# Qiskit primitives\n",
    "from qiskit.primitives import Estimator as QiskitEstimator\n",
    "from qiskit.primitives import Sampler as QiskitSampler\n",
    "\n",
    "# Qiskit runtime\n",
    "from qiskit_ibm_runtime import QiskitRuntimeService\n",
    "from qiskit_ibm_runtime import Estimator, Sampler, Session\n",
    "\n",
    "# Qiskit optimization\n",
    "from optimization import QuadraticProgram\n",
    "from optimization.workflows import QUBO_transformer\n",
    "from optimization.passes import (QUBO2Ising,\n",
    "                                 EvaluateProgramSolution,\n",
    "                                 UnrollQUBOVariables)\n",
    "\n",
    "# Docplex\n",
    "from docplex.mp.model import Model\n",
    "\n",
    "# SPSA\n",
    "from optimization.spsa import minimize_spsa"
   ]
  },
  {
   "cell_type": "markdown",
   "id": "1237cbeb-847a-4c59-bd2d-e5a332b43cb2",
   "metadata": {},
   "source": [
    "## Load the Runtime (if using)"
   ]
  },
  {
   "cell_type": "code",
   "execution_count": 8,
   "id": "4ecdb64d-b886-4ab1-a2ec-d36c21e17115",
   "metadata": {},
   "outputs": [],
   "source": [
    "#service = QiskitRuntimeService()"
   ]
  },
  {
   "cell_type": "code",
   "execution_count": 9,
   "id": "3e136c81-0098-46ea-9038-daecaa6949ff",
   "metadata": {},
   "outputs": [],
   "source": [
    "#backend = service.get_backend('ibm_nazca')"
   ]
  },
  {
   "cell_type": "markdown",
   "id": "5a6009b4-fc67-4736-9178-1c3f5057fc40",
   "metadata": {},
   "source": [
    "## Step 1: Build optimization problem using docplex and convert to QUBO\n",
    "Define problem using standard classical representation."
   ]
  },
  {
   "cell_type": "code",
   "execution_count": 10,
   "id": "60e03730-2f3a-48fe-bc50-9d079c11603c",
   "metadata": {},
   "outputs": [
    {
     "data": {
      "image/png": "[encoded data removed]",
      "text/plain": [
       "<Figure size 640x480 with 1 Axes>"
      ]
     },
     "metadata": {},
     "output_type": "display_data"
    }
   ],
   "source": [
    "import rustworkx as rs\n",
    "from rustworkx.visualization import mpl_draw\n",
    "\n",
    "A = np.array([[0, 1, 1, 1],\n",
    "              [1, 0, 1, 0],\n",
    "              [1, 1, 0, 1],\n",
    "              [1, 0, 1, 0]], dtype=float)\n",
    "\n",
    "G = rs.PyGraph.from_adjacency_matrix(A)\n",
    "mpl_draw(G, with_labels=True)"
   ]
  },
  {
   "cell_type": "code",
   "execution_count": 11,
   "id": "5dffd0a0",
   "metadata": {},
   "outputs": [],
   "source": [
    "mdl = Model(name=\"Max-cut\")\n",
    "x = {i: mdl.binary_var(name=f\"x_{i}\") for i in range(G.num_nodes())}\n",
    "objective = mdl.sum(w * x[i] * (1 - x[j]) + w * x[j] * (1 - x[i]) for i, j, w in G.weighted_edge_list())\n",
    "mdl.maximize(objective)"
   ]
  },
  {
   "cell_type": "markdown",
   "id": "823b3cd9-be66-4d94-a9a1-d766a270dbf6",
   "metadata": {},
   "source": [
    "### Convert to our `QuadraticProgram` format"
   ]
  },
  {
   "cell_type": "code",
   "execution_count": 12,
   "id": "49a33b1f-8262-4171-b71e-f628e8b9c884",
   "metadata": {},
   "outputs": [
    {
     "data": {
      "text/plain": [
       "<QuadraticProgram: maximize -2*x_0*x_1 - 2*x_0*x_2 - 2*x_0*x_3 - 2*x_1*x_2 - 2..., 4 variables, 0 constraints, 'Max-cut'>"
      ]
     },
     "execution_count": 12,
     "metadata": {},
     "output_type": "execute_result"
    }
   ],
   "source": [
    "qp = QuadraticProgram.from_docplex_mp(mdl)\n",
    "qp"
   ]
  },
  {
   "cell_type": "markdown",
   "id": "5d434122-503a-4949-b6a8-0674882c4644",
   "metadata": {},
   "source": [
    "### Perform transformations to QUBO and return new program"
   ]
  },
  {
   "cell_type": "code",
   "execution_count": 14,
   "id": "4915d0c1-b45b-493f-b1e6-a6269c548c27",
   "metadata": {},
   "outputs": [],
   "source": [
    "qubo_transformer = QUBO_transformer()\n",
    "qubo = qubo_transformer.run(qp)"
   ]
  },
  {
   "cell_type": "markdown",
   "id": "d6b2bda5-bbf7-44a1-9628-31b9689483a8",
   "metadata": {},
   "source": [
    "## Step 2) Quantum native description\n",
    "### Convert from QUBO to Ising"
   ]
  },
  {
   "cell_type": "code",
   "execution_count": 15,
   "id": "bea885b0-a87e-43f3-8e34-a2cabd90ffd4",
   "metadata": {},
   "outputs": [
    {
     "data": {
      "text/plain": [
       "SparsePauliOp(['IIZZ', 'IZIZ', 'ZIIZ', 'IZZI', 'ZZII', 'IIII'],\n",
       "              coeffs=[ 0.5+0.j,  0.5+0.j,  0.5+0.j,  0.5+0.j,  0.5+0.j, -2.5+0.j])"
      ]
     },
     "execution_count": 15,
     "metadata": {},
     "output_type": "execute_result"
    }
   ],
   "source": [
    "hamiltonian = QUBO2Ising().run(qubo)\n",
    "hamiltonian"
   ]
  },
  {
   "cell_type": "markdown",
   "id": "d963c609",
   "metadata": {},
   "source": [
    "### Select ansatz circuit from circuit library"
   ]
  },
  {
   "cell_type": "code",
   "execution_count": 16,
   "id": "777e255e",
   "metadata": {},
   "outputs": [],
   "source": [
    "ansatz = TwoLocal(hamiltonian.num_qubits, 'ry', 'cx', 'linear', reps=2)"
   ]
  },
  {
   "cell_type": "markdown",
   "id": "8c55893f-5e2e-4519-80ba-6711b93b045d",
   "metadata": {},
   "source": [
    "## Step 3: Solve using quantum accelerator\n",
    "### Standard cost function definition"
   ]
  },
  {
   "cell_type": "code",
   "execution_count": 17,
   "id": "aed58f2e-0761-441f-aeea-793adeabc63a",
   "metadata": {},
   "outputs": [],
   "source": [
    "def cost_func(params, ansatz, hamiltonian, estimator):\n",
    "    \"\"\"Return estimate of energy from estimator\n",
    "\n",
    "    Parameters:\n",
    "        params (ndarray): Array of ansatz parameters\n",
    "        ansatz (QuantumCircuit): Parameterized ansatz circuit\n",
    "        hamiltonian (SparsePauliOp): Operator representation of Hamiltonian\n",
    "        estimator (Estimator): Estimator primitive instance\n",
    "\n",
    "    Returns:\n",
    "        float: Energy estimate\n",
    "    \"\"\"\n",
    "    cost = estimator.run(ansatz, hamiltonian, parameter_values=params).result().values[0]\n",
    "    return cost"
   ]
  },
  {
   "cell_type": "markdown",
   "id": "b3b0aac9-67cc-424a-8cfa-5368dbeea9b8",
   "metadata": {},
   "source": [
    "### Setup estimator and sampler instances"
   ]
  },
  {
   "cell_type": "code",
   "execution_count": 18,
   "id": "6f3315e0-b85e-44e9-a286-01888d28038f",
   "metadata": {},
   "outputs": [],
   "source": [
    "#session = Session(backend=backend)\n",
    "#estimator = Estimator(session=session, options={\"shots\": int(1e4)})\n",
    "#sampler = Sampler(session=session, options={\"shots\": int(1e4)})\n",
    "estimator = QiskitEstimator(options={\"shots\": int(1e4)})\n",
    "sampler = QiskitSampler(options={\"shots\": int(1e4)})"
   ]
  },
  {
   "cell_type": "markdown",
   "id": "c8302b04-36fb-429f-9d92-446f9b9e6333",
   "metadata": {},
   "source": [
    "### Perform minimization"
   ]
  },
  {
   "cell_type": "code",
   "execution_count": 19,
   "id": "0fd6a59d-7e53-42a9-9410-c236239ed66a",
   "metadata": {},
   "outputs": [],
   "source": [
    "x0 = 2*np.pi*np.random.random(size=ansatz.num_parameters)\n",
    "res = minimize_spsa(cost_func, x0, args=(ansatz, hamiltonian, estimator), maxiter=100)"
   ]
  },
  {
   "cell_type": "markdown",
   "id": "39c2b583-8ec4-4cca-8014-697cbda48207",
   "metadata": {},
   "source": [
    "### Computute distribution at found minimum"
   ]
  },
  {
   "cell_type": "code",
   "execution_count": 21,
   "id": "a63e4bba-1d5b-402e-ae39-8cd35c6843d9",
   "metadata": {},
   "outputs": [],
   "source": [
    "# Assign solution parameters to ansatz\n",
    "qc = ansatz.assign_parameters(res.x)\n",
    "qc.measure_all()\n",
    "samp_dist = sampler.run(qc, shots=int(1e4)).result().quasi_dists[0]\n",
    "# Close the session since we are now done with it\n",
    "#session.close()"
   ]
  },
  {
   "cell_type": "markdown",
   "id": "742ff430-8649-4dac-8dd2-bc8b9712e41e",
   "metadata": {},
   "source": [
    "### Express quantum solution as QUBO variable values\n",
    "Convert bit-string solutions to variable values in QUBO problem"
   ]
  },
  {
   "cell_type": "code",
   "execution_count": 22,
   "id": "3a68f4db-6148-4243-b5ba-d678e3e5c5fe",
   "metadata": {},
   "outputs": [
    {
     "data": {
      "text/plain": [
       "(-4.0, array([1, 0, 1, 0]))"
      ]
     },
     "execution_count": 22,
     "metadata": {},
     "output_type": "execute_result"
    }
   ],
   "source": [
    "res = EvaluateProgramSolution(qubo).run(samp_dist)\n",
    "res"
   ]
  },
  {
   "cell_type": "markdown",
   "id": "8f52cbc3-618f-4c95-ab07-ae28c9d884ab",
   "metadata": {},
   "source": [
    "## Step 4: Classical postprocess\n",
    "Unrolling QUBO variables back to the original problem definition."
   ]
  },
  {
   "cell_type": "code",
   "execution_count": 23,
   "id": "6538029d-37e4-4c21-9423-1949496c2600",
   "metadata": {},
   "outputs": [
    {
     "data": {
      "text/plain": [
       "array([1., 0., 1., 0.])"
      ]
     },
     "execution_count": 23,
     "metadata": {},
     "output_type": "execute_result"
    }
   ],
   "source": [
    "solution = UnrollQUBOVariables(qubo_transformer).run(res)\n",
    "solution"
   ]
  },
  {
   "cell_type": "markdown",
   "id": "5a0762b4-445d-486a-b875-41713789dc12",
   "metadata": {},
   "source": [
    "## Intepretation of solution\n",
    "Depends on input, but is completely separate from quantum having done the processing for the solution."
   ]
  }
 ],
 "metadata": {
  "kernelspec": {
   "display_name": "Python 3 (ipykernel)",
   "language": "python",
   "name": "python3"
  },
  "language_info": {
   "codemirror_mode": {
    "name": "ipython",
    "version": 3
   },
   "file_extension": ".py",
   "mimetype": "text/x-python",
   "name": "python",
   "nbconvert_exporter": "python",
   "pygments_lexer": "ipython3",
   "version": "3.11.4"
  }
 },
 "nbformat": 4,
 "nbformat_minor": 5
}
