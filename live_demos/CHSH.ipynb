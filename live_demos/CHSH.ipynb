{
 "cells": [
  {
   "cell_type": "markdown",
   "id": "09b1581a-ff93-4818-8409-0a7f46efaa32",
   "metadata": {
    "tags": []
   },
   "source": [
    "# The Hello World program of Quantum Computing\n",
    "This is the classical CHSH experiment. In a classical world the operator could not give a value outside -2 -> +2. A demonstration of a measured value above +2 or below -2 is only possible due to entanglement  "
   ]
  },
  {
   "cell_type": "markdown",
   "id": "71bd4ba0-2b45-4597-bf74-991e3ba0f0f8",
   "metadata": {},
   "source": [
    "## **Step 0**: Setup"
   ]
  },
  {
   "cell_type": "code",
   "execution_count": 29,
   "id": "ed709e1b-bf03-4795-94d5-4ad44e5c04c4",
   "metadata": {
    "tags": []
   },
   "outputs": [],
   "source": [
    "import numpy as np\n",
    "\n",
    "# Qiskit Quantum Circuit\n",
    "from qiskit import QuantumCircuit\n",
    "\n",
    "# Qiskit Operator form\n",
    "from qiskit.quantum_info import SparsePauliOp\n",
    "\n",
    "# Import Qiskit packages\n",
    "from qiskit_ibm_runtime import QiskitRuntimeService, Estimator, Options\n",
    "\n",
    "# Loading your IBM Quantum account(s)\n",
    "service = QiskitRuntimeService(channel=\"ibm_quantum\", instance=\"executive/internal/main\")\n",
    "\n",
    "# Define backend\n",
    "use_real = True\n",
    "\n",
    "if use_real:\n",
    "    backend = service.backend('ibmq_kolkata')\n",
    "else:\n",
    "    backend = service.backend('ibmq_qasm_simulator')"
   ]
  },
  {
   "cell_type": "markdown",
   "id": "e775e37a-8ffb-4c4b-99e3-a0067e19d3ad",
   "metadata": {},
   "source": [
    "## **Step 1**: Problem specification using standard tools and conversion to Quantum native format\n",
    "Here we define the CHSH operator to be measured (ZZ+XX+XZ-ZX) and the phases to be used in the quantum circuit. The output of this step should be an operator to be measured and a quantum circuit"
   ]
  },
  {
   "cell_type": "code",
   "execution_count": 26,
   "id": "2cf6ec0d-8b2b-4fa1-9042-e54393e3007a",
   "metadata": {},
   "outputs": [
    {
     "name": "stdout",
     "output_type": "stream",
     "text": [
      "SparsePauliOp(['ZZ', 'ZX', 'XZ', 'XX'],\n",
      "              coeffs=[ 1.+0.j, -1.+0.j,  1.+0.j,  1.+0.j])\n"
     ]
    }
   ],
   "source": [
    "number_of_phases = 20\n",
    "phases = np.linspace(0, 2*np.pi, number_of_phases)\n",
    "chsh = SparsePauliOp.from_list([('ZZ', 1), ('ZX', -1), ('XZ', 1), ('XX', 1)])\n",
    "print(chsh)"
   ]
  },
  {
   "cell_type": "code",
   "execution_count": 27,
   "id": "32d8ac60-1bcb-4ee5-85e0-699fb28abc60",
   "metadata": {},
   "outputs": [
    {
     "name": "stdout",
     "output_type": "stream",
     "text": [
      "     ┌───┐     ┌────────┐\n",
      "q_0: ┤ H ├──■──┤ Ry(th) ├\n",
      "     └───┘┌─┴─┐└────────┘\n",
      "q_1: ─────┤ X ├──────────\n",
      "          └───┘          \n"
     ]
    }
   ],
   "source": [
    "from qiskit.circuit import Parameter\n",
    "\n",
    "th = Parameter('th')\n",
    "chsh_circuit = QuantumCircuit(2)\n",
    "chsh_circuit.h(0)\n",
    "chsh_circuit.cx(0, 1)\n",
    "chsh_circuit.ry(th, 0)\n",
    "\n",
    "print(chsh_circuit)"
   ]
  },
  {
   "cell_type": "markdown",
   "id": "5bf3d09e-9394-4f03-9ba6-355f2b1f3185",
   "metadata": {},
   "source": [
    "## **Step 2**: Optimize the circuits and the operators to be measured"
   ]
  },
  {
   "cell_type": "markdown",
   "id": "9d011ec4-0a4a-4764-af46-c566f3f65fce",
   "metadata": {},
   "source": [
    "The Native set for the IBM Hardware is control-z, sqrt-x and a rotation around the z-axis [cz, sx, rz]. "
   ]
  },
  {
   "cell_type": "code",
   "execution_count": 30,
   "id": "3284728e-5dad-48ed-b511-ee174936abfe",
   "metadata": {},
   "outputs": [
    {
     "name": "stdout",
     "output_type": "stream",
     "text": [
      "     ┌─────────┐┌────┐┌─────────┐   ┌────┐┌────────────┐┌────┐┌────────┐\n",
      "q_0: ┤ Rz(π/2) ├┤ √X ├┤ Rz(π/2) ├─■─┤ √X ├┤ Rz(th + π) ├┤ √X ├┤ Rz(3π) ├\n",
      "     ├─────────┤├────┤└┬───────┬┘ │ ├────┤└┬─────────┬─┘└────┘└────────┘\n",
      "q_1: ┤ Rz(π/2) ├┤ √X ├─┤ Rz(π) ├──■─┤ √X ├─┤ Rz(π/2) ├──────────────────\n",
      "     └─────────┘└────┘ └───────┘    └────┘ └─────────┘                  \n"
     ]
    }
   ],
   "source": [
    "from qiskit.compiler import transpile\n",
    "chsh_ibm = transpile(chsh_circuit, basis_gates = ['cz', 'sx', 'rz'], optimization_level=3)\n",
    "print(chsh_ibm)"
   ]
  },
  {
   "cell_type": "markdown",
   "id": "9b64830f-45a1-43cc-b39b-d73e46d4016b",
   "metadata": {},
   "source": [
    "## **Step 3**: Solve using quantum primitive functions\n",
    "Here we use the estimator primitve and send all the quantum circuits with different phases and measured the same CHSH operator."
   ]
  },
  {
   "cell_type": "code",
   "execution_count": 4,
   "id": "79053c67-d549-48ff-bbbd-1f203adc2e26",
   "metadata": {
    "tags": []
   },
   "outputs": [
    {
     "name": "stdout",
     "output_type": "stream",
     "text": [
      "chsh.picke\n"
     ]
    }
   ],
   "source": [
    "options = Options()\n",
    "options.resilience_level = 1\n",
    "options.execution.shots = 1000\n",
    "\n",
    "# Run the experiments\n",
    "\n",
    "estimator = Estimator(session=backend, options=options)\n",
    "    \n",
    "job = estimator.run(circuits=[chsh_circuits]*number_of_phases, \n",
    "                    observables=[chsh]*number_of_phases, parameter_values=[[ph] for ph in phases])\n",
    "\n",
    "from helpers import check_job_status\n",
    "values = check_job_status(job,'chsh')"
   ]
  },
  {
   "cell_type": "markdown",
   "id": "6f65903b-7044-44bb-ba53-3ed916257bbd",
   "metadata": {},
   "source": [
    "## **Step 4**: Post-process and return answer in classical format\n",
    "Here we plot the output so the user can view when a measured value is greater than +2 or less than -2"
   ]
  },
  {
   "cell_type": "code",
   "execution_count": 5,
   "id": "e4feb21a-accd-4312-9f63-d5c67766c403",
   "metadata": {
    "tags": []
   },
   "outputs": [
    {
     "data": {
      "image/png": "[encoded data removed]",
      "text/plain": [
       "<Figure size 640x480 with 1 Axes>"
      ]
     },
     "metadata": {},
     "output_type": "display_data"
    }
   ],
   "source": [
    "import matplotlib.pyplot as plt\n",
    "\n",
    "plt.plot(phases, values, 'o-', label='CHSH %s'%(backend.name))\n",
    "\n",
    "plt.axhline(y=2, color='r', linestyle='-')\n",
    "plt.axhline(y=-2, color='r', linestyle='-')\n",
    "plt.axhline(y=np.sqrt(2)*2, color='b', linestyle='-.')\n",
    "plt.axhline(y=-np.sqrt(2)*2, color='b', linestyle='-.')\n",
    "plt.ylim(-3.2,3.2)\n",
    "plt.xlabel('Theta')\n",
    "plt.ylabel('CHSH witness')\n",
    "plt.legend(loc=\"center right\")\n",
    "plt.show()"
   ]
  },
  {
   "cell_type": "code",
   "execution_count": null,
   "id": "b4b7498c-ce96-43cd-8c92-1b7ec4374eb1",
   "metadata": {},
   "outputs": [],
   "source": []
  }
 ],
 "metadata": {
  "kernelspec": {
   "display_name": "Python 3 (ipykernel)",
   "language": "python",
   "name": "python3"
  },
  "language_info": {
   "codemirror_mode": {
    "name": "ipython",
    "version": 3
   },
   "file_extension": ".py",
   "mimetype": "text/x-python",
   "name": "python",
   "nbconvert_exporter": "python",
   "pygments_lexer": "ipython3",
   "version": "3.11.5"
  },
  "widgets": {
   "application/vnd.jupyter.widget-state+json": {
    "state": {},
    "version_major": 2,
    "version_minor": 0
   }
  }
 },
 "nbformat": 4,
 "nbformat_minor": 5
}
