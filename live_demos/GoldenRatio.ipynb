{
 "cells": [
  {
   "cell_type": "code",
   "execution_count": 1,
   "id": "f9c20d14-ab68-4c31-ac5b-6d06ee1d25da",
   "metadata": {},
   "outputs": [],
   "source": [
    "#-------------------------------\n",
    "# Step 0. Setting up the imports\n",
    "#-------------------------------\n",
    "import numpy as np\n",
    "\n",
    "# Import Qiskit packages\n",
    "from qiskit_ibm_runtime import QiskitRuntimeService, Estimator, Options, Session\n",
    "\n",
    "# Loading your IBM Quantum account(s)\n",
    "service = QiskitRuntimeService(channel=\"ibm_quantum\", instance=\"executive/internal/main\")\n",
    "\n",
    "# Define backend\n",
    "use_real = True\n",
    "\n",
    "if use_real:\n",
    "    backend = service.backend('ibmq_kolkata')\n",
    "else:\n",
    "    backend = service.backend('ibmq_qasm_simulator')"
   ]
  },
  {
   "cell_type": "code",
   "execution_count": 2,
   "id": "1d04a740-2b52-4ccc-b66b-2e7a2e8b33b2",
   "metadata": {},
   "outputs": [
    {
     "data": {
      "image/png": "[encoded data removed]",
      "text/plain": [
       "<Figure size 454.719x284.278 with 1 Axes>"
      ]
     },
     "execution_count": 2,
     "metadata": {},
     "output_type": "execute_result"
    }
   ],
   "source": [
    "#---------------------------\n",
    "# Step 1. circuit selection \n",
    "#---------------------------\n",
    "from qiskit import QuantumCircuit\n",
    "from qiskit.circuit import Parameter\n",
    "theta = Parameter('θ')\n",
    "\n",
    "\n",
    "# Step 1. Choose the quantum circuit to make the quantum state |000> + e^{theta} |111>\n",
    "qc_example = QuantumCircuit(3)\n",
    "qc_example.h(0) # generate superposition\n",
    "qc_example.p(theta, 0) # add quantum phase\n",
    "qc_example.cx(0, 1) # condition 1st qubit on 0th qubit\n",
    "qc_example.cx(0, 2) # condition 2nd qubit on 0th qubit\n",
    "qc_example.draw('mpl')"
   ]
  },
  {
   "cell_type": "code",
   "execution_count": 3,
   "id": "93fa8c19-c58c-41b2-9a28-f24b4f58b8a0",
   "metadata": {},
   "outputs": [
    {
     "name": "stdout",
     "output_type": "stream",
     "text": [
      "SparsePauliOp(['XXY', 'XYX', 'YXX', 'YYY'],\n",
      "              coeffs=[ 1.+0.j,  1.+0.j,  1.+0.j, -1.+0.j])\n"
     ]
    }
   ],
   "source": [
    "#------------------------------\n",
    "# Step 2. Problem specification\n",
    "#------------------------------\n",
    "from qiskit.quantum_info import SparsePauliOp\n",
    "\n",
    "# Step 2: Choose the output to be measured\n",
    "M1 = SparsePauliOp.from_list([(\"XXY\", 1), (\"XYX\", 1), (\"YXX\", 1), (\"YYY\", -1)])\n",
    "\n",
    "print(M1)"
   ]
  },
  {
   "cell_type": "code",
   "execution_count": 4,
   "id": "fbf4f0d6-0fab-4333-bc58-437f4c8cda9a",
   "metadata": {},
   "outputs": [
    {
     "name": "stdout",
     "output_type": "stream",
     "text": [
      "min value of M1 is in the range theta = [0, 6.283185307179586]\n",
      "min value of M1 is in the range theta = [2.3999632297286535, 6.283185307179586]\n",
      "min value of M1 is in the range theta = [3.883222077450933, 6.283185307179586]\n",
      "min value of M1 is in the range theta = [3.883222077450933, 5.366480925173213]\n",
      "min value of M1 is in the range theta = [3.883222077450933, 4.799926459457307]\n",
      "min value of M1 is in the range theta = [4.2333719937414, 4.799926459457307]\n",
      "min value of M1 is in the range theta = [4.4497765431668395, 4.799926459457307]\n",
      "min value of M1 is in the range theta = [4.4497765431668395, 4.666181092592279]\n",
      "min value of M1 is in the range theta = [4.53243572572725, 4.666181092592279]\n",
      "Session ID is cjf3nt6nq2dtf2799s00\n",
      "Final Job ID is cjf66dmnq2dtf27d4vl0\n",
      "Job result is [-3.87985502] at theta = 4.624851501312072\n"
     ]
    }
   ],
   "source": [
    "#------------------------------------\n",
    "# Step 3. Execute using the Estimator\n",
    "#------------------------------------\n",
    "\n",
    "options = Options(optimization_level=1)\n",
    "options.execution.shots = 5000  # Options can be set using auto-complete.\n",
    "\n",
    "# golden search method for finding max of M1 vs theta \n",
    "# https://en.wikipedia.org/wiki/Golden-section_search\n",
    "gr = (np.sqrt(5) + 1) / 2\n",
    "\n",
    "# range of theta  \n",
    "thetaa = 0\n",
    "thetab = 2*np.pi\n",
    "\n",
    "#tol \n",
    "tol = 1e-1\n",
    "\n",
    "with Session(backend=backend) as session:\n",
    "    estimator = Estimator(options=options)\n",
    "\n",
    "    #next test range \n",
    "    thetac = thetab - (thetab - thetaa) / gr\n",
    "    thetad = thetaa + (thetab - thetaa) / gr\n",
    "    while abs(thetab - thetaa) > tol:\n",
    "        \n",
    "        print(f\"min value of M1 is in the range theta = {[thetaa, thetab]}\")\n",
    "        job = estimator.run(circuits=[qc_example]*2, observables=[M1]*2, parameter_values=[[thetac],[thetad]])\n",
    "        \n",
    "        test =job.result().values\n",
    "        if test[0] < test[1]:\n",
    "            thetab = thetad\n",
    "        else:\n",
    "            thetaa = thetac\n",
    "        \n",
    "        thetac = thetab - (thetab - thetaa) / gr\n",
    "        thetad = thetaa + (thetab - thetaa) / gr\n",
    "        \n",
    "    # Final Job to evaluate estimator at mid point found using golden search method \n",
    "    theta_mid = (thetab + thetaa) / 2\n",
    "    job = estimator.run(circuits=qc_example, observables=M1, parameter_values=theta_mid)\n",
    "    print(f\"Session ID is {session.session_id}\")\n",
    "    print(f\"Final Job ID is {job.job_id()}\")\n",
    "    print(f\"Job result is {job.result().values} at theta = {theta_mid}\")"
   ]
  },
  {
   "cell_type": "code",
   "execution_count": 5,
   "id": "3688078f-09b1-4aed-8e80-d9aaae1d23da",
   "metadata": {},
   "outputs": [
    {
     "data": {
      "text/plain": [
       "-4.0"
      ]
     },
     "execution_count": 5,
     "metadata": {},
     "output_type": "execute_result"
    }
   ],
   "source": [
    "np.linalg.eigvalsh(M1.to_matrix())[0]"
   ]
  },
  {
   "cell_type": "code",
   "execution_count": 6,
   "id": "e901f9e0-de8e-46b7-a4f0-a4b0a36cb768",
   "metadata": {},
   "outputs": [
    {
     "data": {
      "text/plain": [
       "1.4728826437299598"
      ]
     },
     "execution_count": 6,
     "metadata": {},
     "output_type": "execute_result"
    }
   ],
   "source": [
    "4.624851501312074/3.14"
   ]
  },
  {
   "cell_type": "code",
   "execution_count": null,
   "id": "257fdbfc-0f94-42c9-842b-c8cd4fe0941a",
   "metadata": {},
   "outputs": [],
   "source": []
  }
 ],
 "metadata": {
  "kernelspec": {
   "display_name": "Python 3 (ipykernel)",
   "language": "python",
   "name": "python3"
  },
  "language_info": {
   "codemirror_mode": {
    "name": "ipython",
    "version": 3
   },
   "file_extension": ".py",
   "mimetype": "text/x-python",
   "name": "python",
   "nbconvert_exporter": "python",
   "pygments_lexer": "ipython3",
   "version": "3.11.5"
  }
 },
 "nbformat": 4,
 "nbformat_minor": 5
}
