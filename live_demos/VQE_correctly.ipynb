{
 "cells": [
  {
   "cell_type": "code",
   "execution_count": 22,
   "id": "e4015624-87ea-490d-9bf5-e5abf71ba10a",
   "metadata": {
    "tags": []
   },
   "outputs": [],
   "source": [
    "import numpy as np\n",
    "\n",
    "# Operators from Qiskit\n",
    "from qiskit.quantum_info import SparsePauliOp\n",
    "# Qiskit circuit library\n",
    "from qiskit.circuit.library import EfficientSU2\n",
    "\n",
    "# Qiskit from IBM\n",
    "from qiskit_ibm_runtime import QiskitRuntimeService, Sampler, Estimator, Session, Options\n",
    "\n",
    "# Import SPSA from module\n",
    "from spsa import minimize_spsa\n",
    "\n",
    "import matplotlib.pyplot as plt"
   ]
  },
  {
   "cell_type": "code",
   "execution_count": 4,
   "id": "c70de674",
   "metadata": {},
   "outputs": [],
   "source": [
    "# Loading your IBM Quantum account(s)\n",
    "service = QiskitRuntimeService(channel=\"ibm_quantum\")"
   ]
  },
  {
   "cell_type": "code",
   "execution_count": 18,
   "id": "b38dc0c8",
   "metadata": {},
   "outputs": [],
   "source": [
    "# Define backends\n",
    "use_real = False\n",
    "\n",
    "if use_real:\n",
    "    backend = service.backend('ibm_cleveland')\n",
    "else:\n",
    "    backend = service.backend('ibmq_qasm_simulator')"
   ]
  },
  {
   "cell_type": "code",
   "execution_count": 7,
   "id": "d1fbd22d-33c3-48de-a813-51a6d5ce78d1",
   "metadata": {
    "tags": []
   },
   "outputs": [
    {
     "name": "stdout",
     "output_type": "stream",
     "text": [
      "SparsePauliOp(['YZ', 'ZI', 'ZZ', 'XX'],\n",
      "              coeffs=[ 0.39793742+0.j, -0.39793742+0.j, -0.0112801 +0.j,  0.1809312 +0.j])\n"
     ]
    }
   ],
   "source": [
    "hamiltonian = SparsePauliOp.from_list([('YZ', 0.39793742484318045),\n",
    "                                     ('ZI', -0.39793742484318045),\n",
    "                                     ('ZZ', -0.01128010425623538),\n",
    "                                     ('XX', 0.18093119978423156)])\n",
    "\n",
    "print (hamiltonian)"
   ]
  },
  {
   "cell_type": "code",
   "execution_count": 8,
   "id": "c5e2d522-0796-49e9-8af1-f9b7af36bb8c",
   "metadata": {
    "tags": []
   },
   "outputs": [
    {
     "data": {
      "text/plain": [
       "array([-0.70278562, -0.45302961,  0.45302961,  0.70278562])"
      ]
     },
     "execution_count": 8,
     "metadata": {},
     "output_type": "execute_result"
    }
   ],
   "source": [
    "H_mat = hamiltonian.to_matrix()\n",
    "np.linalg.eigvalsh(H_mat)"
   ]
  },
  {
   "cell_type": "code",
   "execution_count": 9,
   "id": "2ec5a05b-ad69-4720-bd5d-b4bb4ca3f497",
   "metadata": {
    "tags": []
   },
   "outputs": [
    {
     "data": {
      "image/png": "[encoded data removed]",
      "text/plain": [
       "<Figure size 872.572x200.667 with 1 Axes>"
      ]
     },
     "execution_count": 9,
     "metadata": {},
     "output_type": "execute_result"
    }
   ],
   "source": [
    "ansatz = EfficientSU2(2)\n",
    "\n",
    "ansatz.draw('mpl')"
   ]
  },
  {
   "cell_type": "code",
   "execution_count": 10,
   "id": "90be01c1",
   "metadata": {},
   "outputs": [],
   "source": [
    "import numpy as np\n",
    "from scipy.optimize import OptimizeResult\n",
    "\n",
    "def minimize_spsa(func, x0, args=(), maxiter=100,\n",
    "                  a=1.0, alpha=0.602, c=0.2, gamma=0.101,\n",
    "                  callback=None):\n",
    "    \"\"\"\n",
    "    Minimization of scalar function of one or more variables using simultaneous\n",
    "    perturbation stochastic approximation (SPSA).\n",
    "\n",
    "    Parameters:\n",
    "        func (callable): The objective function to be minimized.\n",
    "\n",
    "                          ``fun(x, *args) -> float``\n",
    "\n",
    "                          where x is an 1-D array with shape (n,) and args is a\n",
    "                          tuple of the fixed parameters needed to completely \n",
    "                          specify the function.\n",
    "\n",
    "        x0 (ndarray): Initial guess. Array of real elements of size (n,), \n",
    "                      where ‘n’ is the number of independent variables.\n",
    "      \n",
    "        maxiter (int): Maximum number of iterations.  The number of function\n",
    "                       evaluations is twice as many. Optional.\n",
    "\n",
    "        a (float): SPSA gradient scaling parameter. Optional.\n",
    "\n",
    "        alpha (float): SPSA gradient scaling exponent. Optional.\n",
    "\n",
    "        c (float):  SPSA step size scaling parameter. Optional.\n",
    "        \n",
    "        gamma (float): SPSA step size scaling exponent. Optional.\n",
    "\n",
    "        callback (callable): Function that accepts the current parameter vector\n",
    "                             as input. Optional.\n",
    "\n",
    "    Returns:\n",
    "        OptimizeResult: Solution in SciPy Optimization format.\n",
    "\n",
    "    Notes:\n",
    "        See the `SPSA homepage <https://www.jhuapl.edu/SPSA/>`_ for usage and\n",
    "        additional extentions to the basic version implimented here.\n",
    "    \"\"\"\n",
    "    A = 0.01 * maxiter\n",
    "    x0 = np.asarray(x0)\n",
    "    x = x0\n",
    "\n",
    "    for kk in range(maxiter):\n",
    "        ak = a * (kk+1.0+A)**-alpha\n",
    "        ck = c * (kk+1.0)**-gamma\n",
    "        # Bernoulli distribution for randoms\n",
    "        deltak =  2*np.random.randint(2, size=x.shape[0])-1\n",
    "        grad = (func(x + ck*deltak, *args) - func(x - ck*deltak, *args)) / (2*ck*deltak)\n",
    "        x -= ak*grad\n",
    "        \n",
    "        if callback is not None:\n",
    "            callback(x)\n",
    "\n",
    "    return OptimizeResult(fun=func(x, *args), x=x, nit=maxiter, nfev=2*maxiter, \n",
    "                          message='Optimization terminated successfully.',\n",
    "                          success=True)"
   ]
  },
  {
   "cell_type": "code",
   "execution_count": 11,
   "id": "39ad8b43",
   "metadata": {},
   "outputs": [],
   "source": [
    "def cost_func(params, ansatz, hamiltonian, estimator):\n",
    "        \"\"\"Return estimate of energy from estimator\n",
    "\n",
    "        Parameters:\n",
    "            params (ndarray): Array of ansatz parameters\n",
    "            ansatz (QuantumCircuit): Parameterized ansatz circuit\n",
    "            hamiltonian (SparsePauliOp): Operator representation of Hamiltonian\n",
    "            estimator (Estimator): Estimator primitive instance\n",
    "\n",
    "        Returns:\n",
    "            float: Energy estimate\n",
    "        \"\"\"\n",
    "        energy = estimator.run(ansatz, hamiltonian,\n",
    "                               parameter_values=params).result().values[0]\n",
    "        return energy"
   ]
  },
  {
   "cell_type": "code",
   "execution_count": 12,
   "id": "febaf01f",
   "metadata": {},
   "outputs": [],
   "source": [
    "def build_callback(ansatz, hamiltonian, estimator, callback_dict):\n",
    "    \"\"\"Return callback function that uses Estimator instance,\n",
    "    and stores intermediate values into a dictionary.\n",
    "\n",
    "    Parameters:\n",
    "        ansatz (QuantumCircuit): Parameterized ansatz circuit\n",
    "        hamiltonian (SparsePauliOp): Operator representation of Hamiltonian\n",
    "        estimator (Estimator): Estimator primitive instance\n",
    "        callback_dict (dict): Mutable dict for storing values\n",
    "\n",
    "    Returns:\n",
    "        Callable: Callback function object\n",
    "    \"\"\"\n",
    "\n",
    "    def callback(current_vector):\n",
    "        \"\"\"Callback function storing previous solution vector,\n",
    "        computing the intermediate cost value, and displaying number\n",
    "        of completed iterations and average time per iteration.\n",
    "\n",
    "        Values are stored in pre-defined 'callback_dict' dictionary.\n",
    "\n",
    "        Parameters:\n",
    "            current_vector (ndarray): Current vector of parameters\n",
    "                                      returned by optimizer\n",
    "        \"\"\"\n",
    "        # Keep track of the number of iterations\n",
    "        callback_dict[\"iters\"] += 1\n",
    "        # Set the prev_vector to the latest one\n",
    "        callback_dict[\"prev_vector\"] = current_vector\n",
    "        # Compute the value of the cost function at the current vector\n",
    "        # This adds an additional function evaluation\n",
    "        current_cost = estimator.run(ansatz, hamiltonian,\n",
    "                                     parameter_values=current_vector).result().values[0]\n",
    "        callback_dict[\"cost_history\"].append(current_cost)\n",
    "        # Print to screen on single line\n",
    "        print(\n",
    "            \"Iters. done: {} [Current cost: {}]\".format(callback_dict[\"iters\"], current_cost),\n",
    "            end=\"\\r\",\n",
    "            flush=True,\n",
    "        )\n",
    "\n",
    "    return callback"
   ]
  },
  {
   "cell_type": "code",
   "execution_count": 13,
   "id": "959e42bd-33c9-4b2b-a44c-46f0c56a91f4",
   "metadata": {
    "tags": []
   },
   "outputs": [],
   "source": [
    "num_params = ansatz.num_parameters\n",
    "params = 2*np.pi*np.random.random(num_params)"
   ]
  },
  {
   "cell_type": "code",
   "execution_count": 21,
   "id": "c6be877c-262a-48dd-8af1-c14a444fe515",
   "metadata": {
    "tags": []
   },
   "outputs": [
    {
     "name": "stdout",
     "output_type": "stream",
     "text": [
      "Iters. done: 100 [Current cost: -0.7027036570321009]\r"
     ]
    }
   ],
   "source": [
    "callback_dict = {\n",
    "    \"prev_vector\": None,\n",
    "    \"iters\": 0,\n",
    "    \"cost_history\": [],\n",
    "}\n",
    "\n",
    "session = Session(backend=backend)\n",
    "estimator = Estimator(session=session)\n",
    "callback = build_callback(ansatz, hamiltonian, estimator, callback_dict)\n",
    "\n",
    "res = minimize_spsa(cost_func, x0=params,\n",
    "                    args=(ansatz, hamiltonian, estimator),\n",
    "                    callback=callback,\n",
    "                    maxiter=100)\n",
    "session.close()"
   ]
  },
  {
   "cell_type": "code",
   "execution_count": 24,
   "id": "b642abf0-03f2-438f-8383-07dfbe0e0b14",
   "metadata": {
    "tags": []
   },
   "outputs": [
    {
     "name": "stdout",
     "output_type": "stream",
     "text": [
      " message: Optimization terminated successfully.\n",
      " success: True\n",
      "     fun: -0.7027036570321009\n",
      "       x: [ 9.992e-01  1.731e+00 ...  5.515e+00  3.452e+00]\n",
      "     nit: 100\n",
      "    nfev: 200\n"
     ]
    }
   ],
   "source": [
    "print(res)"
   ]
  },
  {
   "cell_type": "code",
   "execution_count": 25,
   "id": "f350861e-6315-4e26-b594-82864b6d8fa3",
   "metadata": {},
   "outputs": [
    {
     "data": {
      "text/plain": [
       "[<matplotlib.lines.Line2D at 0x16d9b5150>]"
      ]
     },
     "execution_count": 25,
     "metadata": {},
     "output_type": "execute_result"
    },
    {
     "data": {
      "image/png": "[encoded data removed]",
      "text/plain": [
       "<Figure size 640x480 with 1 Axes>"
      ]
     },
     "metadata": {},
     "output_type": "display_data"
    }
   ],
   "source": [
    "plt.plot(callback_dict['cost_history'], lw=2)"
   ]
  },
  {
   "cell_type": "code",
   "execution_count": null,
   "id": "44c3db0e",
   "metadata": {},
   "outputs": [],
   "source": []
  }
 ],
 "metadata": {
  "kernelspec": {
   "display_name": "Python 3 (ipykernel)",
   "language": "python",
   "name": "python3"
  },
  "language_info": {
   "codemirror_mode": {
    "name": "ipython",
    "version": 3
   },
   "file_extension": ".py",
   "mimetype": "text/x-python",
   "name": "python",
   "nbconvert_exporter": "python",
   "pygments_lexer": "ipython3",
   "version": "3.11.4"
  },
  "widgets": {
   "application/vnd.jupyter.widget-state+json": {
    "state": {},
    "version_major": 2,
    "version_minor": 0
   }
  }
 },
 "nbformat": 4,
 "nbformat_minor": 5
}
