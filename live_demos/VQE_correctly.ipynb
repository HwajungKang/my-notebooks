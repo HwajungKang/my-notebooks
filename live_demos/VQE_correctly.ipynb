{
 "cells": [
  {
   "cell_type": "code",
   "execution_count": 3,
   "id": "e4015624-87ea-490d-9bf5-e5abf71ba10a",
   "metadata": {
    "tags": []
   },
   "outputs": [],
   "source": [
    "import numpy as np\n",
    "\n",
    "# Importing standard Qiskit libraries\n",
    "from qiskit import QuantumCircuit, transpile\n",
    "from qiskit.tools.jupyter import *\n",
    "from qiskit.visualization import *\n",
    "\n",
    "\n",
    "# Loading your IBM Quantum account(s)\n",
    "from qiskit_ibm_runtime import QiskitRuntimeService, Sampler, Estimator, Session, Options\n",
    "service = QiskitRuntimeService(channel=\"ibm_quantum\")\n",
    "\n",
    "# Define backends\n",
    "use_real = False\n",
    "\n",
    "if use_real:\n",
    "    backend = service.backend('ibm_wellington')\n",
    "else:\n",
    "    backend = service.backend('ibmq_qasm_simulator')"
   ]
  },
  {
   "cell_type": "code",
   "execution_count": 4,
   "id": "d1fbd22d-33c3-48de-a813-51a6d5ce78d1",
   "metadata": {
    "tags": []
   },
   "outputs": [
    {
     "name": "stdout",
     "output_type": "stream",
     "text": [
      "SparsePauliOp(['YZ', 'ZI', 'ZZ', 'XX'],\n",
      "              coeffs=[ 0.39793742+0.j, -0.39793742+0.j, -0.0112801 +0.j,  0.1809312 +0.j])\n"
     ]
    }
   ],
   "source": [
    "# Operators from Qiskit\n",
    "from qiskit.quantum_info import SparsePauliOp\n",
    "\n",
    "H_problem = SparsePauliOp.from_list([('YZ', 0.39793742484318045),\n",
    "                                     ('ZI', -0.39793742484318045),\n",
    "                                     ('ZZ', -0.01128010425623538),\n",
    "                                     ('XX', 0.18093119978423156)])\n",
    "\n",
    "print (H_problem)"
   ]
  },
  {
   "cell_type": "code",
   "execution_count": 5,
   "id": "c5e2d522-0796-49e9-8af1-f9b7af36bb8c",
   "metadata": {
    "tags": []
   },
   "outputs": [
    {
     "data": {
      "text/plain": [
       "array([-0.70278562, -0.45302961,  0.45302961,  0.70278562])"
      ]
     },
     "execution_count": 5,
     "metadata": {},
     "output_type": "execute_result"
    }
   ],
   "source": [
    "H_mat = H_problem.to_matrix()\n",
    "np.linalg.eigvalsh(H_mat)"
   ]
  },
  {
   "cell_type": "code",
   "execution_count": 6,
   "id": "2ec5a05b-ad69-4720-bd5d-b4bb4ca3f497",
   "metadata": {
    "tags": []
   },
   "outputs": [
    {
     "data": {
      "text/html": [
       "<pre style=\"word-wrap: normal;white-space: pre;background: #fff0;line-height: 1.1;font-family: &quot;Courier New&quot;,Courier,monospace\">     »\n",
       "q_0: »\n",
       "     »\n",
       "q_1: »\n",
       "     »\n",
       "«     ┌──────────────────────────────────────────────────────────────────────────────────────────────────────┐\n",
       "«q_0: ┤0                                                                                                     ├\n",
       "«     │  EfficientSU2(θ[0],θ[1],θ[2],θ[3],θ[4],θ[5],θ[6],θ[7],θ[8],θ[9],θ[10],θ[11],θ[12],θ[13],θ[14],θ[15]) │\n",
       "«q_1: ┤1                                                                                                     ├\n",
       "«     └──────────────────────────────────────────────────────────────────────────────────────────────────────┘</pre>"
      ],
      "text/plain": [
       "     »\n",
       "q_0: »\n",
       "     »\n",
       "q_1: »\n",
       "     »\n",
       "«     ┌──────────────────────────────────────────────────────────────────────────────────────────────────────┐\n",
       "«q_0: ┤0                                                                                                     ├\n",
       "«     │  EfficientSU2(θ[0],θ[1],θ[2],θ[3],θ[4],θ[5],θ[6],θ[7],θ[8],θ[9],θ[10],θ[11],θ[12],θ[13],θ[14],θ[15]) │\n",
       "«q_1: ┤1                                                                                                     ├\n",
       "«     └──────────────────────────────────────────────────────────────────────────────────────────────────────┘"
      ]
     },
     "execution_count": 6,
     "metadata": {},
     "output_type": "execute_result"
    }
   ],
   "source": [
    "from qiskit.circuit.library import EfficientSU2\n",
    "\n",
    "ansatz = EfficientSU2(2)\n",
    "\n",
    "ansatz.draw()"
   ]
  },
  {
   "cell_type": "code",
   "execution_count": 7,
   "id": "959e42bd-33c9-4b2b-a44c-46f0c56a91f4",
   "metadata": {
    "tags": []
   },
   "outputs": [],
   "source": [
    "num_params = ansatz.num_parameters\n",
    "params = 2*np.pi*np.random.random(num_params)"
   ]
  },
  {
   "cell_type": "code",
   "execution_count": 8,
   "id": "d6a9a00d-c40a-4139-9039-63e398da1940",
   "metadata": {
    "tags": []
   },
   "outputs": [],
   "source": [
    "def build_cost_function(estimator, shots=int(1e4)):\n",
    "    \"\"\" Wrapper that allows for setting estimator for cost function\n",
    "    \"\"\"\n",
    "    def vqe_function(params, shots=shots):\n",
    "        \"\"\"Return estimate of energy from estimator\n",
    "\n",
    "        Parameters:\n",
    "            params (ndarray): Array of ansatz parameters\n",
    "            estimator (Estimator): Estimator instance\n",
    "            shots (int): Number of shots to take\n",
    "\n",
    "        Returns:\n",
    "            float: Energy estimate\n",
    "        \"\"\"\n",
    "        energy = estimator.run(ansatz, H_problem, shots=shots,\n",
    "                               parameter_values=params).result().values[0]\n",
    "        return energy\n",
    "    \n",
    "    return vqe_function"
   ]
  },
  {
   "cell_type": "code",
   "execution_count": 15,
   "id": "650109ba-888d-4395-b7b6-6069ffd3a15d",
   "metadata": {
    "tags": []
   },
   "outputs": [],
   "source": [
    "# Add path for helpers\n",
    "import sys  \n",
    "sys.path.insert(0, '.')\n",
    "\n",
    "from spsa import *\n",
    "\n",
    "sys.path.remove('.')\n",
    "\n",
    "optim = SPSA()"
   ]
  },
  {
   "cell_type": "code",
   "execution_count": null,
   "id": "c6be877c-262a-48dd-8af1-c14a444fe515",
   "metadata": {
    "tags": []
   },
   "outputs": [],
   "source": [
    "session = Session(service=service, backend=backend)\n",
    "estimator = Estimator(session=session)\n",
    "\n",
    "cost_func = build_cost_function(estimator)\n",
    "\n",
    "res = optim.minimize(cost_func, x0=params)"
   ]
  },
  {
   "cell_type": "code",
   "execution_count": null,
   "id": "b642abf0-03f2-438f-8383-07dfbe0e0b14",
   "metadata": {
    "tags": []
   },
   "outputs": [],
   "source": [
    "print(res)"
   ]
  },
  {
   "cell_type": "code",
   "execution_count": null,
   "id": "f350861e-6315-4e26-b594-82864b6d8fa3",
   "metadata": {},
   "outputs": [],
   "source": []
  }
 ],
 "metadata": {
  "kernelspec": {
   "display_name": "Python 3 (ipykernel)",
   "language": "python",
   "name": "python3"
  },
  "language_info": {
   "codemirror_mode": {
    "name": "ipython",
    "version": 3
   },
   "file_extension": ".py",
   "mimetype": "text/x-python",
   "name": "python",
   "nbconvert_exporter": "python",
   "pygments_lexer": "ipython3",
   "version": "3.11.4"
  },
  "widgets": {
   "application/vnd.jupyter.widget-state+json": {
    "state": {},
    "version_major": 2,
    "version_minor": 0
   }
  }
 },
 "nbformat": 4,
 "nbformat_minor": 5
}
