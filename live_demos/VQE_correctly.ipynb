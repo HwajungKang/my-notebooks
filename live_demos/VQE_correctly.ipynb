{
 "cells": [
  {
   "cell_type": "code",
   "execution_count": 1,
   "id": "e4015624-87ea-490d-9bf5-e5abf71ba10a",
   "metadata": {
    "tags": []
   },
   "outputs": [],
   "source": [
    "#-------------------------------\n",
    "# Step 0. Setting up the imports\n",
    "#-------------------------------\n",
    "import numpy as np\n",
    "\n",
    "# Qiskit from IBM\n",
    "from qiskit_ibm_runtime import QiskitRuntimeService, Estimator, Session, Options\n",
    "\n",
    "# Loading your IBM Quantum account(s)\n",
    "service = QiskitRuntimeService(channel=\"ibm_quantum\")\n",
    "\n",
    "# Define backends\n",
    "use_real = True\n",
    "\n",
    "if use_real:\n",
    "    backend = service.backend('ibmq_kolkata')\n",
    "else:\n",
    "    backend = service.backend('ibmq_qasm_simulator')"
   ]
  },
  {
   "cell_type": "code",
   "execution_count": 2,
   "id": "f46730e7-7cca-4438-8087-039fe5d63aee",
   "metadata": {},
   "outputs": [
    {
     "data": {
      "image/png": "[encoded data removed]",
      "text/plain": [
       "<Figure size 1039.79x200.667 with 1 Axes>"
      ]
     },
     "execution_count": 2,
     "metadata": {},
     "output_type": "execute_result"
    }
   ],
   "source": [
    "#---------------------------\n",
    "# Step 1. circuit selection \n",
    "#---------------------------\n",
    "\n",
    "# Qiskit circuit library\n",
    "from qiskit.circuit.library import EfficientSU2\n",
    "\n",
    "ansatz = EfficientSU2(2)\n",
    "\n",
    "ansatz.decompose().draw('mpl')"
   ]
  },
  {
   "cell_type": "code",
   "execution_count": 3,
   "id": "c70de674",
   "metadata": {},
   "outputs": [
    {
     "name": "stdout",
     "output_type": "stream",
     "text": [
      "SparsePauliOp(['YZ', 'ZI', 'ZZ', 'XX'],\n",
      "              coeffs=[ 0.39793742+0.j, -0.39793742+0.j, -0.0112801 +0.j,  0.1809312 +0.j])\n"
     ]
    }
   ],
   "source": [
    "#------------------------------\n",
    "# Step 2. Problem specification\n",
    "#------------------------------\n",
    "from qiskit.quantum_info import SparsePauliOp\n",
    "\n",
    "hamiltonian = SparsePauliOp.from_list([('YZ', 0.39793742484318045),\n",
    "                                     ('ZI', -0.39793742484318045),\n",
    "                                     ('ZZ', -0.01128010425623538),\n",
    "                                     ('XX', 0.18093119978423156)])\n",
    "\n",
    "print (hamiltonian)"
   ]
  },
  {
   "cell_type": "code",
   "execution_count": null,
   "id": "b38dc0c8",
   "metadata": {},
   "outputs": [
    {
     "name": "stdout",
     "output_type": "stream",
     "text": [
      "Iters. done: 63 [Current cost: -0.6433095535171505]\r"
     ]
    }
   ],
   "source": [
    "#------------------------------------\n",
    "# Step 3. Execute using the Estimator\n",
    "#------------------------------------\n",
    "\n",
    "# Import SPSA from module until SPSA is part of scipy\n",
    "from spsa import minimize_spsa\n",
    "#from scipy.optimize import minimize\n",
    "\n",
    "def cost_func(params, ansatz, hamiltonian, estimator):\n",
    "        \"\"\"Return estimate of energy from estimator\n",
    "\n",
    "        Parameters:\n",
    "            params (ndarray): Array of ansatz parameters\n",
    "            ansatz (QuantumCircuit): Parameterized ansatz circuit\n",
    "            hamiltonian (SparsePauliOp): Operator representation of Hamiltonian\n",
    "            estimator (Estimator): Estimator primitive instance\n",
    "\n",
    "        Returns:\n",
    "            float: Energy estimate\n",
    "        \"\"\"\n",
    "        energy = estimator.run(ansatz, hamiltonian,\n",
    "                               parameter_values=params).result().values[0]\n",
    "        return energy\n",
    "\n",
    "\n",
    "def build_callback(ansatz, hamiltonian, estimator, callback_dict):\n",
    "    \"\"\"Return callback function that uses Estimator instance,\n",
    "    and stores intermediate values into a dictionary.\n",
    "\n",
    "    Parameters:\n",
    "        ansatz (QuantumCircuit): Parameterized ansatz circuit\n",
    "        hamiltonian (SparsePauliOp): Operator representation of Hamiltonian\n",
    "        estimator (Estimator): Estimator primitive instance\n",
    "        callback_dict (dict): Mutable dict for storing values\n",
    "\n",
    "    Returns:\n",
    "        Callable: Callback function object\n",
    "    \"\"\"\n",
    "\n",
    "    def callback(current_vector):\n",
    "        \"\"\"Callback function storing previous solution vector,\n",
    "        computing the intermediate cost value, and displaying number\n",
    "        of completed iterations and average time per iteration.\n",
    "\n",
    "        Values are stored in pre-defined 'callback_dict' dictionary.\n",
    "\n",
    "        Parameters:\n",
    "            current_vector (ndarray): Current vector of parameters\n",
    "                                      returned by optimizer\n",
    "        \"\"\"\n",
    "        # Keep track of the number of iterations\n",
    "        callback_dict[\"iters\"] += 1\n",
    "        # Set the prev_vector to the latest one\n",
    "        callback_dict[\"prev_vector\"] = current_vector\n",
    "        # Compute the value of the cost function at the current vector\n",
    "        # This adds an additional function evaluation\n",
    "        current_cost = estimator.run(ansatz, hamiltonian,\n",
    "                                     parameter_values=current_vector).result().values[0]\n",
    "        callback_dict[\"cost_history\"].append(current_cost)\n",
    "        # Print to screen on single line\n",
    "        print(\n",
    "            \"Iters. done: {} [Current cost: {}]\".format(callback_dict[\"iters\"], current_cost),\n",
    "            end=\"\\r\",\n",
    "            flush=True,\n",
    "        )\n",
    "\n",
    "    return callback\n",
    "\n",
    "num_params = ansatz.num_parameters\n",
    "params = 2*np.pi*np.random.random(num_params)\n",
    "\n",
    "options = Options(optimization_level=1)\n",
    "options.execution.shots = 5000  # Options can be set using auto-complete.\n",
    "\n",
    "callback_dict = {\n",
    "    \"prev_vector\": None,\n",
    "    \"iters\": 0,\n",
    "    \"cost_history\": [],\n",
    "}\n",
    "\n",
    "with Session(service=service, backend=backend) as session:\n",
    "    estimator = Estimator(session=session, options=options)\n",
    "    callback = build_callback(ansatz, hamiltonian, estimator, callback_dict)\n",
    "    #res = minimize(cost_func, x0=params,\n",
    "    #               args=(ansatz, hamiltonian, estimator),\n",
    "    #               callback=callback,\n",
    "    #               maxiter=100, method='coblya')\n",
    "    res = minimize_spsa(cost_func, x0=params,\n",
    "                        args=(ansatz, hamiltonian, estimator),\n",
    "                        callback=callback,\n",
    "                        maxiter=100)"
   ]
  },
  {
   "cell_type": "code",
   "execution_count": null,
   "id": "b642abf0-03f2-438f-8383-07dfbe0e0b14",
   "metadata": {
    "tags": []
   },
   "outputs": [],
   "source": [
    "print(res)"
   ]
  },
  {
   "cell_type": "code",
   "execution_count": null,
   "id": "f350861e-6315-4e26-b594-82864b6d8fa3",
   "metadata": {},
   "outputs": [],
   "source": [
    "import matplotlib.pyplot as plt\n",
    "\n",
    "plt.plot(callback_dict['cost_history'], lw=2)\n",
    "plt.axhline(y=np.linalg.eigvalsh(hamiltonian.to_matrix())[0], color='r', linestyle='--')\n",
    "plt.xlabel('Iteration')\n",
    "plt.ylabel('Energy')\n",
    "plt.show()"
   ]
  },
  {
   "cell_type": "code",
   "execution_count": null,
   "id": "187d2b06-0bb3-431c-9446-e107969410dd",
   "metadata": {},
   "outputs": [],
   "source": []
  }
 ],
 "metadata": {
  "kernelspec": {
   "display_name": "Python 3 (ipykernel)",
   "language": "python",
   "name": "python3"
  },
  "language_info": {
   "codemirror_mode": {
    "name": "ipython",
    "version": 3
   },
   "file_extension": ".py",
   "mimetype": "text/x-python",
   "name": "python",
   "nbconvert_exporter": "python",
   "pygments_lexer": "ipython3",
   "version": "3.11.4"
  },
  "widgets": {
   "application/vnd.jupyter.widget-state+json": {
    "state": {},
    "version_major": 2,
    "version_minor": 0
   }
  }
 },
 "nbformat": 4,
 "nbformat_minor": 5
}
